{
 "cells": [
  {
   "cell_type": "markdown",
   "id": "deee2b3b",
   "metadata": {},
   "source": [
    "# Constructor :"
   ]
  },
  {
   "cell_type": "markdown",
   "id": "f338658c",
   "metadata": {},
   "source": [
    "1. What is a constructor in Python? Explain its purpose and usage."
   ]
  },
  {
   "cell_type": "markdown",
   "id": "c556cc35",
   "metadata": {},
   "source": [
    "In python,a constructor is a special method which is automatically called when an object is created from class."
   ]
  },
  {
   "cell_type": "markdown",
   "id": "0b5bf36b",
   "metadata": {},
   "source": [
    "The purpose of the constructor is to intialize the attributes of the object and perform any setup that is necessary for the object to function properly. The constructor method in python is named as __ init __"
   ]
  },
  {
   "cell_type": "markdown",
   "id": "5184f781",
   "metadata": {},
   "source": [
    "Constructors are generally used in python for instantiating an object.The task of constructors is to initialize(assign values) to the data members of the class when an object of the class is created. In Python the __ init __ () method is called the constructor and is always called when an object is created."
   ]
  },
  {
   "cell_type": "code",
   "execution_count": 1,
   "id": "1b295862",
   "metadata": {},
   "outputs": [
    {
     "name": "stdout",
     "output_type": "stream",
     "text": [
      "Constructors called with parameters: value1 value2\n"
     ]
    }
   ],
   "source": [
    "#Example\n",
    "class Myclass:\n",
    "    def __init__(self,parameter1,parameter2):#Parameterized Constructor\n",
    "        self.attribute1=parameter1\n",
    "        self.attribute2=parameter2\n",
    "        print('Constructors called with parameters:',parameter1,parameter2)\n",
    "\n",
    "myinstance=Myclass('value1','value2')#Creating an instance of the class"
   ]
  },
  {
   "cell_type": "markdown",
   "id": "19c4915b",
   "metadata": {},
   "source": [
    "2. Differentiate between a parameterless constructor and a parameterized constructor in Python."
   ]
  },
  {
   "cell_type": "markdown",
   "id": "18f8cc88",
   "metadata": {},
   "source": [
    "Parameterless Constructor-\n",
    "\n",
    ".A parameterless Constructor also known as default constructor takes no parameter except self which represent the instance of the class\n",
    "\n",
    ".It is defined without any explicit parameters within the paranthesis of the '__ init __ ' method\n",
    "\n",
    ".Object of this class can be created without providing any argument during instantiation."
   ]
  },
  {
   "cell_type": "markdown",
   "id": "14efd31e",
   "metadata": {},
   "source": [
    "Parameterized Constructor-\n",
    "\n",
    ".A parameterized constructor takes one or more parameters with the self parameter.\n",
    "\n",
    ".It is defined with explicit parameter within the paranthesis of the ' __ init __ ' method\n",
    "\n",
    ".Object of this class must provide values of this parameters when instantiated."
   ]
  },
  {
   "cell_type": "markdown",
   "id": "b0852831",
   "metadata": {},
   "source": [
    "3. How do you define a constructor in a Python class? Provide an example."
   ]
  },
  {
   "cell_type": "markdown",
   "id": "fc927aea",
   "metadata": {},
   "source": [
    "In Python a constructor is a special method that is automatically called when an object of a class is created. The constructor method is named ' __ init __ '.It allows you to intialize the attributes of the class and perform any setup that is needed when an object is instantiated.\n",
    "\n",
    "Example-"
   ]
  },
  {
   "cell_type": "code",
   "execution_count": 2,
   "id": "714f593f",
   "metadata": {},
   "outputs": [
    {
     "name": "stdout",
     "output_type": "stream",
     "text": [
      "Attribute1: hello\n",
      "Attribute2: World\n"
     ]
    }
   ],
   "source": [
    "class Myclass:\n",
    "    def __init__(self,param1,param2):\n",
    "        #This is the constructor\n",
    "        self.attribute1=param1\n",
    "        self.attribute2=param2\n",
    "        \n",
    "    def display_attribute(self):\n",
    "        print(f'Attribute1: {self.attribute1}')\n",
    "        print(f'Attribute2: {self.attribute2}')\n",
    "    \n",
    "myobject=Myclass('hello','World')\n",
    "myobject.display_attribute()"
   ]
  },
  {
   "cell_type": "markdown",
   "id": "379ca839",
   "metadata": {},
   "source": [
    "Here The ' __ init __ ' method takes three parameter one is self(a reference to the instance of the class) and two additional parameters(param1,param2).\n",
    "\n",
    "Inside the constructor attributes(attribute1,attribute2) are assigned values based on the parameters passed to the constructor.\n",
    "\n",
    "The display attribute method is a simple method that prints the value of the attribute.\n",
    "\n",
    "when we create an object of class Myclass by calling Myclass('Hello','World'),the ' __ init __ ' method is automatically invoked and the attributes are initialized. Finally the display attributes method is called to print the values of the attribute."
   ]
  },
  {
   "cell_type": "markdown",
   "id": "3a056d6e",
   "metadata": {},
   "source": [
    "4. Explain the `__init__` method in Python and its role in constructors."
   ]
  },
  {
   "cell_type": "markdown",
   "id": "b95c9648",
   "metadata": {},
   "source": [
    "In python the ' __ init __ ' method is a special method within a class that is automatically called when an object of that class is created. It stands for intialize and often reffered to as the constructor method. The primary method of the ' __ init __ ' method is to initialize the attributes of the object and perform any necessary setup during the object creation.\n",
    "\n",
    "Here are the key points about the ' __ init __ ' method and it's role in constructors:\n",
    "\n",
    "Intialization:-The primary purpose of the __ init __ method is to initialize the attributes of the class. You can think of it as the method that sets up the initial state of the object.\n",
    "\n",
    "Automatic Invocation: -  When an object is created from a class, the __ init __ method is automatically called. It takes the instance of the class (self) and any additional parameters that are passed during object creation.\n",
    "\n",
    "Parameters: - The __ init __ method can take parameters in addition to the mandatory self parameter. These additional parameters allow you to pass values at the time of object creation, which can be used to initialize attributes.\n",
    "\n",
    "Attribute Assignment: - Inside the __ init __ method, you typically see attribute assignments where values are assigned to the object's attributes using the self reference."
   ]
  },
  {
   "cell_type": "markdown",
   "id": "2c0b02da",
   "metadata": {},
   "source": [
    "5. In a class named `Person`, create a constructor that initializes the `name` and `age` attributes. Provide an example of creating an object of this class."
   ]
  },
  {
   "cell_type": "code",
   "execution_count": 3,
   "id": "3fec1153",
   "metadata": {},
   "outputs": [
    {
     "name": "stdout",
     "output_type": "stream",
     "text": [
      "The name of the person is: Viswa and age: 30\n",
      "The name of the person is: Sudhansu and age: 35\n"
     ]
    }
   ],
   "source": [
    "class Person:\n",
    "    def __init__(self,name,age):\n",
    "        self.name=name\n",
    "        self.age=age\n",
    "        \n",
    "    def display_attribute(self):\n",
    "        print(f'The name of the person is: {self.name} and age: {self.age}',)\n",
    "        \n",
    "        \n",
    "        \n",
    "person1=Person('Viswa',30)\n",
    "person2=Person('Sudhansu',35)\n",
    "\n",
    "person1.display_attribute()\n",
    "person2.display_attribute()"
   ]
  },
  {
   "cell_type": "markdown",
   "id": "c7e48561",
   "metadata": {},
   "source": [
    "6. How can you call a constructor explicitly in Python? Give an example."
   ]
  },
  {
   "cell_type": "markdown",
   "id": "7901c3b3",
   "metadata": {},
   "source": [
    "In Python,you can call a constructor explicitly by using the class name followed by paranthesis. This is useful when you want to create an instance of a class without using the conventional object instantiation syntax.\n",
    "\n",
    "Example-"
   ]
  },
  {
   "cell_type": "code",
   "execution_count": 4,
   "id": "7312f759",
   "metadata": {},
   "outputs": [
    {
     "name": "stdout",
     "output_type": "stream",
     "text": [
      "Constructor called with value: 23\n"
     ]
    }
   ],
   "source": [
    "class Myclass:\n",
    "    def __init__(self,value):#Constructor\n",
    "        self.value=value\n",
    "        print(f'Constructor called with value: {value}')\n",
    "my_instance=Myclass.__init__(Myclass,23)#Explicitly called"
   ]
  },
  {
   "cell_type": "markdown",
   "id": "b9bfb91c",
   "metadata": {},
   "source": [
    "7. What is the significance of the `self` parameter in Python constructors? Explain with an example."
   ]
  },
  {
   "cell_type": "markdown",
   "id": "8a950d46",
   "metadata": {},
   "source": [
    "In python the self parameter in constructors and methods is a convention that refers to the instances of the class.It allows you to access and manipulate instance variable within the class.when a class method is called the self parameter is automatically passed,providing a reference to the instance on which the method is invoked.\n",
    "\n",
    "Example:-"
   ]
  },
  {
   "cell_type": "code",
   "execution_count": 5,
   "id": "36d1ba28",
   "metadata": {},
   "outputs": [
    {
     "name": "stdout",
     "output_type": "stream",
     "text": [
      "The name is: Priyabrata\n",
      "The age: 22\n",
      "The name is: Kshirod\n",
      "The age: 29\n"
     ]
    }
   ],
   "source": [
    "class info:\n",
    "    def __init__(self,name,age):#Constructor\n",
    "        self.name=name\n",
    "        self.age=age\n",
    "        \n",
    "    def display_info(self):\n",
    "        print('The name is:',self.name)\n",
    "        print('The age:',self.age)\n",
    "        \n",
    "#Creating instance of a class\n",
    "person1=info('Priyabrata',22)\n",
    "person2=info('Kshirod',29)\n",
    "\n",
    "#Accessing instance variable using self parameter\n",
    "person1.display_info()\n",
    "person2.display_info()"
   ]
  },
  {
   "cell_type": "markdown",
   "id": "9ebcc355",
   "metadata": {},
   "source": [
    "In this example when you create an instance of info with person1=info('Priyabrata',22) the self parameter in the __ init __ method refers to the newly created instance (person1). The values \"Priyabrata\" and 22 are assigned to the name and age instance variables, respectively.\n",
    "\n",
    "Later, when we call person1.display_info(), the self parameter in the display_info method refers to the same instance (person1). As a result, it can access and print the values of the name and age instance variables."
   ]
  },
  {
   "cell_type": "markdown",
   "id": "8c615819",
   "metadata": {},
   "source": [
    "8. Discuss the concept of default constructors in Python. When are they used?"
   ]
  },
  {
   "cell_type": "markdown",
   "id": "03226cd8",
   "metadata": {},
   "source": [
    "In Python, a default constructor is a constructor that is automatically provided if a class does not explicitly define one. The default constructor is also known as the \"empty\" or \"implicit\" constructor. It takes no arguments other than the reference to the instance itself (usually named self), and it does not perform any specific initialization.\n",
    "\n",
    "Example:-"
   ]
  },
  {
   "cell_type": "code",
   "execution_count": 6,
   "id": "85acd0c7",
   "metadata": {},
   "outputs": [
    {
     "name": "stdout",
     "output_type": "stream",
     "text": [
      "It is the default Constructor.\n"
     ]
    }
   ],
   "source": [
    "class Myclass:\n",
    "    def show_method(self):\n",
    "        print('It is the default Constructor.')\n",
    "#Creating instance of Myclass\n",
    "myinstance=Myclass()\n",
    "#Calling the instance of a class\n",
    "myinstance.show_method()"
   ]
  },
  {
   "cell_type": "markdown",
   "id": "67023324",
   "metadata": {},
   "source": [
    "The default constructors are used when a class does not define it's own constructor explicitly.If a class does have an __ init __ method, it is referred to as a user-defined constructor, and the default constructor is not automatically provided. In such cases, the user-defined constructor is responsible for initializing the instance variables and performing any necessary setup."
   ]
  },
  {
   "cell_type": "markdown",
   "id": "07112b03",
   "metadata": {},
   "source": [
    "9. Create a Python class called `Rectangle` with a constructor that initializes the `width` and `height` attributes. Provide a method to calculate the area of the rectangle."
   ]
  },
  {
   "cell_type": "code",
   "execution_count": 7,
   "id": "92a139cd",
   "metadata": {},
   "outputs": [
    {
     "name": "stdout",
     "output_type": "stream",
     "text": [
      "The area of the rectangle is: 150\n",
      "The area of the rectangle is: 440\n"
     ]
    }
   ],
   "source": [
    "class Rectangle:\n",
    "    def __init__(self,width,height):\n",
    "        self.width=width\n",
    "        self.height=height\n",
    "        \n",
    "    def calculate_area(self):\n",
    "        area=self.width*self.height\n",
    "        print('The area of the rectangle is:',area)\n",
    "\n",
    "rect1=Rectangle(10,15)\n",
    "rect1.calculate_area()\n",
    "rect2=Rectangle(20,22)\n",
    "rect2.calculate_area()"
   ]
  },
  {
   "cell_type": "markdown",
   "id": "cf59d88b",
   "metadata": {},
   "source": [
    "10. How can you have multiple constructors in a Python class? Explain with an example."
   ]
  },
  {
   "cell_type": "markdown",
   "id": "a9803dd8",
   "metadata": {},
   "source": [
    "In python you can't have multiple constructors in the same way you might have in some other languages.However, you can achieve similar functionality using default parameter values and class methods.By providing default values for certain parameters in the constructor, you can create the effect of multiple constructors. Additionally you can use class methods to provide alternative ways to create instances.\n",
    "\n",
    "Example:-"
   ]
  },
  {
   "cell_type": "code",
   "execution_count": 8,
   "id": "8d644665",
   "metadata": {},
   "outputs": [
    {
     "name": "stdout",
     "output_type": "stream",
     "text": [
      "Priya is 27 years old.\n",
      "kiran is 33 years old.\n"
     ]
    }
   ],
   "source": [
    "class Myclass:\n",
    "    def __init__(self,name,age=0):\n",
    "        self.name=name\n",
    "        self.age=age\n",
    "\n",
    "\n",
    "    @classmethod\n",
    "    def create_from_birth_year(cls,name,birth_year):\n",
    "        age=cls.calculate_age(birth_year)\n",
    "        return cls(name,age)\n",
    "\n",
    "    @staticmethod\n",
    "    def calculate_age(birth_year):\n",
    "        current_year=2023\n",
    "        return current_year-birth_year\n",
    "\n",
    "\n",
    "person1=Myclass('Priya',27)#using the primary constructor\n",
    "\n",
    "print(f'{person1.name} is {person1.age} years old.')\n",
    "\n",
    "person2=Myclass.create_from_birth_year(\"kiran\",1990)#using the alternative constructor through a class method\n",
    "\n",
    "print(f'{person2.name} is {person2.age} years old.')"
   ]
  },
  {
   "cell_type": "markdown",
   "id": "3a1783c9",
   "metadata": {},
   "source": [
    "11. What is method overloading, and how is it related to constructors in Python?"
   ]
  },
  {
   "cell_type": "markdown",
   "id": "96043972",
   "metadata": {},
   "source": [
    "Method overloading refers to the ability of a class to define multiple methods with the same name but with different parameters or different number of parameters."
   ]
  },
  {
   "cell_type": "markdown",
   "id": "e0a4d24d",
   "metadata": {},
   "source": [
    "Now the relation between method overloading and constructors are:\n",
    "\n",
    "\n",
    "i) Constructor Overloading:-\n",
    "In python we can have simulate constructor overloading by using default parameter values or by using alternative methods or class methods to intialize instances in different ways.\n",
    "\n",
    "Example:-"
   ]
  },
  {
   "cell_type": "code",
   "execution_count": 9,
   "id": "cc327a85",
   "metadata": {},
   "outputs": [
    {
     "name": "stdout",
     "output_type": "stream",
     "text": [
      "param1:Value1, param2:None\n",
      "param1:Value1, param2:Value2\n"
     ]
    }
   ],
   "source": [
    "class Myclass:\n",
    "    def __init__(self,param1,param2=None):\n",
    "        self.param1=param1\n",
    "        self.param2=param2\n",
    "        \n",
    "    def display_res(self):\n",
    "        print(f'param1:{self.param1}, param2:{self.param2}')\n",
    "        \n",
    "        \n",
    "obj1=Myclass('Value1')\n",
    "obj2=Myclass('Value1','Value2')\n",
    "\n",
    "obj1.display_res()\n",
    "obj2.display_res()\n",
    "\n",
    "#Here the __init__ method has two parameters, \n",
    "#but second parameter has a default value of none.This allows you to create instances\n",
    "#with either one or two arguments"
   ]
  },
  {
   "cell_type": "markdown",
   "id": "375dca41",
   "metadata": {},
   "source": [
    "ii)Method overloading:- Python supports a form of method overloading using default parameter values or variable-length arguments.\n",
    "\n",
    "\n",
    "In python you can define mutliple methods with the same name but different parameters\n",
    "\n",
    "Example:-"
   ]
  },
  {
   "cell_type": "code",
   "execution_count": 10,
   "id": "c86b6c60",
   "metadata": {},
   "outputs": [
    {
     "name": "stdout",
     "output_type": "stream",
     "text": [
      "3\n",
      "9\n"
     ]
    }
   ],
   "source": [
    "class Mathop:\n",
    "    def add(self,x,y=0):\n",
    "        return x+y\n",
    "    \n",
    "mathobj=Mathop()\n",
    "res1=mathobj.add(3)\n",
    "res2=mathobj.add(4,5)\n",
    "\n",
    "print(res1)\n",
    "print(res2)\n",
    "\n",
    "#Here the add method is overloaded by providing a default value for the y parameter.\n",
    "#This allows calling method with one or two arguments."
   ]
  },
  {
   "cell_type": "markdown",
   "id": "098b72e3",
   "metadata": {},
   "source": [
    "12. Explain the use of the `super()` function in Python constructors. Provide an example."
   ]
  },
  {
   "cell_type": "markdown",
   "id": "ed69dabf",
   "metadata": {},
   "source": [
    "In python The super() function is used to call a method from a parent class. This is particularly useful in the context of constructors when you want to invoke the constructor of a parent class within the constructor of a child class. It allows you to initialize the attributes or perform the action defined in the parent class before adding specific behavior in the child class.\n",
    "\n",
    "Example:-"
   ]
  },
  {
   "cell_type": "code",
   "execution_count": 11,
   "id": "4af5effb",
   "metadata": {},
   "outputs": [
    {
     "name": "stdout",
     "output_type": "stream",
     "text": [
      "Parentclass Constructor called with name: Viswa\n",
      "Child class constructor called with age: 45\n"
     ]
    }
   ],
   "source": [
    "class Parentclass:\n",
    "    def __init__(self,name):\n",
    "        self.name=name\n",
    "        print('Parentclass Constructor called with name:',self.name)\n",
    "        \n",
    "    \n",
    "class Childclass(Parentclass):\n",
    "    def __init__(self,name,age):\n",
    "        super().__init__(name)#calling the constructor of parent class\n",
    "        self.age=age\n",
    "        print('Child class constructor called with age:',self.age)\n",
    "        \n",
    "        \n",
    "child_instance=Childclass('Viswa',45)#creating the instance of the child class"
   ]
  },
  {
   "cell_type": "markdown",
   "id": "ceb6b1d1",
   "metadata": {},
   "source": [
    "13. Create a class called `Book` with a constructor that initializes the `title`, `author`, and `published_year` attributes. Provide a method to display book details."
   ]
  },
  {
   "cell_type": "code",
   "execution_count": 12,
   "id": "54876853",
   "metadata": {},
   "outputs": [
    {
     "name": "stdout",
     "output_type": "stream",
     "text": [
      "The details of the book:\n",
      "Name of the book:Sherlock Holmes\n",
      "Author:Arthur Conan Doyle\n",
      "Published Year:1859\n",
      "\n",
      "The details of the book:\n",
      "Name of the book:Harry Potter\n",
      "Author:J K Rowling\n",
      "Published Year:1997\n"
     ]
    }
   ],
   "source": [
    "class Book:\n",
    "    def __init__(self,title,author,published_year):\n",
    "        self.title=title\n",
    "        self.author=author\n",
    "        self.published_year=published_year\n",
    "        \n",
    "    def display_info(self):\n",
    "        print('The details of the book:')\n",
    "        print(f'Name of the book:{self.title}')\n",
    "        print(f'Author:{self.author}')\n",
    "        print(f'Published Year:{self.published_year}')\n",
    "        \n",
    "\n",
    "book1=Book('Sherlock Holmes','Arthur Conan Doyle',1859)\n",
    "book2=Book('Harry Potter','J K Rowling',1997)\n",
    "\n",
    "book1.display_info()\n",
    "print()\n",
    "book2.display_info()"
   ]
  },
  {
   "cell_type": "markdown",
   "id": "9daae735",
   "metadata": {},
   "source": [
    "14. Discuss the differences between constructors and regular methods in Python classes."
   ]
  },
  {
   "cell_type": "markdown",
   "id": "31d14202",
   "metadata": {},
   "source": [
    "Purpose:\n",
    "\n",
    "Constructors: Constructors are special methods used for initializing object instances. In Python, the constructor method is named __ init __ . It is automatically called when an object is created from the class and is used to set up initial values for object attributes.\n",
    "\n",
    "\n",
    "Regular Methods: Regular methods are functions defined within a class that perform specific actions or computations. They can be called on instances of the class and can access and modify instance attributes.\n",
    "\n",
    "\n",
    "Name:\n",
    "\n",
    "Constructors: The constructor method is named __ init __ . It takes self as its first parameter, followed by other parameters used for initialization.\n",
    "\n",
    "\n",
    "Regular Methods: Regular methods can have any name, but they conventionally take self as their first parameter to reference the instance.\n",
    "\n",
    "\n",
    "Invocation:\n",
    "\n",
    "\n",
    "Constructors: Constructors are automatically called when an object is created using the class. They are not explicitly invoked.\n",
    "\n",
    "\n",
    "Regular Methods: Regular methods are explicitly called on instances of the class. They require an instance to be created before being called.\n",
    "\n",
    "\n",
    "Return Value:\n",
    "\n",
    "Constructors: Constructors don't have a return value. They are responsible for initializing instance attributes.\n",
    "\n",
    "\n",
    "Regular Methods: Regular methods can have a return value, and they can perform various actions or computations. The return value is optional.\n",
    "\n",
    "\n",
    "Use of self:\n",
    "\n",
    "Constructors: The first parameter of the constructor is self, which is a reference to the instance being created. It is used to access and modify instance attributes.\n",
    "\n",
    "\n",
    "Regular Methods: The first parameter of regular methods is also self, allowing them to access and modify instance attributes. However, self can be named differently (but conventionally kept as self).\n",
    "\n",
    "Example:-"
   ]
  },
  {
   "cell_type": "code",
   "execution_count": 13,
   "id": "11fdca19",
   "metadata": {},
   "outputs": [
    {
     "name": "stdout",
     "output_type": "stream",
     "text": [
      "example\n",
      "Regular method called with attribute: example\n"
     ]
    }
   ],
   "source": [
    "class MyClass:\n",
    "    def __init__(self, attribute):\n",
    "        self.attribute = attribute\n",
    "\n",
    "    def regular_method(self):\n",
    "        print(f\"Regular method called with attribute: {self.attribute}\")\n",
    "\n",
    "# Creating an instance and invoking the constructor\n",
    "obj = MyClass(\"example\")\n",
    "\n",
    "# Accessing instance attribute\n",
    "print(obj.attribute)\n",
    "\n",
    "# Calling a regular method\n",
    "obj.regular_method()\n"
   ]
  },
  {
   "cell_type": "markdown",
   "id": "c5248bb0",
   "metadata": {},
   "source": [
    "15. Explain the role of the `self` parameter in instance variable initialization within a constructor."
   ]
  },
  {
   "cell_type": "markdown",
   "id": "0c745b73",
   "metadata": {},
   "source": [
    "The self parameter in a constructor refers to the instance of the class and is used to initialize instance variables. It allows each object created from the class to have its own set of variables, ensuring data encapsulation and instance-specific behavior.\n",
    "\n",
    "The role of self parameter in instance variable initialization within a constructor:\n",
    "\n",
    "i)self as the First Parameter:\n",
    "\n",
    "  In Python, the first parameter of any instance method (including the constructor) is conventionally named self. However, this   is just a convention; you could technically name it something else, but it's highly recommended to stick with self for clarity   and consistency.\n",
    "  \n",
    "  \n",
    "  self refers to the instance of the class itself. When a method is called, the instance is passed automatically as the first     parameter.\n",
    "  \n",
    "ii)Instance Variables:\n",
    "\n",
    "\n",
    "  Inside the constructor (__ init __ method), you define instance variables using the self keyword.\n",
    "\n",
    "\n",
    "  self.instance_variable1 and self.instance_variable2 are created and associated with the instance of the class. These variables   are specific to each instance of the class.\n",
    "  \n",
    "  \n",
    "iii)Initialization with Constructor Parameters:\n",
    "\n",
    "   The constructor takes parameters (parameter1 and parameter2 in this case), and it assigns these parameters to the instance      variables using the self keyword.\n",
    "   \n",
    "   By using self.instance_variable1 = parameter1 and self.instance_variable2 = parameter2, you are initializing the instance        variables with the values passed to the constructor when an object of the class is created."
   ]
  },
  {
   "cell_type": "markdown",
   "id": "c0da49db",
   "metadata": {},
   "source": [
    "16. How do you prevent a class from having multiple instances by using constructors in Python? Provide an example."
   ]
  },
  {
   "cell_type": "markdown",
   "id": "51b1e952",
   "metadata": {},
   "source": [
    "In Python, you can prevent a class from having multiple instances by using a class variable to track whether an instance has been created or not. You can then check this variable in the constructor and raise an exception if an attempt is made to create a second instance. Here's an example:"
   ]
  },
  {
   "cell_type": "code",
   "execution_count": 14,
   "id": "6c985065",
   "metadata": {},
   "outputs": [
    {
     "name": "stdout",
     "output_type": "stream",
     "text": [
      "First Instance\n",
      "Exception:An Instance of this class already exists.\n"
     ]
    }
   ],
   "source": [
    "class SingletonClass:\n",
    "    _instance=None\n",
    "    \n",
    "    def __new__(cls,*args,**kwargs):\n",
    "        if not cls._instance:\n",
    "             cls._instance=super(SingletonClass,cls).__new__(cls)\n",
    "        else:\n",
    "            raise Exception('An Instance of this class already exists.')\n",
    "        return cls._instance\n",
    "    def __init__(self,value):\n",
    "        if not hasattr(self,'intialized'):\n",
    "            self.value=value\n",
    "            self.intialized=True\n",
    "\n",
    "instance1=SingletonClass(value='First Instance')\n",
    "print(instance1.value)\n",
    "\n",
    "try:\n",
    "    instance2=SingletonClass(value='Second Instance')\n",
    "except Exception as e:\n",
    "    print(f\"Exception:{e}\")\n",
    "    \n",
    "        "
   ]
  },
  {
   "cell_type": "markdown",
   "id": "5942de37",
   "metadata": {},
   "source": [
    "The class variable _instance is used to keep track of whether an instance has been created or not.\n",
    "\n",
    "\n",
    "The __ new __ method is overridden to create an instance only if _instance is None. If an instance already exists, it raises an exception.\n",
    "\n",
    "\n",
    "The __ init __ method is used to initialize instance variables. The initialized attribute is used to make sure that the initialization is performed only once.\n",
    "\n",
    "\n",
    "Using this approach, attempts to create multiple instances of SingletonClass will result in an exception being raised, enforcing the singleton pattern."
   ]
  },
  {
   "cell_type": "markdown",
   "id": "f9dc82cd",
   "metadata": {},
   "source": [
    "17. Create a Python class called `Student` with a constructor that takes a list of subjects as a parameter and initializes the `subjects` attribute."
   ]
  },
  {
   "cell_type": "code",
   "execution_count": 15,
   "id": "85092441",
   "metadata": {},
   "outputs": [
    {
     "name": "stdout",
     "output_type": "stream",
     "text": [
      "List of subjects are:\n",
      "Python\n",
      "Java\n",
      "C\n",
      "C#\n",
      "Scala\n"
     ]
    }
   ],
   "source": [
    "class Student:\n",
    "    def __init__(self,subjects):\n",
    "        self.subjects=subjects\n",
    "        \n",
    "    def display_subjects(self):\n",
    "        print('List of subjects are:')\n",
    "        for subject in self.subjects:\n",
    "            print(subject)\n",
    "            \n",
    "sublist=['Python','Java','C','C#','Scala']\n",
    "student1=Student(sublist)\n",
    "student1.display_subjects()"
   ]
  },
  {
   "cell_type": "markdown",
   "id": "2974e4d6",
   "metadata": {},
   "source": [
    "18. What is the purpose of the `__del__` method in Python classes, and how does it relate to constructors?"
   ]
  },
  {
   "cell_type": "markdown",
   "id": "0d2f3601",
   "metadata": {},
   "source": [
    "The __ del __ method in Python classes is a special method used for defining the behavior of an object when it is about to be destroyed, or deallocated, usually as a result of the del statement or when the last reference to the object is deleted. It is the counterpart to the __ init __ method, which is responsible for initializing the object when it is created.\n",
    "\n",
    "Purpose of __ del __ method:\n",
    "i)The primary purpose of the __  del  __ method is to perform cleanup or finalization tasks before an object is removed from memory.\n",
    "\n",
    "\n",
    "ii)It can be used to release resources, close files, or perform other actions that should be taken before an object is no longer accessible.\n",
    "\n",
    "Relationship with constructors:\n",
    "i)While the __ init __ method is called when an object is created, the __ del __ method is called just before the object is destroyed.\n",
    "\n",
    "ii)Constructors ( __ init __ ) are responsible for setting up the initial state of the object, initializing attributes, and performing other tasks necessary for the object to function properly.\n",
    "\n",
    "iii)Destructors ( __ del __ ) are used for cleanup tasks, such as releasing resources or closing connections, before the object is removed from memory.\n",
    "\n",
    "Example:-"
   ]
  },
  {
   "cell_type": "code",
   "execution_count": 16,
   "id": "e16d07e5",
   "metadata": {},
   "outputs": [
    {
     "name": "stdout",
     "output_type": "stream",
     "text": [
      "Object Hello is created.\n",
      "Object Hello is being destroyed.\n"
     ]
    }
   ],
   "source": [
    "class Myclass:\n",
    "    def __init__(self,name):\n",
    "        self.name=name\n",
    "        print(f'Object {self.name} is created.')\n",
    "        \n",
    "    def __del__(self):\n",
    "        print(f'Object {self.name} is being destroyed.')\n",
    "\n",
    "obj=Myclass('Hello')#Creating an object\n",
    "\n",
    "del obj#deleting an object explicitly"
   ]
  },
  {
   "cell_type": "markdown",
   "id": "f6ba8f37",
   "metadata": {},
   "source": [
    "19. Explain the use of constructor chaining in Python. Provide a practical example."
   ]
  },
  {
   "cell_type": "markdown",
   "id": "2a99399c",
   "metadata": {},
   "source": [
    "Constructor chaining in Python refers to the concept of a subclass calling the constructor of its superclass, enabling the initialization of both the subclass and superclass components. This helps avoid code duplication and ensures that the entire object hierarchy is properly initialized. The super() function is commonly used to achieve constructor chaining.\n",
    "\n",
    "Example:-"
   ]
  },
  {
   "cell_type": "code",
   "execution_count": 17,
   "id": "e7a2ee92",
   "metadata": {},
   "outputs": [
    {
     "name": "stdout",
     "output_type": "stream",
     "text": [
      "Animal of species Dog created.\n",
      "The Dog named buddy is created.\n"
     ]
    }
   ],
   "source": [
    "class Animal:\n",
    "    def __init__(self,species):\n",
    "        self.species=species\n",
    "        print(f'Animal of species {self.species} created.')\n",
    "        \n",
    "class Dog(Animal):\n",
    "    def __init__(self,name,breed):\n",
    "        super().__init__(species='Dog')\n",
    "        self.name=name\n",
    "        self.breed=breed\n",
    "        print(f'The Dog named {self.name} is created.')\n",
    "        \n",
    "my_dog=Dog('buddy','Labrador')"
   ]
  },
  {
   "cell_type": "markdown",
   "id": "1c19ee4d",
   "metadata": {},
   "source": [
    "This helps in organizing and maintaining a clear hierarchy of classes while avoiding redundancy in initialization code. The use of super() allows you to call methods or constructors from the superclass, ensuring that the complete object hierarchy is properly set up."
   ]
  },
  {
   "cell_type": "markdown",
   "id": "be278914",
   "metadata": {},
   "source": [
    "20. Create a Python class called `Car` with a default constructor that initializes the `make` and `model` attributes. Provide a method to display car information."
   ]
  },
  {
   "cell_type": "code",
   "execution_count": 18,
   "id": "75301d12",
   "metadata": {},
   "outputs": [
    {
     "name": "stdout",
     "output_type": "stream",
     "text": [
      "The car details are:\n",
      "Make:Mercedes, model:Gwagon\n",
      "\n",
      "The car details are:\n",
      "Make:BMW, model:Z4\n"
     ]
    }
   ],
   "source": [
    "class Car:\n",
    "    def __init__(self,make,model):\n",
    "        self.make=make\n",
    "        self.model=model\n",
    "        \n",
    "    def display_info(self):\n",
    "        print('The car details are:')\n",
    "        print(f'Make:{self.make}, model:{self.model}')\n",
    "        \n",
    "car1=Car('Mercedes','Gwagon')\n",
    "car2=Car('BMW','Z4')\n",
    "\n",
    "car1.display_info()\n",
    "print()\n",
    "car2.display_info()"
   ]
  },
  {
   "cell_type": "markdown",
   "id": "b634a39a",
   "metadata": {},
   "source": [
    "# Inheritance:"
   ]
  },
  {
   "cell_type": "markdown",
   "id": "a17fa3a4",
   "metadata": {},
   "source": [
    "1. What is inheritance in Python? Explain its significance in object-oriented programming."
   ]
  },
  {
   "cell_type": "markdown",
   "id": "2bbd1e1f",
   "metadata": {},
   "source": [
    "Inheritance is a fundamental concept in object-oriented programming (OOP) that allows a class (called a subclass or derived class) to inherit attributes and behaviors from another class (called a superclass or base class). In Python, you can create a new class by deriving it from an existing class. The new class is then known as a subclass, and it inherits attributes and methods from the superclass.\n",
    "\n",
    "Significance of Inheritance in OOP is :-\n",
    "\n",
    "Code Reusability: Inheritance promotes code reuse by allowing a subclass to reuse the attributes and methods of its superclass. This reduces redundancy and makes the code more modular.\n",
    "\n",
    "Polymorphism: Inheritance supports polymorphism, allowing objects of a derived class to be treated as objects of the base class. This facilitates flexibility in code design and enables the use of a common interface for related classes.\n",
    "\n",
    "Overriding Methods: Subclasses can override methods of the superclass, providing specific implementations. This allows customization of behavior while maintaining a common interface defined by the base class.\n",
    "\n",
    "Hierarchy and Organization: Inheritance helps in organizing classes into a hierarchical structure. This reflects the relationships between different types of objects in the real world, making the code more intuitive and easier to understand.\n",
    "\n",
    "Extensibility: New classes can be easily added to the system without modifying existing code. This extensibility is a key feature of OOP and is supported by the inheritance mechanism."
   ]
  },
  {
   "cell_type": "markdown",
   "id": "3cea55c0",
   "metadata": {},
   "source": [
    "2. Differentiate between single inheritance and multiple inheritance in Python. Provide examples for each."
   ]
  },
  {
   "cell_type": "markdown",
   "id": "44371d22",
   "metadata": {},
   "source": [
    "Single inheritance:-In single inheritance, a class can inherit from only one base class. This is the simpler form of inheritance.\n",
    "\n",
    "Example:-"
   ]
  },
  {
   "cell_type": "code",
   "execution_count": 19,
   "id": "fdb2ac86",
   "metadata": {},
   "outputs": [
    {
     "name": "stdout",
     "output_type": "stream",
     "text": [
      "Animal speaks\n",
      "Dog barks\n"
     ]
    }
   ],
   "source": [
    "class Animal:\n",
    "    def speak(self):\n",
    "        print(\"Animal speaks\")\n",
    "\n",
    "class Dog(Animal):\n",
    "    def bark(self):\n",
    "        print(\"Dog barks\")\n",
    "\n",
    "# Example usage:\n",
    "dog = Dog()\n",
    "dog.speak() \n",
    "dog.bark() "
   ]
  },
  {
   "cell_type": "markdown",
   "id": "1de5d993",
   "metadata": {},
   "source": [
    "Multiple Inheritance:-In multiple inheritance, a class can inherit from more than one base class. This allows the derived class to inherit attributes and methods from multiple sources.\n",
    "\n",
    "Example:-"
   ]
  },
  {
   "cell_type": "code",
   "execution_count": 20,
   "id": "057aede9",
   "metadata": {},
   "outputs": [
    {
     "name": "stdout",
     "output_type": "stream",
     "text": [
      "Can fly\n",
      "Can swim\n",
      "Bird tweets\n"
     ]
    }
   ],
   "source": [
    "class Flyable:\n",
    "    def fly(self):\n",
    "        print(\"Can fly\")\n",
    "\n",
    "class Swimmable:\n",
    "    def swim(self):\n",
    "        print(\"Can swim\")\n",
    "\n",
    "class Bird(Flyable, Swimmable):\n",
    "    def tweet(self):\n",
    "        print(\"Bird tweets\")\n",
    "\n",
    "# Example usage:\n",
    "bird = Bird()\n",
    "bird.fly()   \n",
    "bird.swim()  \n",
    "bird.tweet()"
   ]
  },
  {
   "cell_type": "markdown",
   "id": "314557d7",
   "metadata": {},
   "source": [
    "3. Create a Python class called `Vehicle` with attributes `color` and `speed`. Then, create a child class called `Car` that inherits from `Vehicle` and adds a `brand` attribute. Provide an example of creating a `Car` object."
   ]
  },
  {
   "cell_type": "code",
   "execution_count": 21,
   "id": "bf0e39bc",
   "metadata": {},
   "outputs": [
    {
     "name": "stdout",
     "output_type": "stream",
     "text": [
      "The color of the vehicle is Blue and the speed is 120km/h\n",
      "The brand of the vehicle is BMW\n"
     ]
    }
   ],
   "source": [
    "class Vehicle:\n",
    "    def __init__(self,color,speed):\n",
    "        self.color=color\n",
    "        self.speed=speed\n",
    "\n",
    "    def display_info(self):\n",
    "        print(f'The color of the vehicle is {self.color} and the speed is {self.speed}km/h')\n",
    "\n",
    "\n",
    "class Car(Vehicle):\n",
    "\n",
    "    def __init__(self,brand,color,speed):\n",
    "        super().__init__(color,speed)\n",
    "        self.brand = brand\n",
    "\n",
    "    def display_info(self):\n",
    "        super().display_info()\n",
    "        print(f'The brand of the vehicle is {self.brand}')\n",
    "\n",
    "\n",
    "if __name__=='__main__':\n",
    "    my_car=Car('BMW','Blue',120)\n",
    "    my_car.display_info()\n",
    "\n"
   ]
  },
  {
   "cell_type": "markdown",
   "id": "5495cb66",
   "metadata": {},
   "source": [
    "4. Explain the concept of method overriding in inheritance. Provide a practical example."
   ]
  },
  {
   "cell_type": "markdown",
   "id": "85b2fbde",
   "metadata": {},
   "source": [
    "Method overriding is a concept in object-oriented programming (OOP) where a subclass provides a specific implementation for a method that is already defined in its superclass. The overriding method in the subclass has the same signature (name and parameters) as the method in the superclass, but it provides a different or more specialized implementation.\n",
    "\n",
    "Example:-"
   ]
  },
  {
   "cell_type": "code",
   "execution_count": 22,
   "id": "5e72b397",
   "metadata": {},
   "outputs": [
    {
     "name": "stdout",
     "output_type": "stream",
     "text": [
      "Engine Starts:\n",
      "Generic Engine Starts.\n",
      "Car Engine Starts.\n",
      "Motorbike Engine Starts.\n"
     ]
    }
   ],
   "source": [
    "class Vehicle:\n",
    "    def start_engine(self):\n",
    "        print('Generic Engine Starts.')\n",
    "        \n",
    "class Car(Vehicle):\n",
    "    def start_engine(self):\n",
    "        print('Car Engine Starts.')\n",
    "        \n",
    "class Motorbike(Vehicle):\n",
    "    def start_engine(self):\n",
    "        print('Motorbike Engine Starts.')\n",
    "        \n",
    "        \n",
    "vehicle=Vehicle()\n",
    "car=Car()\n",
    "bike=Motorbike()\n",
    "\n",
    "print('Engine Starts:')\n",
    "vehicle.start_engine()\n",
    "car.start_engine()\n",
    "bike.start_engine()"
   ]
  },
  {
   "cell_type": "markdown",
   "id": "69eecffe",
   "metadata": {},
   "source": [
    "5. How can you access the methods and attributes of a parent class from a child class in Python? Give an example."
   ]
  },
  {
   "cell_type": "markdown",
   "id": "91478035",
   "metadata": {},
   "source": [
    "n Python, you can access the methods and attributes of a parent class from a child class using the super() function. The super() function returns a temporary object of the superclass, which allows you to call its methods and access its attributes. This is particularly useful when you want to extend the functionality of the parent class in the child class while still utilizing the methods and attributes of the parent class.\n",
    "\n",
    "Example:-"
   ]
  },
  {
   "cell_type": "code",
   "execution_count": 23,
   "id": "a547221e",
   "metadata": {},
   "outputs": [
    {
     "name": "stdout",
     "output_type": "stream",
     "text": [
      "Luffy make a sound.\n",
      "Luffy barks\n",
      "Luffy is a Golden-Retriever breed dog.\n"
     ]
    }
   ],
   "source": [
    "class Animal:\n",
    "    def __init__(self,name):\n",
    "        self.name=name\n",
    "        \n",
    "    def speak(self):\n",
    "        print(f'{self.name} make a sound.')\n",
    "        \n",
    "class Dog(Animal):\n",
    "    def __init__(self,name,breed):\n",
    "        super().__init__(name)\n",
    "        self.breed=breed\n",
    "        \n",
    "    def speak(self):\n",
    "        super().speak()\n",
    "        print(f'{self.name} barks')\n",
    "        \n",
    "    def display_info(self):\n",
    "        print(f'{self.name} is a {self.breed} breed dog.')\n",
    "        \n",
    "dog=Dog('Luffy','Golden-Retriever')\n",
    "dog.speak()\n",
    "dog.display_info()"
   ]
  },
  {
   "cell_type": "markdown",
   "id": "4467affb",
   "metadata": {},
   "source": [
    "6. Discuss the use of the `super()` function in Python inheritance. When and why is it used? Provide an example."
   ]
  },
  {
   "cell_type": "markdown",
   "id": "f98eae31",
   "metadata": {},
   "source": [
    "In Python, the super() function is used in the context of inheritance to call a method from a parent class. It is commonly used within the __ init __ method of a subclass to invoke the __ init __ method of the parent class, ensuring that both the child and parent class initialization code is executed.\n",
    "\n",
    "The primary use of super() is to enable cooperative multiple inheritance. When a class inherits from multiple classes, calling super() helps maintain a consistent method resolution order (MRO) and ensures that each class in the inheritance hierarchy gets a chance to perform its initialization.\n",
    "\n",
    "#Example:-"
   ]
  },
  {
   "cell_type": "code",
   "execution_count": 24,
   "id": "fd288ed2",
   "metadata": {},
   "outputs": [
    {
     "name": "stdout",
     "output_type": "stream",
     "text": [
      "Intialising Tesla and Model S in Vehicle class\n",
      "Intialising Tesla and Model S with 4 seating capacity in Car class\n",
      "Intialising Tesla,Model S and 4 with 70kwh in EV class\n"
     ]
    }
   ],
   "source": [
    "class Vehicle:\n",
    "    def __init__(self,brand,model):\n",
    "        self.brand=brand\n",
    "        self.model=model\n",
    "        print(f'Intialising {self.brand} and {self.model} in Vehicle class')\n",
    "\n",
    "class Car(Vehicle):\n",
    "    def __init__(self,brand,model,seating_capacity):\n",
    "        super().__init__(brand,model)\n",
    "        self.seating_capacity=seating_capacity\n",
    "        print(f'Intialising {self.brand} and {self.model} with {self.seating_capacity} seating capacity in Car class')\n",
    "        \n",
    "class EV(Car):\n",
    "    def __init__(self,brand,model,seating_capacity,battery_watt):\n",
    "        super().__init__(brand,model,seating_capacity)\n",
    "        self.battery_watt=battery_watt\n",
    "        print(f'Intialising {self.brand},{self.model} and {self.seating_capacity} with {battery_watt}kwh in EV class')\n",
    "        \n",
    "\n",
    "Tesla=EV('Tesla','Model S',4,70)\n"
   ]
  },
  {
   "cell_type": "markdown",
   "id": "f3c48f77",
   "metadata": {},
   "source": [
    "7. Create a Python class called `Animal` with a method `speak()`. Then, create child classes `Dog` and `Cat` that inherit from `Animal` and override the `speak()` method. Provide an example of using these classes."
   ]
  },
  {
   "cell_type": "code",
   "execution_count": 25,
   "id": "ff9d980e",
   "metadata": {},
   "outputs": [
    {
     "name": "stdout",
     "output_type": "stream",
     "text": [
      "Animal Sound\n",
      "Dog sound\n",
      "Cat Sound\n"
     ]
    }
   ],
   "source": [
    "class Animal:\n",
    "    def speak(self):\n",
    "        print('Animal Sound')\n",
    "        \n",
    "class Dog(Animal):\n",
    "    def speak(self):\n",
    "        print('Dog sound')\n",
    "        \n",
    "class Cat(Animal):\n",
    "    def speak(self):\n",
    "        print('Cat Sound')\n",
    "        \n",
    "        \n",
    "normal_animal=Animal()\n",
    "dog=Dog()\n",
    "cat=Cat()\n",
    "normal_animal.speak()\n",
    "dog.speak()\n",
    "cat.speak()"
   ]
  },
  {
   "cell_type": "markdown",
   "id": "38fa799d",
   "metadata": {},
   "source": [
    "8. Explain the role of the `isinstance()` function in Python and how it relates to inheritance."
   ]
  },
  {
   "cell_type": "markdown",
   "id": "c269a9e7",
   "metadata": {},
   "source": [
    "The isinstance() function in Python is used to check whether an object belongs to a particular class or is an instance of a class. It returns True if the object is an instance of the specified class or a tuple of classes, and False otherwise. The function takes two arguments: the object to be checked, and the class or a tuple of classes.\n",
    "\n",
    "The role of isinstance() becomes particularly relevant in the context of inheritance. It allows you to determine whether an object is an instance of a specific class or any of its derived classes. This is useful for conditionally handling objects based on their type in a program.\n",
    "\n",
    "Example-"
   ]
  },
  {
   "cell_type": "code",
   "execution_count": 26,
   "id": "e80924d0",
   "metadata": {},
   "outputs": [
    {
     "name": "stdout",
     "output_type": "stream",
     "text": [
      "True\n",
      "True\n",
      "False\n"
     ]
    }
   ],
   "source": [
    "class A:\n",
    "    pass\n",
    "\n",
    "class B(A):\n",
    "    pass\n",
    "\n",
    "class C:\n",
    "    pass\n",
    "\n",
    "obj_a=A()\n",
    "obj_b=B()\n",
    "obj_c=C()\n",
    "\n",
    "print(isinstance(obj_a,A))# True because obj_a is the object of Class A\n",
    "print(isinstance(obj_b,A))# True because obj_b is the object of class B and is a subclass of Class A\n",
    "print(isinstance(obj_c,A))# False because it is the object of Class C and it is not inherited either"
   ]
  },
  {
   "cell_type": "markdown",
   "id": "3ad87c07",
   "metadata": {},
   "source": [
    "9. What is the purpose of the `issubclass()` function in Python? Provide an example."
   ]
  },
  {
   "cell_type": "markdown",
   "id": "5d2a1354",
   "metadata": {},
   "source": [
    "he issubclass() function in Python is used to check whether a given class is a subclass of another class. It returns True if the first class is indeed a subclass of the second class, and False otherwise.\n",
    "\n",
    "The function takes two arguments: the class to be checked (the potential subclass) and the class or a tuple of classes (the potential superclass or superclasses). It's useful for checking the relationship between classes and verifying the inheritance hierarchy.\n",
    "\n",
    "Example-"
   ]
  },
  {
   "cell_type": "code",
   "execution_count": 27,
   "id": "9fa1ccbd",
   "metadata": {},
   "outputs": [
    {
     "name": "stdout",
     "output_type": "stream",
     "text": [
      "True\n",
      "True\n",
      "True\n",
      "False\n",
      "False\n"
     ]
    }
   ],
   "source": [
    "class A:\n",
    "    pass\n",
    "\n",
    "class B(A):\n",
    "    pass\n",
    "\n",
    "class C(B):\n",
    "    pass\n",
    "\n",
    "print(issubclass(B,A))# True because Class B is a subclass of Class A\n",
    "print(issubclass(C,B))# True because Class C is a subclass of class B\n",
    "print(issubclass(C,A))# True because CLass C is a subclass of Class B and Class B is a subclass Class A\n",
    "print(issubclass(B,C))# False because Class B is not the subclass of Class C\n",
    "print(issubclass(A,B))# False because Class A is not the subclass of Class B"
   ]
  },
  {
   "cell_type": "markdown",
   "id": "09dda8c4",
   "metadata": {},
   "source": [
    "10. Discuss the concept of constructor inheritance in Python. How are constructors inherited in child classes?"
   ]
  },
  {
   "cell_type": "markdown",
   "id": "286cb77a",
   "metadata": {},
   "source": [
    "n Python, constructor inheritance refers to the mechanism by which a child class can inherit and extend the constructor (the __ init __ method) of its parent class. When a child class is created, it can choose to explicitly call the constructor of its parent class using the super() function to ensure that both the parent and child class initialization code is executed."
   ]
  },
  {
   "cell_type": "markdown",
   "id": "57b9a16e",
   "metadata": {},
   "source": [
    "Child class without constructor:-\n",
    "If a child class does not have its own __ init __ method, it automatically inherits the constructor from its parent class. In this case, the child class will have the same constructor as the parent class.\n",
    "\n",
    "Example-"
   ]
  },
  {
   "cell_type": "code",
   "execution_count": 28,
   "id": "172dcdfe",
   "metadata": {},
   "outputs": [
    {
     "name": "stdout",
     "output_type": "stream",
     "text": [
      "The name is: Hello\n"
     ]
    }
   ],
   "source": [
    "class parent:\n",
    "    def __init__(self,name):\n",
    "        self.name=name\n",
    "        print('The name is:',self.name)\n",
    "class child(parent):\n",
    "    pass\n",
    "\n",
    "obj_child=child(name='Hello')"
   ]
  },
  {
   "cell_type": "markdown",
   "id": "9d1a50a2",
   "metadata": {},
   "source": [
    "In this example, the Child class does not have its own __ init __ method, so it inherits the constructor from the Parent class. The obj_child object can be initialized using the name parameter inherited from the parent class."
   ]
  },
  {
   "cell_type": "markdown",
   "id": "96261061",
   "metadata": {},
   "source": [
    "child class with constructor:-If a child class has its own __ init __ method, it can explicitly call the constructor of its parent class using super() to ensure that the parent class's initialization is executed as well.\n",
    "\n",
    "Example:-"
   ]
  },
  {
   "cell_type": "code",
   "execution_count": 29,
   "id": "8fc31ee1",
   "metadata": {},
   "outputs": [
    {
     "name": "stdout",
     "output_type": "stream",
     "text": [
      "Pwskills printed in parent class.\n",
      "Pwskills is inherited from parent class and 32 is from child class.\n"
     ]
    }
   ],
   "source": [
    "class parent:\n",
    "    def __init__(self,name):\n",
    "        self.name=name\n",
    "        print(f'{self.name} printed in parent class.')\n",
    "        \n",
    "class child(parent):\n",
    "    def __init__(self,name,age):\n",
    "        super().__init__(name)\n",
    "        self.age=age\n",
    "        print(f'{self.name} is inherited from parent class and {self.age} is from child class.')\n",
    "        \n",
    "obj_child=child('Pwskills',32)"
   ]
  },
  {
   "cell_type": "markdown",
   "id": "1f4e11f9",
   "metadata": {},
   "source": [
    "In this example, the Child class has its own __ init __ method, but it uses super().__ init __ (name) to call the constructor of the Parent class. This way, both the parent and child class initialization code is executed when an instance of Child is created."
   ]
  },
  {
   "cell_type": "markdown",
   "id": "705d2720",
   "metadata": {},
   "source": [
    "11. Create a Python class called `Shape` with a method `area()` that calculates the area of a shape. Then, create child classes `Circle` and `Rectangle` that inherit from `Shape` and implement the `area()` method accordingly. Provide an example."
   ]
  },
  {
   "cell_type": "code",
   "execution_count": 30,
   "id": "52db013b",
   "metadata": {},
   "outputs": [
    {
     "name": "stdout",
     "output_type": "stream",
     "text": [
      "The area of the circle is  78.53981633974483\n",
      "The area of the rectangle is 156\n"
     ]
    }
   ],
   "source": [
    "import math\n",
    "class Shape:\n",
    "    def area(self):\n",
    "        pass\n",
    "    \n",
    "class Circle(Shape):\n",
    "    def __init__(self,radius):\n",
    "        self.radius=radius\n",
    "        \n",
    "    def area(self):\n",
    "        return math.pi * self.radius**2\n",
    "    \n",
    "class Rectangle(Shape):\n",
    "    def __init__(self,width,height):\n",
    "        self.width=width\n",
    "        self.height=height\n",
    "        \n",
    "    def area(self):\n",
    "        return self.width*self.height\n",
    "\n",
    "circle=Circle(5)\n",
    "rect=Rectangle(12,13)\n",
    "print('The area of the circle is ',circle.area())\n",
    "print('The area of the rectangle is',rect.area())"
   ]
  },
  {
   "cell_type": "markdown",
   "id": "799e08d5",
   "metadata": {},
   "source": [
    "12. Explain the use of abstract base classes (ABCs) in Python and how they relate to inheritance. Provide an example using the `abc` module."
   ]
  },
  {
   "cell_type": "markdown",
   "id": "acaa8fc9",
   "metadata": {},
   "source": [
    "Abstract Base Classes(ABC) in python provide a way to define abstract classes and abstract methods. An abstract class is a class that cannot be instantiated on its own and is meant to be subclassed by other classes.Abstract methods on the other hand, are methods declared in an abstract class but without an implementation.Subclasses are required to provide concrete implementations for these abstract methods.\n",
    "\n",
    "In Python, the abc module provides the ABC metaclass and the abstractmethod decorator to define abstract base classes and abstract methods, respectively.\n",
    "\n",
    "Example:"
   ]
  },
  {
   "cell_type": "code",
   "execution_count": 31,
   "id": "f03b11d1",
   "metadata": {},
   "outputs": [
    {
     "name": "stdout",
     "output_type": "stream",
     "text": [
      "The area of the square: 25\n",
      "The perimeter of the square: 20\n",
      "\n",
      "The area of the circle: 28.26\n",
      "The perimeter of the circle: 18.84\n"
     ]
    }
   ],
   "source": [
    "from abc import ABC,abstractmethod\n",
    "\n",
    "class shape(ABC):\n",
    "    @abstractmethod\n",
    "    def area(self):\n",
    "        pass\n",
    "    \n",
    "    @abstractmethod\n",
    "    def perimeter(self):\n",
    "        pass\n",
    "    \n",
    "class square(shape):\n",
    "    def __init__(self,side_length):\n",
    "        self.side_length=side_length\n",
    "        \n",
    "    def area(self):\n",
    "        return self.side_length**2\n",
    "    \n",
    "    def perimeter(self):\n",
    "        return self.side_length*4\n",
    "    \n",
    "class circle(shape):\n",
    "    def __init__(self,radius):\n",
    "        self.radius=radius\n",
    "        \n",
    "    def area(self):\n",
    "        return 3.14*self.radius**2\n",
    "    \n",
    "    def perimeter(self):\n",
    "        return 3.14*self.radius*2\n",
    "    \n",
    "square_obj=square(5)\n",
    "circle_obj=circle(3)\n",
    "\n",
    "print('The area of the square:',square_obj.area())\n",
    "print('The perimeter of the square:',square_obj.perimeter())\n",
    "print()\n",
    "print('The area of the circle:',circle_obj.area())\n",
    "print('The perimeter of the circle:',circle_obj.perimeter())"
   ]
  },
  {
   "cell_type": "markdown",
   "id": "eee85ccd",
   "metadata": {},
   "source": [
    "13. How can you prevent a child class from modifying certain attributes or methods inherited from a parent class in Python?"
   ]
  },
  {
   "cell_type": "markdown",
   "id": "1f6c6cb3",
   "metadata": {},
   "source": [
    "In Python, you can use a combination of techniques to control and restrict access to attributes and methods in a child class that are inherited from a parent class. Here are a few strategies:"
   ]
  },
  {
   "cell_type": "markdown",
   "id": "49372a1e",
   "metadata": {},
   "source": [
    "Use of underscore prefix:\n",
    "By convention, attributes or methods prefixed with a single underscore (e.g., _attribute or _method()) are considered internal and should not be accessed directly by subclasses. While this is not strictly enforced, it signals to other developers that these elements are intended for internal use and should be treated as such.\n",
    "\n",
    "Example:-"
   ]
  },
  {
   "cell_type": "code",
   "execution_count": 33,
   "id": "abb6127a",
   "metadata": {},
   "outputs": [
    {
     "name": "stdout",
     "output_type": "stream",
     "text": [
      "12\n",
      "This method is protected.\n"
     ]
    }
   ],
   "source": [
    "class parent:\n",
    "    def __init__(self):\n",
    "        self._protected_attribute=12\n",
    "        \n",
    "    def _protected_method(self):\n",
    "        print('This method is protected.')\n",
    "        \n",
    "class child(parent):\n",
    "    def access_protected(self):\n",
    "        print(self._protected_attribute)\n",
    "        \n",
    "        self._protected_method()\n",
    "        \n",
    "child_inst=child()\n",
    "child_inst.access_protected()"
   ]
  },
  {
   "cell_type": "markdown",
   "id": "05cef9f2",
   "metadata": {},
   "source": [
    "Use of double underscore prefix:Attributes or methods prefixed with a double underscore (e.g., __attribute or __method()) undergo name mangling in Python. This means their names are altered to include the class name, making it more difficult to accidentally override them in a subclass.\n",
    "\n",
    "Example:-"
   ]
  },
  {
   "cell_type": "code",
   "execution_count": 35,
   "id": "2bdd7499",
   "metadata": {},
   "outputs": [
    {
     "name": "stdout",
     "output_type": "stream",
     "text": [
      "Attribute error 'child' object has no attribute '_child__protected_attribute'\n",
      "Attribute error 'child' object has no attribute '_child__protected_method'\n"
     ]
    }
   ],
   "source": [
    "class parent:\n",
    "    def __init__(self):\n",
    "        self.__protected_attribute=12\n",
    "        \n",
    "    def __protected_method(self):\n",
    "        print('This method is protected.')\n",
    "        \n",
    "class child(parent):\n",
    "    def access_protected(self):\n",
    "        try:\n",
    "            print(self.__protected_attribute)\n",
    "        except AttributeError as e:\n",
    "            print(f'Attribute error {e}')\n",
    "            \n",
    "        try:\n",
    "            self.__protected_method()\n",
    "        except AttributeError as e:\n",
    "            print(f'Attribute error {e}')\n",
    "        \n",
    "child_inst=child()\n",
    "child_inst.access_protected()"
   ]
  },
  {
   "cell_type": "markdown",
   "id": "ee0f85df",
   "metadata": {},
   "source": [
    "Property Decorator:-You can use the property decorator to create read-only properties in the child class. This allows you to control access to an attribute and prevent modification.\n",
    "\n",
    "Example:-"
   ]
  },
  {
   "cell_type": "code",
   "execution_count": 37,
   "id": "d91981ad",
   "metadata": {},
   "outputs": [
    {
     "name": "stdout",
     "output_type": "stream",
     "text": [
      "42\n"
     ]
    }
   ],
   "source": [
    "class Parent:\n",
    "    def __init__(self):\n",
    "        self._protected_attribute = 42\n",
    "\n",
    "    @property\n",
    "    def protected_attribute(self):\n",
    "        return self._protected_attribute\n",
    "\n",
    "class Child(Parent):\n",
    "    def __init__(self):\n",
    "        super().__init__()\n",
    "\n",
    "    def modify_protected_attribute(self, new_value):\n",
    "        # Attempting to modify the protected attribute will result in an AttributeError\n",
    "        try:\n",
    "            self._protected_attribute = new_value\n",
    "        except AttributeError as e:\n",
    "            print(f\"AttributeError: {e}\")\n",
    "\n",
    "child_instance = Child()\n",
    "print(child_instance.protected_attribute)  # Accessing the protected attribute\n",
    "child_instance.modify_protected_attribute(10)  # Attempting to modify the protected attribute\n"
   ]
  },
  {
   "cell_type": "markdown",
   "id": "86c9ef95",
   "metadata": {},
   "source": [
    "14. Create a Python class called `Employee` with attributes `name` and `salary`. Then, create a child class `Manager` that inherits from `Employee` and adds an attribute `department`. Provide an example."
   ]
  },
  {
   "cell_type": "code",
   "execution_count": 12,
   "id": "289d1dd9",
   "metadata": {},
   "outputs": [
    {
     "name": "stdout",
     "output_type": "stream",
     "text": [
      "name of the emp:Priya and salary:1200000\n",
      "Department:Backend\n"
     ]
    }
   ],
   "source": [
    "class Employee:\n",
    "    def __init__(self,name,salary):\n",
    "        self.name=name\n",
    "        self.salary=salary\n",
    "        \n",
    "    def display_info(self):\n",
    "        print(f'name of the emp:{self.name} and salary:{self.salary}')\n",
    "        \n",
    "class Manager(Employee):\n",
    "    def __init__(self,name,salary,department):\n",
    "        super().__init__(name,salary)\n",
    "        self.department=department\n",
    "    \n",
    "    def display_info(self):\n",
    "        super().display_info()\n",
    "        print(f'Department:{self.department}')\n",
    "        \n",
    "        \n",
    "emp=Manager('Priya',1200000,'Backend')\n",
    "emp.display_info()"
   ]
  },
  {
   "cell_type": "markdown",
   "id": "e3f9b5ec",
   "metadata": {},
   "source": [
    "15. Discuss the concept of method overloading in Python inheritance. How does it differ from method overriding?"
   ]
  },
  {
   "cell_type": "markdown",
   "id": "d2c79f93",
   "metadata": {},
   "source": [
    "In Python, method overloading is a concept that allows a class to define multiple methods with the same name but different signatures (i.e., different parameters). Python does not support traditional method overloading, as seen in some other programming languages, where you can have multiple methods with the same name but different parameter types or numbers.\n",
    "\n",
    "Example:-"
   ]
  },
  {
   "cell_type": "code",
   "execution_count": 42,
   "id": "f0962a23",
   "metadata": {},
   "outputs": [
    {
     "name": "stdout",
     "output_type": "stream",
     "text": [
      "5\n",
      "11\n",
      "18\n"
     ]
    }
   ],
   "source": [
    "class MathOperations:\n",
    "    def add(self,a,b=0,c=0):\n",
    "        return a+b+c\n",
    "math_obj=MathOperations()\n",
    "\n",
    "result1=math_obj.add(5)\n",
    "result2=math_obj.add(5,6)\n",
    "result3=math_obj.add(5,6,7)\n",
    "\n",
    "print(result1)\n",
    "print(result2)\n",
    "print(result3)"
   ]
  },
  {
   "cell_type": "markdown",
   "id": "e26747ea",
   "metadata": {},
   "source": [
    "In method overloading a class allows multiple methods with the same name but with different signature but in method overrinding when a subclass have a same method which is already defined in its superclass method. In this way both method overloading and method overriding are different.  "
   ]
  },
  {
   "cell_type": "markdown",
   "id": "06c68cf1",
   "metadata": {},
   "source": [
    "16. Explain the purpose of the `__init__()` method in Python inheritance and how it is utilized in child classes."
   ]
  },
  {
   "cell_type": "markdown",
   "id": "4a30ac31",
   "metadata": {},
   "source": [
    "In Python, the __ init __ () method is a special method, also known as a constructor, that is automatically called when an object of a class is created. It plays a crucial role in the process of initializing the attributes and setting up the initial state of an object. When it comes to inheritance, the __ init __ () method is often used to ensure that both the child and parent classes' initialization code is executed."
   ]
  },
  {
   "cell_type": "markdown",
   "id": "80b90bde",
   "metadata": {},
   "source": [
    "In Python, the __ init __ () method is used in a child class to perform the initialization specific to that class, while still allowing it to leverage the initialization logic of its parent class. The child class's __ init __ () method typically calls the __ init__() method of the parent class using the super() function. This ensures that both the parent and child class initialization code is executed."
   ]
  },
  {
   "cell_type": "markdown",
   "id": "beed179f",
   "metadata": {},
   "source": [
    "17. Create a Python class called `Bird` with a method `fly()`. Then, create child classes `Eagle` and `Sparrow` that inherit from `Bird` and implement the `fly()` method differently. Provide an example of using these classes."
   ]
  },
  {
   "cell_type": "code",
   "execution_count": 4,
   "id": "ced57ead",
   "metadata": {},
   "outputs": [
    {
     "name": "stdout",
     "output_type": "stream",
     "text": [
      "Calling fly() on the generic Bird:\n",
      "Bird can Fly\n",
      "Calling fly() on the Eagle:\n",
      "Eagle soars through the sky\n",
      "Calling fly() on the Sparrow:\n",
      "Sparrow flits and glides in the air\n"
     ]
    }
   ],
   "source": [
    "class Bird:\n",
    "    def fly(self):\n",
    "        print('Bird can Fly')\n",
    "        \n",
    "class Eagle(Bird):\n",
    "    def fly(self):\n",
    "        print('Eagle soars through the sky')\n",
    "        \n",
    "class Sparrow(Bird):\n",
    "    def fly(self):\n",
    "        print('Sparrow flits and glides in the air')\n",
    "        \n",
    "bird=Bird()\n",
    "eagle=Eagle()\n",
    "sparrow=Sparrow()\n",
    "\n",
    "print('Calling fly() on the generic Bird:')\n",
    "bird.fly()\n",
    "print('Calling fly() on the Eagle:')\n",
    "eagle.fly()\n",
    "print('Calling fly() on the Sparrow:')\n",
    "sparrow.fly()"
   ]
  },
  {
   "cell_type": "markdown",
   "id": "e5d45153",
   "metadata": {},
   "source": [
    "18. What is the \"diamond problem\" in multiple inheritance, and how does Python address it?"
   ]
  },
  {
   "cell_type": "markdown",
   "id": "83105a85",
   "metadata": {},
   "source": [
    "The \"diamond problem\" is a term in object-oriented programming that refers to an issue that can occur in languages that support multiple inheritance, where a class inherits from two classes that have a common ancestor. This situation forms a diamond-shaped inheritance hierarchy, leading to potential ambiguity and complexity.\n",
    "\n",
    "Consider the following scenario:\n",
    "\n",
    "Class D inherits from both classes B and C.\n",
    "\n",
    "\n",
    "Both B and C inherit from class A.\n",
    "\n",
    "Now, if there is a method in class A that is overridden in both B and C, and class D does not override it, which version of the method should be called when an object of class D invokes that method? This ambiguity is the essence of the diamond problem."
   ]
  },
  {
   "cell_type": "markdown",
   "id": "2fa0635c",
   "metadata": {},
   "source": [
    "Python address to diamond problem:-\n",
    "\n",
    "Python uses a method resolution order (MRO) algorithm to determine the order in which base classes are searched when looking for a method in a class hierarchy. Python's MRO is based on C3 linearization, which provides a consistent and predictable order.\n",
    "\n",
    "In Python, the super() function is used to call a method from the superclass in a way that respects the MRO. The MRO ensures that methods are looked up in a specific order, avoiding ambiguity.\n",
    "\n",
    "Example:-"
   ]
  },
  {
   "cell_type": "code",
   "execution_count": 53,
   "id": "38880a93",
   "metadata": {},
   "outputs": [
    {
     "name": "stdout",
     "output_type": "stream",
     "text": [
      "A method\n",
      "C method\n",
      "B method\n"
     ]
    }
   ],
   "source": [
    "class A:\n",
    "    def method(self):\n",
    "        print('A method')\n",
    "        \n",
    "class B(A):\n",
    "    def method(self):\n",
    "        super().method()\n",
    "        print('B method')\n",
    "        \n",
    "class C(A):\n",
    "    def method(self):\n",
    "        super().method()\n",
    "        print('C method')\n",
    "        \n",
    "class D(B,C):\n",
    "    pass\n",
    "\n",
    "inst_d=D()\n",
    "inst_d.method()"
   ]
  },
  {
   "cell_type": "markdown",
   "id": "614f2c4e",
   "metadata": {},
   "source": [
    "19. Discuss the concept of \"is-a\" and \"has-a\" relationships in inheritance, and provide examples of each."
   ]
  },
  {
   "cell_type": "markdown",
   "id": "12949a46",
   "metadata": {},
   "source": [
    "is-a relationship:-The \"is-a\" relationship is a way to express inheritance, indicating that one class is a specialized version of another. It represents a hierarchical relationship where a subclass inherits from a superclass. In this relationship, an object of the subclass is considered to be an object of the superclass.\n",
    "\n",
    "Example:-"
   ]
  },
  {
   "cell_type": "code",
   "execution_count": 51,
   "id": "698abd69",
   "metadata": {},
   "outputs": [
    {
     "name": "stdout",
     "output_type": "stream",
     "text": [
      "True\n",
      "True\n"
     ]
    }
   ],
   "source": [
    "class car:\n",
    "    def start(self):\n",
    "        pass\n",
    "    \n",
    "class VW(car):\n",
    "    def start(self):\n",
    "        return 'VW started'\n",
    "        \n",
    "class Kia(car):\n",
    "    def start(self):\n",
    "        return 'Kia started'\n",
    "    \n",
    "vw=VW()\n",
    "kia=Kia()\n",
    "print(isinstance(vw,car))\n",
    "print(isinstance(kia,car))"
   ]
  },
  {
   "cell_type": "markdown",
   "id": "eb4558d9",
   "metadata": {},
   "source": [
    "In this example, VW and Kia are subclasses of car. The \"is-a\" relationship is evident as a VW \"is-a\" type of car, and a Kia \"is-a\" type of car."
   ]
  },
  {
   "cell_type": "markdown",
   "id": "9b87e1b7",
   "metadata": {},
   "source": [
    "has-a relationship:-The \"has-a\" relationship is a way to express composition, indicating that one class has another class as a component or part. It represents a containment relationship where an object of one class contains an object of another class.\n",
    "\n",
    "Example:-"
   ]
  },
  {
   "cell_type": "code",
   "execution_count": 52,
   "id": "d907e91f",
   "metadata": {},
   "outputs": [
    {
     "name": "stdout",
     "output_type": "stream",
     "text": [
      "Engine Started\n"
     ]
    }
   ],
   "source": [
    "class Engine:\n",
    "    def start(self):\n",
    "        return 'Engine Started'\n",
    "    \n",
    "class car:\n",
    "    def __init__(self):\n",
    "        self.engine=Engine()\n",
    "my_car=car()\n",
    "print(my_car.engine.start())"
   ]
  },
  {
   "cell_type": "markdown",
   "id": "dc1b6686",
   "metadata": {},
   "source": [
    "In this example, Car has an \"engine.\" The \"has-a\" relationship is evident as a Car \"has-a\" type of Engine."
   ]
  },
  {
   "cell_type": "markdown",
   "id": "c2a11f25",
   "metadata": {},
   "source": [
    "20. Create a Python class hierarchy for a university system. Start with a base class `Person` and create child classes `Student` and `Professor`, each with their own attributes and methods. Provide an example of using these classes in a university context."
   ]
  },
  {
   "cell_type": "code",
   "execution_count": 49,
   "id": "4de6d177",
   "metadata": {},
   "outputs": [
    {
     "name": "stdout",
     "output_type": "stream",
     "text": [
      "Kiwi has enrolled in a Data Science\n",
      "Kiwi has enrolled in a Machine Learning\n",
      "\n",
      "Dr.Jones is now teaching Data Science\n",
      "Dr.Jones is now teaching Algorithims\n",
      "\n",
      "Student Information\n",
      "Name:Kiwi, Age:22\n",
      "STUDENT ID:101,Enrolled courses:Data Science, Machine Learning\n",
      "\n",
      "Professor Information\n",
      "Name:Dr.Jones, Age:50\n",
      "EMPLOYEE ID:21,Courses taught:Data Science, Algorithims\n"
     ]
    }
   ],
   "source": [
    "class Person:\n",
    "    def __init__(self,name,age):\n",
    "        self.name=name\n",
    "        self.age=age\n",
    "        \n",
    "    def display_info(self):\n",
    "        print(f'Name:{self.name}, Age:{self.age}')\n",
    "class Student(Person):\n",
    "    def __init__(self,name,age,student_id):\n",
    "        super().__init__(name,age)\n",
    "        self.student_id=student_id\n",
    "        self.courses=[]\n",
    "        \n",
    "    def enroll(self,course):\n",
    "        self.courses.append(course)\n",
    "        print(f'{self.name} has enrolled in a {course}')\n",
    "        \n",
    "    def display_info(self):\n",
    "        super().display_info()\n",
    "        print(f\"STUDENT ID:{self.student_id},Enrolled courses:{', '.join(self.courses)}\")\n",
    "        \n",
    "        \n",
    "class Professor(Person):\n",
    "    def __init__(self,name,age,employee_id):\n",
    "        super().__init__(name,age)\n",
    "        self.employee_id=employee_id\n",
    "        self.courses_taught=[]\n",
    "        \n",
    "    def assign_courses(self,course):\n",
    "        self.courses_taught.append(course)\n",
    "        print(f'{self.name} is now teaching {course}')\n",
    "        \n",
    "    def display_info(self):\n",
    "        super().display_info()\n",
    "        print(f\"EMPLOYEE ID:{self.employee_id},Courses taught:{', '.join(self.courses_taught)}\")\n",
    "        \n",
    "student1=Student('Kiwi',22,101)\n",
    "professor1=Professor('Dr.Jones',50,21)\n",
    "\n",
    "student1.enroll('Data Science')\n",
    "student1.enroll('Machine Learning')\n",
    "print()\n",
    "professor1.assign_courses('Data Science')\n",
    "professor1.assign_courses('Algorithims')\n",
    "print()\n",
    "print('Student Information')\n",
    "student1.display_info()\n",
    "print()\n",
    "print('Professor Information')\n",
    "professor1.display_info()"
   ]
  },
  {
   "cell_type": "markdown",
   "id": "63dfbb76",
   "metadata": {},
   "source": [
    "# Encapsulation:"
   ]
  },
  {
   "cell_type": "markdown",
   "id": "cd338adb",
   "metadata": {},
   "source": [
    "1. Explain the concept of encapsulation in Python. What is its role in object-oriented programming?"
   ]
  },
  {
   "cell_type": "markdown",
   "id": "5f36a2bc",
   "metadata": {},
   "source": [
    "Encapsulation is one of the fundamental principles of object oriented programming and it is aimed to build attributes and methods that operate on the data into a single unit known as class.\n",
    "\n",
    "Encapsulation in object-oriented-programming serves major important roles like modularity,data-hiding,access-control & abstraction."
   ]
  },
  {
   "cell_type": "markdown",
   "id": "d4a8e564",
   "metadata": {},
   "source": [
    "2. Describe the key principles of encapsulation, including access control and data hiding."
   ]
  },
  {
   "cell_type": "markdown",
   "id": "98a6fdea",
   "metadata": {},
   "source": [
    "The key principles of encapsulation are:-\n",
    "\n",
    "modularity:-Encapsulation promotes modularity by organizing the code into selfEncapsulation enables abstraction by defining a clear interface for interacting with objects. Users of a class need not be concerned with the internal implementation details; they can interact with the class through its public methods. This abstraction simplifies the usage of objects and allows for easier maintenance and updates to the underlying implementation. encapsulates it's data and functionality by creating a modular structure. This modular design makes it easier to understand,maintain and extend the codebase.\n",
    "\n",
    "Data Hiding:-Encapsulation hides the internal details of an object from the outside world. By making certain attributes or methods as private,they are not directly accessible from outside of the class.\n",
    "\n",
    "Access control:-Encapsulation allows the class to control how its data is accessed and modified. By using access modifier(public,private,protected) a class can define which members are visible and accessible from outside the class.This control helps prevent unintended modifications and provides a clear interface for interacting with objects.\n",
    "\n",
    "Abstraction:-Encapsulation enables abstraction by defining a clear interface for interacting with objects. Users of a class need not be concerned with the internal implementation details; they can interact with the class through its public methods. This abstraction simplifies the usage of objects and allows for easier maintenance and updates to the underlying implementation. "
   ]
  },
  {
   "cell_type": "markdown",
   "id": "1bc0aebb",
   "metadata": {},
   "source": [
    "3. How can you achieve encapsulation in Python classes? Provide an example."
   ]
  },
  {
   "cell_type": "markdown",
   "id": "8a54b65f",
   "metadata": {},
   "source": [
    "In python classes the encapsulation can be achieved by using acess modifier like private,protected for class attributes and methods. In python, encapsulation is not enforced through strict access control,but conventions are followed to indicate the intended level of visibility.\n",
    "\n",
    "Example:-"
   ]
  },
  {
   "cell_type": "code",
   "execution_count": 4,
   "id": "c0703097",
   "metadata": {},
   "outputs": [
    {
     "name": "stdout",
     "output_type": "stream",
     "text": [
      "Account Number: 12345678\n",
      "balance: 10000.0\n",
      "Updated Balance: 13000.0\n"
     ]
    }
   ],
   "source": [
    "class BankAccount:\n",
    "    def __init__(self, account_number, balance):\n",
    "        self.__account_number = account_number # private attribute\n",
    "        self.__balance = balance # private attribute\n",
    "\n",
    "    def get_account_number(self):\n",
    "        return self.__account_number # getter method for controlled access\n",
    "\n",
    "    def get_balance(self):\n",
    "        return self.__balance # getter method for controlled access\n",
    "\n",
    "    def deposit(self, amount):\n",
    "        # Perform validation and update balance\n",
    "        self.__balance += amount\n",
    "\n",
    "    def withdraw(self, amount):\n",
    "        # Perform validation and update balance\n",
    "        if amount <= self.__balance:\n",
    "            self.__balance -= amount\n",
    "        else:\n",
    "            print('Insufficient funds')\n",
    "\n",
    "\n",
    "account = BankAccount('12345678', 10000.0)\n",
    "\n",
    "# Accessing private attribute through getter method\n",
    "print('Account Number:', account.get_account_number())\n",
    "print('balance:', account.get_balance())\n",
    "\n",
    "# Performing transactions through public methods\n",
    "account.deposit(5000)\n",
    "account.withdraw(2000)\n",
    "# Accessing updated balance through getter method attribute through getter method\n",
    "print('Updated Balance:', account.get_balance())"
   ]
  },
  {
   "cell_type": "markdown",
   "id": "fed62b17",
   "metadata": {},
   "source": [
    "4. Discuss the difference between public, private, and protected access modifiers in Python."
   ]
  },
  {
   "cell_type": "markdown",
   "id": "040289d7",
   "metadata": {},
   "source": [
    "Public Access Modifier:-\n",
    "\n",
    "By default all members in a class are public.\n",
    "Public members can be accessed within the class,from derived class and from external code.\n",
    "\n",
    "Private Access Modifier:-\n",
    "\n",
    "Members with a double underscore ( __ ) prefix are considered private.\n",
    "Private members are not accessible directly from outside the class. However, they can still be accessed using name mangling (_ClassName__member)\n",
    "\n",
    "Protected Access Modifier:-\n",
    "\n",
    "Members with a single underscore (_) prefix are considered protected.\n",
    "Protected members are not intended for use outside the class, but they can be accessed from within the class and its subclasses."
   ]
  },
  {
   "cell_type": "markdown",
   "id": "27027af1",
   "metadata": {},
   "source": [
    "5. Create a Python class called `Person` with a private attribute `__name`. Provide methods to get and set the name attribute."
   ]
  },
  {
   "cell_type": "code",
   "execution_count": 7,
   "id": "ffca1d3c",
   "metadata": {},
   "outputs": [
    {
     "name": "stdout",
     "output_type": "stream",
     "text": [
      "Original Name Johnson\n",
      "Updated Name: Mike\n"
     ]
    }
   ],
   "source": [
    "class Person:\n",
    "    def __init__(self,name):\n",
    "        self.__name=name\n",
    "        \n",
    "    def get_name(self):\n",
    "        return self.__name\n",
    "        \n",
    "    def set_name(self,newname):\n",
    "        self.__name=newname\n",
    "\n",
    "person1=Person('Johnson')\n",
    "print('Original Name',person1.get_name())\n",
    "\n",
    "person1.set_name('Mike')\n",
    "print('Updated Name:',person1.get_name())"
   ]
  },
  {
   "cell_type": "markdown",
   "id": "add59bf7",
   "metadata": {},
   "source": [
    "6. Explain the purpose of getter and setter methods in encapsulation. Provide examples."
   ]
  },
  {
   "cell_type": "markdown",
   "id": "c9e4c7c0",
   "metadata": {},
   "source": [
    "Getter and Setter methods are part of encapsulation and are used to control access to the private attributes of a class.\n",
    "\n",
    "Purpose of getter method:- Getter method also known as accessor methods, are used to retrieve the values of private attributes.They provide controlled access to the internal state of an object.\n",
    "\n",
    "Purpose of setter method:- Setter Methods,also known as mutator methods,are used to modify the values of private attributes. They allow controlled modification of the internal state of an object.\n",
    "\n",
    "Example:-"
   ]
  },
  {
   "cell_type": "code",
   "execution_count": 2,
   "id": "e3cf4fe5",
   "metadata": {},
   "outputs": [
    {
     "name": "stdout",
     "output_type": "stream",
     "text": [
      "PW\n",
      "PWskills\n",
      "30\n"
     ]
    }
   ],
   "source": [
    "class Person:\n",
    "    def __init__(self, name, age):\n",
    "        self._name = name  # Private attribute\n",
    "        self._age = age    # Private attribute\n",
    "\n",
    "    # Setter methods\n",
    "\n",
    "    def get_name(self):\n",
    "        return self._name\n",
    "\n",
    "    def get_age(self):\n",
    "        return self._age\n",
    "    \n",
    "    def set_name(self, name):\n",
    "        self._name = name\n",
    "\n",
    "    def set_age(self, age):\n",
    "        if age >= 0:  # Validation can be added\n",
    "            self._age = age\n",
    "\n",
    "# Usage\n",
    "person = Person(\"PW\", 25)\n",
    "print(person.get_name())\n",
    "person.set_name(\"PWskills\")\n",
    "person.set_age(30)\n",
    "print(person.get_name())  # Output: Jane\n",
    "print(person.get_age())   # Output: 30\n"
   ]
  },
  {
   "cell_type": "markdown",
   "id": "8d78d88d",
   "metadata": {},
   "source": [
    "7. What is name mangling in Python, and how does it affect encapsulation?"
   ]
  },
  {
   "cell_type": "markdown",
   "id": "bc21056c",
   "metadata": {},
   "source": [
    "Name mangling in Python is a mechanism that adds a prefix to the names of attributes in a class to make them less likely to accidentally collide with names in subclasses. It is a form of \"pseudo-encapsulation\" that aims to prevent unintentional name conflicts in a class hierarchy. This feature is achieved by adding a double underscore ( __ ) prefix to the attribute names.\n",
    "\n",
    "It affects encapsulation by make it more difficult to accidentally override or access attributes in a class hierarchy. The purposse is to reduce the chances unintentional attribute name conflicts between classes."
   ]
  },
  {
   "cell_type": "markdown",
   "id": "07736771",
   "metadata": {},
   "source": [
    "8. Create a Python class called `BankAccount` with private attributes for the account balance (`__balance`) and account number (`__account_number`). Provide methods for depositing and withdrawing money."
   ]
  },
  {
   "cell_type": "code",
   "execution_count": 10,
   "id": "29549664",
   "metadata": {},
   "outputs": [
    {
     "name": "stdout",
     "output_type": "stream",
     "text": [
      "Account Number: 52443886017\n",
      "balance: 1000.0\n",
      "Updated Balance: 4000.0\n"
     ]
    }
   ],
   "source": [
    "class BankAccount:\n",
    "    def __init__(self, account_number, balance):\n",
    "        self.__account_number = account_number # private attribute\n",
    "        self.__balance = balance # private attribute\n",
    "\n",
    "    def get_account_number(self):\n",
    "        return self.__account_number # getter method for controlled access\n",
    "\n",
    "    def get_balance(self):\n",
    "        return self.__balance # getter method for controlled access\n",
    "\n",
    "    def deposit(self, amount):\n",
    "        # Perform validation and update balance\n",
    "        self.__balance += amount\n",
    "\n",
    "    def withdraw(self, amount):\n",
    "        # Perform validation and update balance\n",
    "        if amount <= self.__balance:\n",
    "            self.__balance -= amount\n",
    "        else:\n",
    "            print('Insufficient funds')\n",
    "\n",
    "\n",
    "account = BankAccount('52443886017', 1000.0)\n",
    "\n",
    "# Accessing private attribute through getter method\n",
    "print('Account Number:', account.get_account_number())\n",
    "print('balance:', account.get_balance())\n",
    "\n",
    "# Performing transactions through public methods\n",
    "account.deposit(5000)\n",
    "account.withdraw(2000)\n",
    "# Accessing updated balance through getter method attribute through getter method\n",
    "print('Updated Balance:', account.get_balance())"
   ]
  },
  {
   "cell_type": "markdown",
   "id": "2aacc92a",
   "metadata": {},
   "source": [
    "9. Discuss the advantages of encapsulation in terms of code maintainability and security."
   ]
  },
  {
   "cell_type": "markdown",
   "id": "616e2176",
   "metadata": {},
   "source": [
    "Advantages of encapsulation in terms of code maintainability:-\n",
    "\n",
    "Modularity:-Encapsulation promotes modularity by grouping related functionalities together.This makes it easier to understand and maintain the code because each module is responsible for a specific aspect of the overall functionality.\n",
    "\n",
    "Abstraction:-Encapsulation allows developer to hide crucial implementation of a class from outside of the world. This simplifies the understanding and maintenance of a code.\n",
    "\n",
    "Isolation of changes:-Changes to the internal implementation of a class can be made without affecting the code that uses the class. The isolation reduces the impact of modifications, making it easier to maintain the code.\n",
    "\n",
    "Code Reusability:-Encapsulation facilates code reuse.Once a class is encapsulated, it can be easily reused in different parts of the code or in different projects without worrying about its internal details. This helps in code maintainbility.\n",
    "\n",
    "Encapsulation of state:-By encapsulating the state (data) of an object, a class can control access to that state through methods.This allows for validation, error checking and modification of internal state.\n",
    "\n",
    "Advantages of encapsulation in terms of security:-\n",
    "\n",
    "Access Control:-Encapsulation enables access control by providing a clear distinction between public and private members of a class. Public members are accessible from outside the class, while private members are accessible only within the class. This helps prevent unauthorized access and modification of critical data.\n",
    "\n",
    "Data Hiding:-Encapsulation supports data hiding, meaning that the internal state of an object is not directly accessible from outside the class.This protects sensitive data and prevents unintended interference.\n",
    "\n",
    "Encapsulation on invariants:-Invariants are conditions that must always be true for a class to function correctly. Encapsulation allows the class to encapsulate and enforce these invariants, ensuring that the integrity of the object is maintained.This is crucial for security, as it prevents the object from entering an inconsistent or insecure state."
   ]
  },
  {
   "cell_type": "markdown",
   "id": "02c36be0",
   "metadata": {},
   "source": [
    "10. How can you access private attributes in Python? Provide an example demonstrating the use of name mangling."
   ]
  },
  {
   "cell_type": "markdown",
   "id": "7e729858",
   "metadata": {},
   "source": [
    "To access private attributes in python name mangling is used.Name mangling is a mechanism that changes the name of a private attribute internally by adding a prefix that includes a the class name.\n",
    "\n",
    "Example:-"
   ]
  },
  {
   "cell_type": "code",
   "execution_count": 2,
   "id": "1d697159",
   "metadata": {},
   "outputs": [
    {
     "name": "stdout",
     "output_type": "stream",
     "text": [
      "12\n"
     ]
    }
   ],
   "source": [
    "class Myclass:\n",
    "    def __init__(self):\n",
    "        self.__private_var=12 # Private variable is created.\n",
    "        \n",
    "    def get_private_var(self):\n",
    "        return self.__private_var\n",
    "\n",
    "# Accessing private attribute using name mangling\n",
    "obj=Myclass()\n",
    "print(obj._Myclass__private_var)"
   ]
  },
  {
   "cell_type": "markdown",
   "id": "f9a5b0bc",
   "metadata": {},
   "source": [
    "11. Create a Python class hierarchy for a school system, including classes for students, teachers, and courses, and implement encapsulation principles to protect sensitive information."
   ]
  },
  {
   "cell_type": "code",
   "execution_count": 5,
   "id": "cbda688e",
   "metadata": {},
   "outputs": [
    {
     "name": "stdout",
     "output_type": "stream",
     "text": [
      "Student Info\n",
      "student ID:1\n",
      "Name:Mohan\n",
      "Grades:{<__main__.Courses object at 0x000001D8714C9AC0>: 90, <__main__.Courses object at 0x000001D871570430>: 85}\n",
      "\n",
      "Teacher Info\n",
      "Teacher ID:101\n",
      "Name:Kris\n",
      "Salary:100000\n",
      "\n",
      "Course Info\n",
      "Course Code:1211\n",
      "Couse Name:Machine_Learning\n",
      "Course Code:1311\n",
      "Couse Name:Data Science\n"
     ]
    }
   ],
   "source": [
    "class Students:\n",
    "    def __init__(self,student_id,name):\n",
    "        self._student_id=student_id\n",
    "        self._name=name\n",
    "        self._grades={}\n",
    "        \n",
    "    def add_grades(self,courses,grade):\n",
    "        self._grades[courses]=grade\n",
    "        \n",
    "    def get_grades(self):\n",
    "        return self._grades.copy()\n",
    "       \n",
    "class Teachers:\n",
    "    def __init__(self,teacher_id,name,salary):\n",
    "        self._teacher_id=teacher_id\n",
    "        self._name=name\n",
    "        self._salary=salary\n",
    "        \n",
    "    def get_salary(self):\n",
    "        return self._salary\n",
    "class Courses:\n",
    "    def __init__(self,course_code,course_name):\n",
    "        self._course_code=course_code\n",
    "        self._course_name=course_name\n",
    "        \n",
    "student1=Students(1,'Mohan')\n",
    "teacher1=Teachers(101,'Kris',100000)\n",
    "course1=Courses(1211,'Machine_Learning')\n",
    "course2=Courses(1311,'Data Science')\n",
    "student1.add_grades(course1,90)\n",
    "student1.add_grades(course2,85)\n",
    "\n",
    "print('Student Info')\n",
    "print(f'student ID:{student1._student_id}')\n",
    "print(f'Name:{student1._name}')\n",
    "print(f'Grades:{student1.get_grades()}')\n",
    "print()\n",
    "print('Teacher Info')\n",
    "print(f'Teacher ID:{teacher1._teacher_id}')\n",
    "print(f'Name:{teacher1._name}')\n",
    "print(f'Salary:{teacher1.get_salary()}')\n",
    "print()\n",
    "print('Course Info')\n",
    "print(f'Course Code:{course1._course_code}')\n",
    "print(f'Couse Name:{course1._course_name}')\n",
    "print(f'Course Code:{course2._course_code}')\n",
    "print(f'Couse Name:{course2._course_name}')"
   ]
  },
  {
   "cell_type": "markdown",
   "id": "4b0a3a78",
   "metadata": {},
   "source": [
    "12. Explain the concept of property decorators in Python and how they relate to encapsulation."
   ]
  },
  {
   "cell_type": "markdown",
   "id": "6d16dcc5",
   "metadata": {},
   "source": [
    "In Python, property decorators are a way to define and manage properties of a class. They allow you to customize the behavior of getting, setting, and deleting attributes in a class. Property decorators play a significant role in encapsulation by providing a mechanism to control access to the attributes of an object, enforcing data integrity and encapsulating the implementation details.\n",
    "\n",
    "Example:-"
   ]
  },
  {
   "cell_type": "code",
   "execution_count": 2,
   "id": "53eb793d",
   "metadata": {},
   "outputs": [
    {
     "data": {
      "text/plain": [
       "25"
      ]
     },
     "execution_count": 2,
     "metadata": {},
     "output_type": "execute_result"
    }
   ],
   "source": [
    "class Person:\n",
    "    def __init__(self,age):\n",
    "        self._age=age\n",
    "        \n",
    "    @property\n",
    "    def age(self):\n",
    "        return self._age\n",
    "    \n",
    "person1=Person(25)#Here the Property decorator is used to define a read-only property and trying to modify will raise attribute error\n",
    "person1.age"
   ]
  },
  {
   "cell_type": "markdown",
   "id": "fe67ac56",
   "metadata": {},
   "source": [
    "13. What is data hiding, and why is it important in encapsulation? Provide examples."
   ]
  },
  {
   "cell_type": "markdown",
   "id": "8b8ca463",
   "metadata": {},
   "source": [
    "Data hiding, also known as information hiding, is a concept in object-oriented programming that involves restricting the access to certain details of an object and exposing only what is necessary. The idea is to hide the implementation details and internal state of an object from the outside world, providing a well-defined interface for interaction. Encapsulation and data hiding often go hand in hand, and together they contribute to building more robust and maintainable software.\n",
    "\n",
    "Few reasons why data hiding is important in encapsulation:\n",
    "\n",
    "\n",
    "Encapsulation of Implementation Details:\n",
    "\n",
    "\n",
    "Data hiding allows you to encapsulate the internal details of an object,such as the structure of its data and the implementation of it's methods. This separation between the external interface and internal implementation details makes it easier to modify and maintain the code without affecting the code that uses the class.\n",
    "\n",
    "Controlled access to Data:\n",
    "\n",
    "By hiding the internal data of an object, you can control how external code accesses and modifies that data. This prevents unintended or unauthorized changes to the object's state, ensuring that the data remains in a consistent and valid state.\n",
    "\n",
    "Reduced Dependency on implementation:\n",
    "\n",
    "External code should rely on the public interface of a class rather than it's internal details. This reduces the dependency of external code on the specific implementation of a class, allowing you to make changes to the implementation without affecting the code that uses the class.\n",
    "\n",
    "Example:-"
   ]
  },
  {
   "cell_type": "code",
   "execution_count": 4,
   "id": "a20b6ebb",
   "metadata": {},
   "outputs": [
    {
     "name": "stdout",
     "output_type": "stream",
     "text": [
      "Deposit of 500 successful. New Balance:1500\n",
      "Withdrawl of 200 successful. New Balance:1300\n",
      "Current Balance:1300\n"
     ]
    }
   ],
   "source": [
    "class BankAccount:\n",
    "    def __init__(self,balance):\n",
    "        self._balance=balance\n",
    "        \n",
    "    def deposit(self,amount):\n",
    "        if amount>0:\n",
    "            self._balance+=amount\n",
    "            print(f'Deposit of {amount} successful. New Balance:{self._balance}')\n",
    "        else:\n",
    "            print('Invalid deposit amount.')\n",
    "            \n",
    "    def withdraw(self,amount):\n",
    "        if 0<amount<=self._balance:\n",
    "            self._balance-=amount\n",
    "            print(f'Withdrawl of {amount} successful. New Balance:{self._balance}')\n",
    "        else:\n",
    "            print('Invalid withdrawl amount.')\n",
    "            \n",
    "    def get_balance(self):\n",
    "        return self._balance\n",
    "    \n",
    "account=BankAccount(1000)\n",
    "account.deposit(500)\n",
    "account.withdraw(200)\n",
    "print(f'Current Balance:{account.get_balance()}')"
   ]
  },
  {
   "cell_type": "markdown",
   "id": "3336a11c",
   "metadata": {},
   "source": [
    "14. Create a Python class called `Employee` with private attributes for salary (`__salary`) and employee ID (`__employee_id`). Provide a method to calculate yearly bonuses."
   ]
  },
  {
   "cell_type": "code",
   "execution_count": 12,
   "id": "f43c27b2",
   "metadata": {},
   "outputs": [
    {
     "name": "stdout",
     "output_type": "stream",
     "text": [
      "Employee id: 12\n",
      "Employee Current Salary: 50000\n",
      "Yearly bonus: 5000.0\n"
     ]
    }
   ],
   "source": [
    "class Employee:\n",
    "    def __init__(self,emp_id,salary):\n",
    "        self.__salary=salary\n",
    "        self.__emp_id=emp_id\n",
    "        \n",
    "    def get_emp_id(self):\n",
    "        return self.__emp_id\n",
    "    \n",
    "    def get_salary(self):\n",
    "        return self.__salary\n",
    "    \n",
    "    def calculate_bonus(self,bonus_percentage):\n",
    "        bonus=(bonus_percentage/100)*self.__salary\n",
    "        return bonus\n",
    "        \n",
    "        \n",
    "emp1=Employee(12,50000)\n",
    "\n",
    "print('Employee id:',emp1.get_emp_id())\n",
    "print('Employee Current Salary:',emp1.get_salary())\n",
    "\n",
    "bonus_percentage=10\n",
    "yearly_bonus=emp1.calculate_bonus(bonus_percentage)\n",
    "\n",
    "print('Yearly bonus:',yearly_bonus)        "
   ]
  },
  {
   "cell_type": "markdown",
   "id": "09191b5a",
   "metadata": {},
   "source": [
    "15. Discuss the use of accessors and mutators in encapsulation. How do they help maintain control over attribute access?"
   ]
  },
  {
   "cell_type": "markdown",
   "id": "f845730a",
   "metadata": {},
   "source": [
    "Accessors and mutators, also known as getters and setters, are methods used in object-oriented programming to control access to the attributes of a class. They play a crucial role in encapsulation by providing a way to interact with the internal state of an object in a controlled manner. Accessors are methods that retrieve the values of private attributes, while mutators are methods that modify the values of private attributes. Together, they help maintain control over attribute access by enforcing encapsulation principles.\n",
    "\n",
    "Accessors(Getters):\n",
    "\n",
    "Accessors are methods used to retrieve the values of private attributes. They provide read-only access to the internal state of an object. By using accessors, you can control how external code retrieves information from an object, allowing you to apply validation or provide computed values.\n",
    "\n",
    "Mutators(Setters):\n",
    "\n",
    "Mutators are methods used to modify the values of private attributes. They provide a controlled way to update the internal state of an object, allowing you to enforce constraints, perform validation, or trigger specific actions when attributes are modified."
   ]
  },
  {
   "cell_type": "markdown",
   "id": "b7394e52",
   "metadata": {},
   "source": [
    "16. What are the potential drawbacks or disadvantages of using encapsulation in Python?"
   ]
  },
  {
   "cell_type": "markdown",
   "id": "5cbf0911",
   "metadata": {},
   "source": [
    "While encapsulation is a fundamental concept in object-oriented programming and brings many benefits to code design, there are potential drawbacks or disadvantages associated with its use in Python:\n",
    "\n",
    "i)Overhead and verbosity:-\n",
    "\n",
    "Encapsulation often requires the creation of getter and setter methods, which can lead to more verbose code. In Python, where conciseness and readability are valued, excessive use of getters and setters might be seen as unnecessary boilerplate code.\n",
    "\n",
    "ii)Limited usefulness with Properties:\n",
    "\n",
    "In Python, properties and decorators provide a more concise way to implement encapsulation. However, for simple cases, using properties might be seen as overengineering. The choice between a direct attribute and a property with getter and setter methods can depend on the specific needs of the code.\n",
    "\n",
    "iii)Potential Performance Impact:\n",
    "\n",
    "The use of accessor and mutator methods (getters and setters) can introduce a slight performance overhead compared to direct attribute access. In performance-critical situations, this overhead might be a concern.\n",
    "\n",
    "iv)Complexity in unit Testing:\n",
    "\n",
    "Encapsulation, especially when applied rigorously, might introduce challenges in unit testing. Testing private methods and attributes can be more difficult, potentially requiring the use of reflection or other workarounds.\n",
    "\n",
    "v)Increased Learning Curve:\n",
    "\n",
    "For beginners or those unfamiliar with object-oriented programming, understanding and properly implementing encapsulation can add complexity to the learning curve. It might take time for developers to grasp the benefits and best practices of encapsulation."
   ]
  },
  {
   "cell_type": "markdown",
   "id": "341a50c9",
   "metadata": {},
   "source": [
    "17. Create a Python class for a library system that encapsulates book information, including titles, authors, and availability status."
   ]
  },
  {
   "cell_type": "code",
   "execution_count": 4,
   "id": "65cda497",
   "metadata": {},
   "outputs": [
    {
     "name": "stdout",
     "output_type": "stream",
     "text": [
      "Library books:\n",
      "Title:Harry Potter\n",
      "Author:J.k Rowling\n",
      "Availability:Available\n",
      "Title:Hobbit\n",
      "Author:Tolkein\n",
      "Availability:Available\n",
      "Title:Twilight\n",
      "Author:Meyer\n",
      "Availability:Available\n",
      "\n",
      "You have borrowed Hobbit\n",
      "\n",
      "Library books:\n",
      "Title:Harry Potter\n",
      "Author:J.k Rowling\n",
      "Availability:Available\n",
      "Title:Hobbit\n",
      "Author:Tolkein\n",
      "Availability:Not Available\n",
      "Title:Twilight\n",
      "Author:Meyer\n",
      "Availability:Available\n",
      "\n",
      "Thank you for returning the book.\n",
      "\n",
      "Library books:\n",
      "Title:Harry Potter\n",
      "Author:J.k Rowling\n",
      "Availability:Available\n",
      "Title:Hobbit\n",
      "Author:Tolkein\n",
      "Availability:Available\n",
      "Title:Twilight\n",
      "Author:Meyer\n",
      "Availability:Available\n"
     ]
    }
   ],
   "source": [
    "class Book:\n",
    "    def __init__(self,title,author,available=True):\n",
    "        self.title=title\n",
    "        self.author=author\n",
    "        self.available=available\n",
    "        \n",
    "    def display_info(self):\n",
    "        print(f'Title:{self.title}')\n",
    "        print(f'Author:{self.author}')\n",
    "        print(f\"Availability:{'Available' if self.available else 'Not Available'}\")\n",
    "        \n",
    "class Library:\n",
    "    def __init__(self):\n",
    "        self.books=[]\n",
    "        \n",
    "    def add_book(self,book):\n",
    "        self.books.append(book)\n",
    "        \n",
    "    def display_books(self):\n",
    "        print('Library books:')\n",
    "        for book in self.books:\n",
    "            book.display_info()\n",
    "    \n",
    "    def find_book(self,title):\n",
    "        for book in self.books:\n",
    "            if book.title.lower()==title.lower():\n",
    "                return book\n",
    "        return None\n",
    "    \n",
    "    def borrow_book(self,title):\n",
    "        book=self.find_book(title)\n",
    "        if book and book.available:\n",
    "            book.available=False\n",
    "            print(f'You have borrowed {title}')\n",
    "            \n",
    "        elif book and not book.available:\n",
    "            print(f'Sorry {title} is not available at the moment.')\n",
    "            \n",
    "        else:\n",
    "            print(f'Sorry {title} is not found at the library.')\n",
    "            \n",
    "    def return_book(self,title):\n",
    "        book=self.find_book(title)\n",
    "        if book and not book.available:\n",
    "            book.available=True\n",
    "            print('Thank you for returning the book.')\n",
    "            \n",
    "        elif book and book.available:\n",
    "            print(f'Error {title} is already available in the library.')\n",
    "        else:\n",
    "            print(f'Sorry {title} is not found at the library.')\n",
    "            \n",
    "book1=Book('Harry Potter','J.k Rowling')\n",
    "book2=Book('Hobbit','Tolkein')\n",
    "book3=Book('Twilight','Meyer')\n",
    "\n",
    "library=Library()\n",
    "\n",
    "library.add_book(book1)\n",
    "library.add_book(book2)\n",
    "library.add_book(book3)\n",
    "\n",
    "library.display_books()\n",
    "print()\n",
    "library.borrow_book('Hobbit')\n",
    "print()\n",
    "library.display_books()\n",
    "print()\n",
    "library.return_book('Hobbit')\n",
    "print()\n",
    "library.display_books()"
   ]
  },
  {
   "cell_type": "markdown",
   "id": "da66efe3",
   "metadata": {},
   "source": [
    "18. Explain how encapsulation enhances code reusability and modularity in Python programs."
   ]
  },
  {
   "cell_type": "markdown",
   "id": "28a8575f",
   "metadata": {},
   "source": [
    "Encapsulation enhances code reusibility and modularity by:\n",
    "\n",
    "i)Abstraction:Encapsulation allows you to abstract away the implementation details of a class and expose only the necessary functionalities through well-defined interfaces (methods and properties). This abstraction makes it easier for other parts of the program to interact with the class without needing to know the internal details.\n",
    "\n",
    "ii)Code Organization: By encapsulating related functionalities into classes, you can organize your code in a modular way. Each class represents a module or a component with a specific responsibility. This modular organization makes the code easier to understand, maintain, and extend.\n",
    "\n",
    "iii)Reusability:Encapsulation allows you to create reusable components. Once you've defined a class with a well-designed interface, you can reuse that class in different parts of your program or even in other projects. This reusability is particularly valuable because it reduces redundancy and promotes a more efficient development process.\n",
    "\n",
    "iv)Information Hiding:Encapsulation enables information hiding, meaning that the internal details of a class are hidden from the outside world. This is achieved through access control mechanisms such as private and protected attributes and methods. By hiding implementation details, you can change the internal workings of a class without affecting the code that uses it, as long as the public interface remains consistent.\n",
    "\n",
    "v)Maintainbility: Encapsulated code is generally more maintainable. If changes need to be made to a specific functionality, you can focus on the internal details of the corresponding class without affecting the rest of the program. This isolation of changes contributes to better maintainability, as updates and modifications can be made with minimal impact on other parts of the codebase.\n",
    "\n",
    "vi)Collaboration:Encapsulation facilitates collaboration in large projects with multiple developers. Different developers can work on different classes or modules independently, as long as they adhere to the specified interfaces. This separation of concerns enables parallel development and reduces the likelihood of conflicts."
   ]
  },
  {
   "cell_type": "markdown",
   "id": "13c0afdb",
   "metadata": {},
   "source": [
    "19. Describe the concept of information hiding in encapsulation. Why is it essential in software development?"
   ]
  },
  {
   "cell_type": "markdown",
   "id": "1dbbdfba",
   "metadata": {},
   "source": [
    "The concept of information hiding in encapsulation:Encapsulation enables information hiding, meaning that the internal details of a class are hidden from the outside world. This is achieved through access control mechanisms such as private and protected attributes and methods. By hiding implementation details, you can change the internal workings of a class without affecting the code that uses it, as long as the public interface remains consistent.\n",
    "\n",
    "It is essential in software development as it promotes modularity,reduces complexity, provides flexibility for system evolution, enhances security, and facilitates collaborative development."
   ]
  },
  {
   "cell_type": "markdown",
   "id": "aed89fe3",
   "metadata": {},
   "source": [
    "20. Create a Python class called `Customer` with private attributes for customer details like name, address, and contact information. Implement encapsulation to ensure data integrity and security."
   ]
  },
  {
   "cell_type": "code",
   "execution_count": 13,
   "id": "a2f6d0c7",
   "metadata": {},
   "outputs": [
    {
     "name": "stdout",
     "output_type": "stream",
     "text": [
      "Customer Info\n",
      "Name: Sudhansu\n",
      "Address: bangalore\n",
      "Contact_info: sudh@example.com\n",
      "\n",
      "Updated Customer Info\n",
      "Name: Sudhansu Kumar\n",
      "Address: BTM Bangalore\n",
      "Contact_info: sudhansu@example.com\n"
     ]
    }
   ],
   "source": [
    "class Customer:\n",
    "    def __init__(self,name,address,contact_info):\n",
    "        self.__name=name\n",
    "        self.__address=address\n",
    "        self.__contact_info=contact_info\n",
    "    \n",
    "    def get_name(self):\n",
    "        return self.__name\n",
    "    \n",
    "    def set_name(self,new_name):\n",
    "        self.__name=new_name\n",
    "        \n",
    "    def get_address(self):\n",
    "        return self.__address\n",
    "    \n",
    "    def set_address(self,new_address):\n",
    "        self.__address=new_address\n",
    "        \n",
    "    def get_contact_info(self):\n",
    "        return self.__contact_info\n",
    "    \n",
    "    def set_contact_info(self,new_info):\n",
    "        self.__contact_info=new_info\n",
    "        \n",
    "customer=Customer('Sudhansu','bangalore','sudh@example.com')\n",
    "print('Customer Info')\n",
    "print('Name:',customer.get_name())\n",
    "print('Address:',customer.get_address())\n",
    "print('Contact_info:',customer.get_contact_info())\n",
    "print()\n",
    "\n",
    "customer.set_name('Sudhansu Kumar')\n",
    "customer.set_address('BTM Bangalore')\n",
    "customer.set_contact_info('sudhansu@example.com')\n",
    "print('Updated Customer Info')\n",
    "print('Name:',customer.get_name())\n",
    "print('Address:',customer.get_address())\n",
    "print('Contact_info:',customer.get_contact_info())"
   ]
  },
  {
   "cell_type": "markdown",
   "id": "90877e30",
   "metadata": {},
   "source": [
    "# Polymorphism:"
   ]
  },
  {
   "cell_type": "markdown",
   "id": "2d6b4ad3",
   "metadata": {},
   "source": [
    "1. What is polymorphism in Python? Explain how it is related to object-oriented programming."
   ]
  },
  {
   "cell_type": "markdown",
   "id": "168c99d6",
   "metadata": {},
   "source": [
    "Polymorphism is a concept of OOP where poly means many and morph means form.It allows object of different types to be treated as object of common type. There are two type of polymorphism : \n",
    "\n",
    "i).Compile-time polymorphism\n",
    "\n",
    "ii).Run-time polymorphism\n",
    "\n",
    "It is related to object-oriented programming because OOP revolves around object paradigm and polymorphism has the ability to show the objects of the different type to be shown as common base type."
   ]
  },
  {
   "cell_type": "markdown",
   "id": "2c815a6c",
   "metadata": {},
   "source": [
    "2. Describe the difference between compile-time polymorphism and runtime polymorphism in Python."
   ]
  },
  {
   "cell_type": "markdown",
   "id": "82aca251",
   "metadata": {},
   "source": [
    "The difference between compile time polymorphism and runtime polymorphism is:\n",
    "\n",
    "Complie-time Polymorphism:\n",
    "\n",
    "This is achieved through method overloading where a class have multiple methods with the same name exists. But the signature of their methods are different. The compiler resolves which method to be called based on their context.\n",
    "\n",
    "Runtime polymorphism:\n",
    "\n",
    "This is achieved through method overriding where a subclass have the same method which is already defined in the superclass. The method to be executed is determined at runtime based on the actual type of object."
   ]
  },
  {
   "cell_type": "markdown",
   "id": "23d3583d",
   "metadata": {},
   "source": [
    "3. Create a Python class hierarchy for shapes (e.g., circle, square, triangle) and demonstrate polymorphism through a common method, such as `calculate_area()`."
   ]
  },
  {
   "cell_type": "code",
   "execution_count": 3,
   "id": "fe8aaee1",
   "metadata": {},
   "outputs": [
    {
     "name": "stdout",
     "output_type": "stream",
     "text": [
      "The area of the Circle is 78.54\n",
      "The area of the Square is 36.00\n",
      "The area of the Triangle is 6.00\n"
     ]
    }
   ],
   "source": [
    "import math\n",
    "\n",
    "class Shape:\n",
    "    def calculate_area(self):\n",
    "        pass\n",
    "    \n",
    "class Circle(Shape):\n",
    "    def __init__(self,radius):\n",
    "        self.radius=radius\n",
    "        \n",
    "    def calculate_area(self):\n",
    "        return math.pi*self.radius**2\n",
    "    \n",
    "class Square(Shape):\n",
    "    def __init__(self,side):\n",
    "        self.side=side\n",
    "        \n",
    "    def calculate_area(self):\n",
    "        return self.side**2\n",
    "    \n",
    "class Triangle(Shape):\n",
    "    def __init__(self,base,height):\n",
    "        self.base=base\n",
    "        self.height=height\n",
    "        \n",
    "    def calculate_area(self):\n",
    "        return 0.5*self.base*self.height\n",
    "    \n",
    "shapes=[Circle(5),Square(6),Triangle(3,4)]\n",
    "\n",
    "for shape in shapes:\n",
    "    area=shape.calculate_area()\n",
    "    print(f'The area of the {type(shape).__name__} is {area:.2f}')\n",
    "    "
   ]
  },
  {
   "cell_type": "markdown",
   "id": "ac145590",
   "metadata": {},
   "source": [
    "4. Explain the concept of method overriding in polymorphism. Provide an example."
   ]
  },
  {
   "cell_type": "markdown",
   "id": "53df71ca",
   "metadata": {},
   "source": [
    "Method overriding is a concept of OOP where a subclass have a implementation of a method which is already defined in it's superclass. Method overriding is a form of runtime polymorphism.The decision of which method to invoke is made at runtime based on the actual type of the object.\n",
    "\n",
    "Example:-"
   ]
  },
  {
   "cell_type": "code",
   "execution_count": 4,
   "id": "8fed19e8",
   "metadata": {},
   "outputs": [
    {
     "name": "stdout",
     "output_type": "stream",
     "text": [
      "Laptop:Laptop is booting...\n",
      "Smartphone:smartphone is starting....\n",
      "Device:Generic Device is on...\n"
     ]
    }
   ],
   "source": [
    "class Device:\n",
    "    def power_on(self):\n",
    "        return 'Generic Device is on...'\n",
    "    \n",
    "class Laptop(Device):\n",
    "    def power_on(self):\n",
    "        return 'Laptop is booting...'\n",
    "    \n",
    "class Smartphone(Device):\n",
    "    def power_on(self):\n",
    "        return 'smartphone is starting....'\n",
    "    \n",
    "devices=[Laptop(),Smartphone(),Device()]\n",
    "\n",
    "#overriding using polymorphism\n",
    "for device in devices:\n",
    "    power=device.power_on()\n",
    "    print(f'{type(device).__name__}:{power}')"
   ]
  },
  {
   "cell_type": "markdown",
   "id": "ea7875b8",
   "metadata": {},
   "source": [
    "Here the device class has a power_on method which is overrided by Smartphone and laptop then the implementation of this is done."
   ]
  },
  {
   "cell_type": "markdown",
   "id": "27297335",
   "metadata": {},
   "source": [
    "5. How is polymorphism different from method overloading in Python? Provide examples for both."
   ]
  },
  {
   "cell_type": "markdown",
   "id": "86ca3508",
   "metadata": {},
   "source": [
    "In python polymorphism refers to the ability of objects of different type to be achieved by the common base type. It achieve through method overrinding where a subclass has a implementation of a method which is already defined in it's superclass.\n",
    "\n",
    "Where has in method overloading a class contains different methods with same name containing diffrent signatures.\n",
    "\n",
    "Example of polymorphism:"
   ]
  },
  {
   "cell_type": "code",
   "execution_count": 7,
   "id": "50586bb8",
   "metadata": {},
   "outputs": [
    {
     "name": "stdout",
     "output_type": "stream",
     "text": [
      "TV:watching TV\n",
      "Projector:watching Projector\n",
      "Screen:watching general screen\n"
     ]
    }
   ],
   "source": [
    "class Screen:\n",
    "    def watch(self):\n",
    "        return 'watching general screen'\n",
    "    \n",
    "class TV(Screen):\n",
    "    def watch(self):\n",
    "        return 'watching TV'\n",
    "    \n",
    "class Projector(Screen):\n",
    "    def watch(self):\n",
    "        return 'watching Projector'\n",
    "    \n",
    "#Demonstrate of Polymorphism\n",
    "watching=[TV(),Projector(),Screen()]\n",
    "\n",
    "for w in watching:\n",
    "    see=w.watch()\n",
    "    print(f'{type(w).__name__}:{see}')"
   ]
  },
  {
   "cell_type": "markdown",
   "id": "000862cf",
   "metadata": {},
   "source": [
    "Example of Method Overloading:"
   ]
  },
  {
   "cell_type": "code",
   "execution_count": 13,
   "id": "1ebcfa5f",
   "metadata": {},
   "outputs": [
    {
     "name": "stdout",
     "output_type": "stream",
     "text": [
      "10\n",
      "9\n",
      "6\n"
     ]
    }
   ],
   "source": [
    "class Exp:\n",
    "    def add(self,a,b=None,c=None):\n",
    "        if b is not None and c is not None:\n",
    "            return a+b+c\n",
    "        elif b is not None:\n",
    "            return a+b\n",
    "        else:\n",
    "            return a\n",
    "\n",
    "#Demonstrate of method overloading       \n",
    "obj=Exp()\n",
    "print(obj.add(5,2,3))\n",
    "print(obj.add(4,5))\n",
    "print(obj.add(6))"
   ]
  },
  {
   "cell_type": "markdown",
   "id": "d3a15027",
   "metadata": {},
   "source": [
    "6. Create a Python class called `Animal` with a method `speak()`. Then, create child classes like `Dog`, `Cat`, and `Bird`, each with their own `speak()` method. Demonstrate polymorphism by calling the `speak()` method on objects of different subclasses."
   ]
  },
  {
   "cell_type": "code",
   "execution_count": 14,
   "id": "25e767a7",
   "metadata": {},
   "outputs": [
    {
     "name": "stdout",
     "output_type": "stream",
     "text": [
      "Animal:Animal Speaks\n",
      "Dog:Dog Barks\n",
      "Cat:Cat meow\n",
      "Bird:Bird chirp\n"
     ]
    }
   ],
   "source": [
    "class Animal:\n",
    "    def speak(self):\n",
    "        return 'Animal Speaks'\n",
    "    \n",
    "class Dog(Animal):\n",
    "    def speak(self):\n",
    "        return 'Dog Barks'\n",
    "    \n",
    "class Cat(Animal):\n",
    "    def speak(self):\n",
    "        return 'Cat meow'\n",
    "    \n",
    "class Bird(Animal):\n",
    "    def speak(self):\n",
    "        return 'Bird chirp'\n",
    "    \n",
    "animals=[Animal(),Dog(),Cat(),Bird()]\n",
    "\n",
    "for animal in animals:\n",
    "    sound=animal.speak()\n",
    "    print(f\"{type(animal).__name__}:{sound}\")"
   ]
  },
  {
   "cell_type": "markdown",
   "id": "25d10d4a",
   "metadata": {},
   "source": [
    "7. Discuss the use of abstract methods and classes in achieving polymorphism in Python. Provide an example using the `abc` module."
   ]
  },
  {
   "cell_type": "markdown",
   "id": "67642ee8",
   "metadata": {},
   "source": [
    "In Python, polymorphism allows objects of different types to be treated as objects of a common type. This can be achieved through the use of abstract classes and methods. Abstract classes are classes that cannot be instantiated on their own and typically contain one or more abstract methods, which are methods without a defined implementation. Subclasses are then required to provide implementations for these abstract methods. Polymorphism comes into play when objects of different classes share a common interface (defined by the abstract class) and can be used interchangeably.\n",
    "\n",
    "Python provides the abc module (Abstract Base Classes) to work with abstract classes and methods.\n",
    "\n",
    "Example:-"
   ]
  },
  {
   "cell_type": "code",
   "execution_count": 3,
   "id": "c2ad3ce3",
   "metadata": {},
   "outputs": [
    {
     "name": "stdout",
     "output_type": "stream",
     "text": [
      "Area:78.5\n",
      "Area:12\n"
     ]
    }
   ],
   "source": [
    "from abc import ABC,abstractmethod\n",
    "\n",
    "class shape(ABC):\n",
    "    \n",
    "    @abstractmethod\n",
    "    def area(self):\n",
    "        pass\n",
    "    \n",
    "class Circle(shape):\n",
    "    \n",
    "    def __init__(self,radius):\n",
    "        self.radius=radius\n",
    "        \n",
    "    def area(self):\n",
    "        return 3.14*self.radius*self.radius\n",
    "    \n",
    "class Rectangle(shape):\n",
    "    \n",
    "    def __init__(self,width,height):\n",
    "        self.width=width\n",
    "        self.height=height\n",
    "        \n",
    "    def area(self):\n",
    "        return self.width*self.height\n",
    "    \n",
    "def print_area(shape):\n",
    "    print(f\"Area:{shape.area()}\")\n",
    "    \n",
    "circle=Circle(5)\n",
    "rectangle=Rectangle(3,4)\n",
    "\n",
    "print_area(circle)\n",
    "print_area(rectangle)\n",
    "    "
   ]
  },
  {
   "cell_type": "markdown",
   "id": "a85fe8a2",
   "metadata": {},
   "source": [
    "8. Create a Python class hierarchy for a vehicle system (e.g., car, bicycle, boat) and implement a polymorphic `start()` method that prints a message specific to each vehicle type."
   ]
  },
  {
   "cell_type": "code",
   "execution_count": 18,
   "id": "c95ffb71",
   "metadata": {},
   "outputs": [
    {
     "name": "stdout",
     "output_type": "stream",
     "text": [
      "Kia Seltos of Petrol is strating.\n",
      "Trek Fuel EX of mountain is ready to ride.\n",
      "Pegasus Swan with outboard engine is setting sail.\n"
     ]
    }
   ],
   "source": [
    "class Vehicle:\n",
    "    def __init__(self,brand,model):\n",
    "        self.brand=brand\n",
    "        self.model=model\n",
    "        \n",
    "    def start(self):\n",
    "        return f'{self.brand} {self.model} is starting.'\n",
    "    \n",
    "class Car(Vehicle):\n",
    "    def __init__(self,brand,model,fuel_type):\n",
    "        super().__init__(brand,model)\n",
    "        self.fuel_type=fuel_type\n",
    "        \n",
    "    def start(self):\n",
    "        return f'{self.brand} {self.model} of {self.fuel_type} is strating.'\n",
    "    \n",
    "class Bicycle(Vehicle):\n",
    "    def __init__(self,brand,model,bike_type):\n",
    "        super().__init__(brand,model)\n",
    "        self.bike_type=bike_type\n",
    "        \n",
    "    def start(self):\n",
    "        return f'{self.brand} {self.model} of {self.bike_type} is ready to ride.'\n",
    "    \n",
    "class Boat(Vehicle):\n",
    "    def __init__(self,brand,model,propulsion_type):\n",
    "        super().__init__(brand,model)\n",
    "        self.propulsion_type=propulsion_type\n",
    "            \n",
    "    def start(self):\n",
    "        return f\"{self.brand} {self.model} with {self.propulsion_type} engine is setting sail.\"\n",
    "    \n",
    "Vehicles=[Car('Kia','Seltos','Petrol'),\n",
    "         Bicycle('Trek','Fuel EX','mountain'),\n",
    "         Boat('Pegasus','Swan','outboard')]\n",
    "\n",
    "for vehicle in Vehicles:\n",
    "    start_msg=vehicle.start()\n",
    "    print(start_msg)"
   ]
  },
  {
   "cell_type": "markdown",
   "id": "52a66aeb",
   "metadata": {},
   "source": [
    "9. Explain the significance of the `isinstance()` and `issubclass()` functions in Python polymorphism."
   ]
  },
  {
   "cell_type": "markdown",
   "id": "98b366c3",
   "metadata": {},
   "source": [
    "In Python, the isinstance() and issubclass() functions play a significant role in working with polymorphism by allowing you to check relationships between objects and classes, respectively.\n",
    "\n",
    "Siginificance of isinstance():-\n",
    "\n",
    ".Enables you to determine if an object is compatible with a certain interface or supports certain behavior.\n",
    "\n",
    ".Facilitates the use of polymorphism by allowing you to write code that can work with objects of different types as long as they share a common base class or interface.\n",
    "\n",
    "Significance of issubclass():-\n",
    "\n",
    ".Allows you to verify if a certain class is derived from a common base class or implements a specific interface.\n",
    "\n",
    ".Useful when you want to ensure that a certain set of classes can be used interchangeably in polymorphic code."
   ]
  },
  {
   "cell_type": "markdown",
   "id": "5d49bb4f",
   "metadata": {},
   "source": [
    "10. What is the role of the `@abstractmethod` decorator in achieving polymorphism in Python? Provide an example."
   ]
  },
  {
   "cell_type": "markdown",
   "id": "4fb22fb2",
   "metadata": {},
   "source": [
    "The @abstractmethod decorator in Python is used in conjunction with the abc module (Abstract Base Classes) to define abstract methods within abstract classes. Abstract methods are methods declared in the parent class but have no implementation. They must be implemented by subclasses, enforcing the concept of polymorphism - where different classes can be treated as instances of the same class.\n",
    "\n",
    "Example:-"
   ]
  },
  {
   "cell_type": "code",
   "execution_count": 2,
   "id": "6435d5db",
   "metadata": {},
   "outputs": [
    {
     "name": "stdout",
     "output_type": "stream",
     "text": [
      "Woof!\n",
      "Meow!\n"
     ]
    }
   ],
   "source": [
    "from abc import ABC,abstractmethod\n",
    "\n",
    "class Animal(ABC):\n",
    "    def __init__(self,name):\n",
    "        self.name=name\n",
    "        \n",
    "    @abstractmethod\n",
    "    def make_sound(self):\n",
    "        pass\n",
    "    \n",
    "class Dog(Animal):\n",
    "    def make_sound(self):\n",
    "        return 'Woof!'\n",
    "    \n",
    "class Cat(Animal):\n",
    "    def make_sound(self):\n",
    "        return 'Meow!'\n",
    "    \n",
    "def animal_sound(animal):\n",
    "    return animal.make_sound()\n",
    "\n",
    "dog=Dog('Tommy')\n",
    "cat=Cat('Catty')\n",
    "\n",
    "print(animal_sound(dog))\n",
    "print(animal_sound(cat))"
   ]
  },
  {
   "cell_type": "markdown",
   "id": "665ee4bd",
   "metadata": {},
   "source": [
    "11. Create a Python class called `Shape` with a polymorphic method `area()` that calculates the area of different shapes (e.g., circle, rectangle, triangle)."
   ]
  },
  {
   "cell_type": "code",
   "execution_count": 19,
   "id": "b63c74ce",
   "metadata": {},
   "outputs": [
    {
     "name": "stdout",
     "output_type": "stream",
     "text": [
      "The area of Circle is 78.53981633974483\n",
      "The area of Rectangle is 12\n",
      "The area of Triangle is 21.0\n"
     ]
    }
   ],
   "source": [
    "import math\n",
    "class Shape:\n",
    "    def area(self):\n",
    "        pass\n",
    "    \n",
    "class Circle(Shape):\n",
    "    def __init__(self,radius):\n",
    "        self.radius=radius\n",
    "        \n",
    "    def area(self):\n",
    "        return math.pi*self.radius**2\n",
    "    \n",
    "class Rectangle(Shape):\n",
    "    def __init__(self,length,width):\n",
    "        self.length=length\n",
    "        self.width=width\n",
    "        \n",
    "    def area(self):\n",
    "        return self.length*self.width\n",
    "    \n",
    "class Triangle(Shape):\n",
    "    def __init__(self,base,height):\n",
    "        self.base=base\n",
    "        self.height=height\n",
    "        \n",
    "    def area(self):\n",
    "        return 0.5*self.base*self.height\n",
    "    \n",
    "shapes=[Circle(5),Rectangle(3,4),Triangle(6,7)]\n",
    "\n",
    "for shape in shapes:\n",
    "    area_of_all=shape.area()\n",
    "    print(f'The area of {type(shape).__name__} is {area_of_all}')"
   ]
  },
  {
   "cell_type": "markdown",
   "id": "6d749a40",
   "metadata": {},
   "source": [
    "12. Discuss the benefits of polymorphism in terms of code reusability and flexibility in Python programs."
   ]
  },
  {
   "cell_type": "markdown",
   "id": "1473e0bd",
   "metadata": {},
   "source": [
    "Polymorphism offers several benifits in terms of code reusibility and flexibility those are:\n",
    "\n",
    "Reusability of Code: Polymorphism allows you to write code that can work with objects of various types, often through a common interface. This means that you can write functions or methods that operate on a base class or interface, and then reuse those functions with any subclass or implementation of that interface. This leads to cleaner, more modular code that can be easily extended or modified without having to rewrite large portions of code.\n",
    "\n",
    "Flexibility and Extensibility: Polymorphism enables you to create systems that are more flexible and easily extensible. By designing your code to rely on abstract interfaces or base classes rather than concrete implementations, you can accommodate new types or behaviors simply by creating new subclasses or implementations. This makes it easier to add new features or modify existing ones without having to modify existing code extensively."
   ]
  },
  {
   "cell_type": "markdown",
   "id": "290ccdae",
   "metadata": {},
   "source": [
    "13. Explain the use of the `super()` function in Python polymorphism. How does it help call methods of parent classes?"
   ]
  },
  {
   "cell_type": "markdown",
   "id": "73171b29",
   "metadata": {},
   "source": [
    "In Python, the super() function is used to call methods of the parent class (also known as superclass or base class) within a subclass. It allows for seamless inheritance and facilitates the implementation of polymorphism by enabling subclasses to extend or override the behavior of methods defined in their parent classes.\n",
    "\n",
    "Here's how super() works and how it aids in polymorphism:\n",
    "\n",
    "i.Accessing Parent Class Methods: In a subclass, when you call super().method_name(), Python searches for the method method_name() in the parent class of the current class. This allows the subclass to utilize the functionality provided by the parent class, promoting code reuse and ensuring that the behavior defined in the parent class is preserved.\n",
    "\n",
    "ii.Maintaining Method Resolution Order (MRO): Python utilizes the Method Resolution Order (MRO) to determine the order in which methods are searched for and executed in a class hierarchy. The super() function respects this order and ensures that methods are invoked from the appropriate class in the hierarchy, adhering to the principles of inheritance and polymorphism.\n",
    "\n",
    "iii.Dynamic Dispatch: super() facilitates dynamic dispatch, allowing for polymorphic behavior based on the specific subclass instance being used. This means that even if a method is overridden in a subclass, calling super() ensures that the appropriate method defined in the parent class is invoked, promoting flexibility and extensibility in object-oriented designs."
   ]
  },
  {
   "cell_type": "markdown",
   "id": "1c4ff244",
   "metadata": {},
   "source": [
    "14. Create a Python class hierarchy for a banking system with various account types (e.g., savings, checking, credit card) and demonstrate polymorphism by implementing a common `withdraw()` method."
   ]
  },
  {
   "cell_type": "code",
   "execution_count": 23,
   "id": "6c457649",
   "metadata": {},
   "outputs": [
    {
     "name": "stdout",
     "output_type": "stream",
     "text": [
      "Savings,SV123:Withdrawl of 200 is successful. After withdrawing the balance is 800(Interst applied : $4.00)\n",
      "CheckAccount,CK123:Withdrawl of 200 is successful.Remaining balance:4800\n",
      "CreditCardAccount,CC123:Withdrawl of 200 is successful.Remaining balance:2300\n"
     ]
    }
   ],
   "source": [
    "class BankAccount:\n",
    "    def __init__(self,acc_no,balance):\n",
    "        self.acc_no=acc_no\n",
    "        self.balance=balance\n",
    "        \n",
    "    def withdraw(self,amount):\n",
    "        if amount<=0:\n",
    "            return \"Invalid withdrawl amount. Please enter the amount in the positive number.\"\n",
    "        elif amount>self.balance:\n",
    "            return \"Insufficient Funds\"\n",
    "        \n",
    "        else:\n",
    "            self.balance-=amount\n",
    "            return f'Withdrawl of {amount} is successful. After withdrawing the balance is {self.balance}'\n",
    "        \n",
    "class Savings(BankAccount):\n",
    "    def __init__(self,acc_no,balance,interest):\n",
    "        super().__init__(acc_no,balance)\n",
    "        self.interest=interest\n",
    "        \n",
    "    def withdraw(self,amount):\n",
    "        withdrawl_amount=super().withdraw(amount)\n",
    "        \n",
    "        if 'successful' in withdrawl_amount:\n",
    "            self.balance-=amount*(self.interest/100)\n",
    "            withdrawl_amount+=f'(Interst applied : ${amount *(self.interest/100):.2f})'\n",
    "        return withdrawl_amount\n",
    "    \n",
    "class CheckAccount(BankAccount):\n",
    "    def __init__(self,acc_no,balance,overdraft_limit):\n",
    "        super().__init__(acc_no,balance)\n",
    "        self.overdraft_limit=overdraft_limit\n",
    "        \n",
    "    def withdraw(self,amount):\n",
    "        if amount>self.balance+self.overdraft_limit:\n",
    "            return f'Withdrawl amount exceeds overdraft limit.'\n",
    "        else:\n",
    "            self.balance-=amount\n",
    "            return f'Withdrawl of {amount} is successful.Remaining balance:{self.balance}'\n",
    "        \n",
    "class CreditCardAccount(BankAccount):\n",
    "    def __init__(self,acc_no,balance,CreditLimit):\n",
    "        super().__init__(acc_no,balance)\n",
    "        self.CreditLimit=CreditLimit\n",
    "    \n",
    "    def withdraw(self,amount):\n",
    "        if amount>self.balance+self.CreditLimit:\n",
    "            return f'Withdrawl amount exceeds overdraft limit.'\n",
    "        else:\n",
    "            self.balance-=amount\n",
    "            return f'Withdrawl of {amount} is successful.Remaining balance:{self.balance}'\n",
    "        \n",
    "accounts=[Savings('SV123',1000,2),CheckAccount('CK123',5000,2000),CreditCardAccount('CC123',2500,1000)]\n",
    "for account in accounts:\n",
    "    withdraw_result=account.withdraw(200)\n",
    "    print(f'{type(account).__name__},{account.acc_no}:{withdraw_result}')\n",
    "        \n",
    "        "
   ]
  },
  {
   "cell_type": "markdown",
   "id": "2d23986c",
   "metadata": {},
   "source": [
    "15. Describe the concept of operator overloading in Python and how it relates to polymorphism. Provide examples using operators like `+` and `*`."
   ]
  },
  {
   "cell_type": "markdown",
   "id": "dad5b430",
   "metadata": {},
   "source": [
    "Operator overloading in Python refers to the ability to define custom behavior for built-in operators such as addition (+), subtraction (-), multiplication (*), and more. This allows objects of user-defined classes to support these operators, enabling more intuitive and expressive code.\n",
    "\n",
    "Operator overloading relates to polymorphism in that it allows different classes to define their own implementations of operators, enabling them to behave differently depending on the types of operands involved. This promotes polymorphic behavior, where the same operator can exhibit different behaviors based on the types of objects it operates on.\n",
    "\n",
    "Examples using + and * operator:-"
   ]
  },
  {
   "cell_type": "code",
   "execution_count": 6,
   "id": "54454c86",
   "metadata": {},
   "outputs": [
    {
     "name": "stdout",
     "output_type": "stream",
     "text": [
      "Result of addition: 4 6\n",
      "Result of multiplication: 3 8\n"
     ]
    }
   ],
   "source": [
    "class Vector:\n",
    "    def __init__(self, x, y):\n",
    "        self.x = x\n",
    "        self.y = y\n",
    "    \n",
    "    def __add__(self, other):\n",
    "        return Vector(self.x + other.x, self.y + other.y)\n",
    "    \n",
    "    def __mul__(self,scalar):\n",
    "        return Vector(self.x*scalar.x,self.y*scalar.y)\n",
    "\n",
    "\n",
    "v1 = Vector(1, 2)\n",
    "v2 = Vector(3, 4)\n",
    "\n",
    "\n",
    "res1 = v1 + v2\n",
    "res2=v1*v2\n",
    "print(\"Result of addition:\", res1.x, res1.y)  \n",
    "print(\"Result of multiplication:\", res2.x, res2.y)  "
   ]
  },
  {
   "cell_type": "markdown",
   "id": "e0f39a3a",
   "metadata": {},
   "source": [
    "16. What is dynamic polymorphism, and how is it achieved in Python?"
   ]
  },
  {
   "cell_type": "markdown",
   "id": "3cd1be83",
   "metadata": {},
   "source": [
    "Dynamic polymorphism, also known as runtime polymorphism, refers to the ability of a programming language to determine which method or operation to execute at runtime, based on the actual type of the object being referenced. In other words, the decision about which method to call is made dynamically during program execution, rather than at compile time.\n",
    "\n",
    "Dynamic polymorphism is achieved through method overriding, where a subclass provides a specific implementation of a method that is already defined in its superclass. When a method is invoked on an object, the runtime environment determines which implementation of the method to execute based on the actual type of the object, rather than the reference type."
   ]
  },
  {
   "cell_type": "markdown",
   "id": "c39bef22",
   "metadata": {},
   "source": [
    "17. Create a Python class hierarchy for employees in a company (e.g., manager, developer, designer) and implement polymorphism through a common `calculate_salary()` method."
   ]
  },
  {
   "cell_type": "code",
   "execution_count": 28,
   "id": "a2e119a5",
   "metadata": {},
   "outputs": [
    {
     "name": "stdout",
     "output_type": "stream",
     "text": [
      "Manager got 54000.0 per month.\n",
      "Developer got 75000 per month.\n",
      "Designer got 64000 per month.\n"
     ]
    }
   ],
   "source": [
    "class Employee:\n",
    "    def __init__(self,name,position):\n",
    "        self.name=name\n",
    "        self.position=position\n",
    "        \n",
    "    def calculate_salary(self):\n",
    "        return 0\n",
    "    \n",
    "class Manager(Employee):\n",
    "    def __init__(self,name,bonus_percentage):\n",
    "        super().__init__(name,position='manager')\n",
    "        self.bonus_percentage=bonus_percentage\n",
    "        \n",
    "    def calculate_salary(self):\n",
    "        base_salary=50000\n",
    "        bonus_amount=base_salary*(self.bonus_percentage/100)\n",
    "        total_salary=base_salary+bonus_amount\n",
    "        return total_salary\n",
    "    \n",
    "class Developer(Employee):\n",
    "    def __init__(self,name,prog_lang):\n",
    "        super().__init__(name,position='developer')\n",
    "        self.prog_lang=prog_lang\n",
    "        \n",
    "    def calculate_salary(self):\n",
    "        base_salary=70000\n",
    "        if self.prog_lang=='Python':\n",
    "            bonus_amount=5000\n",
    "        else:\n",
    "            bonus_amount=1000\n",
    "        \n",
    "        total_salary=base_salary+bonus_amount\n",
    "        return total_salary\n",
    "    \n",
    "class Designer(Employee):\n",
    "    def __init__(self,name,experience):\n",
    "        super().__init__(name,position='designer')\n",
    "        self.experience=experience\n",
    "        \n",
    "    def calculate_salary(self):\n",
    "        base_salary=60000\n",
    "        bonus_amount=min(self.experience,5)*1000\n",
    "        total_salary=base_salary+bonus_amount\n",
    "        return total_salary\n",
    "    \n",
    "employees=[Manager('Bean',8),Developer('ALice','Python'),Designer('Mike',4)]\n",
    "\n",
    "for employee in employees:\n",
    "    emp_salary=employee.calculate_salary()\n",
    "    \n",
    "    print(f'{type(employee).__name__} got {emp_salary} per month.')"
   ]
  },
  {
   "cell_type": "markdown",
   "id": "067abbde",
   "metadata": {},
   "source": [
    "18. Discuss the concept of function pointers and how they can be used to achieve polymorphism in Python."
   ]
  },
  {
   "cell_type": "markdown",
   "id": "5996456f",
   "metadata": {},
   "source": [
    "In Python, function pointers are not directly available in the same way as they are in languages like C or C++. However, the concept of function pointers can be emulated using first-class functions and higher-order functions, which are supported in Python. Function pointers essentially allow you to pass functions as arguments to other functions, store them in data structures, and return them from functions. This capability enables dynamic dispatch and polymorphism in Python.\n",
    "\n",
    "Here's how function pointers can be used to achieve polymorphism using python:-\n",
    "\n",
    "i.Passing Functions as Arguments: You can define functions and pass them as arguments to other functions. This allows you to implement different behaviors for a function based on the function passed as an argument.\n",
    "\n",
    "ii.Using Higher-Order Functions: Higher-order functions are functions that take other functions as arguments or return functions as results. By defining higher-order functions, you can encapsulate common patterns of behavior and achieve polymorphism by passing different functions to these higher-order functions.\n",
    "\n",
    "iii.Function Composition and Currying: Function composition and currying are functional programming techniques that involve combining multiple functions to create new functions. These techniques allow you to build complex behaviors by composing simpler functions, promoting code reuse and polymorphic behavior.\n",
    "\n",
    "iv.allback Functions: Callback functions are functions that are passed as arguments to other functions and are invoked asynchronously to handle events or perform tasks. By defining callback functions, you can achieve polymorphism by customizing the behavior of functions at runtime based on the specific callback provided.\n",
    "\n",
    "here is a example demonstrating how function pointers can be used to achieve polymorphism in Python:"
   ]
  },
  {
   "cell_type": "code",
   "execution_count": 10,
   "id": "9f008e8a",
   "metadata": {},
   "outputs": [
    {
     "name": "stdout",
     "output_type": "stream",
     "text": [
      "Addition result: 7\n",
      "Substract result: 1\n"
     ]
    }
   ],
   "source": [
    "def add(x,y):\n",
    "    return x+y\n",
    "def substract(x,y):\n",
    "    return x-y\n",
    "\n",
    "def do_operation(operation,x,y):\n",
    "    return operation(x,y)\n",
    "\n",
    "result1=do_operation(add,3,4)\n",
    "result2=do_operation(substract,6,5)\n",
    "print(\"Addition result:\",result1)\n",
    "print(\"Substract result:\",result2)"
   ]
  },
  {
   "cell_type": "markdown",
   "id": "d2006eaa",
   "metadata": {},
   "source": [
    "19. Explain the role of interfaces and abstract classes in polymorphism, drawing comparisons between them."
   ]
  },
  {
   "cell_type": "markdown",
   "id": "4460261f",
   "metadata": {},
   "source": [
    "In object-oriented programming, interfaces and abstract classes play crucial roles in achieving polymorphism by defining contracts that classes must adhere to.\n",
    "\n",
    "The role of interface in polymorphism:-Interfaces enable polymorphism by allowing different classes to be treated interchangeably based on their adherence to the interface. Code that depends on an interface can work with any class that implements that interface, promoting flexibility and code reuse.\n",
    "\n",
    "The role of abstract class in polymorphism:-Interfaces enable polymorphism by allowing different classes to be treated interchangeably based on their adherence to the interface. Code that depends on an interface can work with any class that implements that interface, promoting flexibility and code reuse.\n",
    "\n",
    "Comparisons:\n",
    "\n",
    "i.Implementation: Interfaces contain only method signatures, while abstract classes can contain both abstract and concrete methods.\n",
    "\n",
    "ii.Instantiation: Abstract classes cannot be instantiated directly, while interfaces cannot be instantiated at all.\n",
    "\n",
    "iii.Multiple Inheritance: Some programming languages allow classes to implement multiple interfaces, whereas inheritance from multiple abstract classes may not always be supported.\n",
    "\n",
    "iv.Flexibility: Interfaces provide more flexibility as they allow unrelated classes to implement the same interface. Abstract classes, on the other hand, impose a hierarchical relationship, where subclasses must inherit from the abstract class."
   ]
  },
  {
   "cell_type": "markdown",
   "id": "fe4bef7e",
   "metadata": {},
   "source": [
    "20. Create a Python class for a zoo simulation, demonstrating polymorphism with different animal types (e.g., mammals, birds, reptiles) and their behavior (e.g., eating, sleeping, making sounds)."
   ]
  },
  {
   "cell_type": "code",
   "execution_count": 32,
   "id": "0fc5079d",
   "metadata": {},
   "outputs": [
    {
     "name": "stdout",
     "output_type": "stream",
     "text": [
      "Lion:Panthera Leo\n",
      "Sound:generic sound...\n",
      "Eat:eating..\n",
      "sleep:sleeping...\n",
      "Give Barth:giving birth to live young\n",
      "\n",
      "Eagle:Aquila chrysaetos\n",
      "Sound:generic sound...\n",
      "Eat:eating..\n",
      "sleep:sleeping...\n",
      "Fly:Flying in the sky\n",
      "\n",
      "snake:Pythonidae\n",
      "Sound:generic sound...\n",
      "Eat:eating..\n",
      "sleep:sleeping...\n",
      "Bask in Sun: Basking in the sun for warmth\n",
      "\n"
     ]
    }
   ],
   "source": [
    "class Animal:\n",
    "    def __init__(self,name,species):\n",
    "        self.name=name\n",
    "        self.species=species\n",
    "        \n",
    "    def make_sound(self):\n",
    "        return 'generic sound...'\n",
    "    \n",
    "    def eat(self):\n",
    "        return 'eating..'\n",
    "    \n",
    "    def sleep(self):\n",
    "        return 'sleeping...'\n",
    "    \n",
    "class Mammal(Animal):\n",
    "    def give_birth(self):\n",
    "        return 'giving birth to live young'\n",
    "    \n",
    "class bird(Animal):\n",
    "    def fly(self):\n",
    "        return 'Flying in the sky'\n",
    "    \n",
    "class reptile(Animal):\n",
    "    def bask_in_sun(self):\n",
    "        return 'Basking in the sun for warmth'\n",
    "    \n",
    "zoo_animals=[Mammal('Lion','Panthera Leo'),bird('Eagle','Aquila chrysaetos'),reptile('snake','Pythonidae')]\n",
    "\n",
    "for animal in zoo_animals:\n",
    "    print(f'{animal.name}:{animal.species}')\n",
    "    print(f'Sound:{animal.make_sound()}')\n",
    "    print(f'Eat:{animal.eat()}')\n",
    "    print(f'sleep:{animal.sleep()}')\n",
    "    if isinstance(animal,Mammal):\n",
    "        print(f'Give Barth:{animal.give_birth()}')\n",
    "        \n",
    "    elif isinstance(animal,bird):\n",
    "        print(f'Fly:{animal.fly()}')\n",
    "        \n",
    "    elif isinstance(animal,reptile):\n",
    "        print(f'Bask in Sun: {animal.bask_in_sun()}')\n",
    "        \n",
    "    print()"
   ]
  },
  {
   "cell_type": "markdown",
   "id": "d3aebc04",
   "metadata": {},
   "source": [
    "# Abstraction:"
   ]
  },
  {
   "cell_type": "markdown",
   "id": "a0cb4565",
   "metadata": {},
   "source": [
    "1. What is abstraction in Python, and how does it relate to object-oriented programming?"
   ]
  },
  {
   "cell_type": "markdown",
   "id": "26acd0a1",
   "metadata": {},
   "source": [
    "Abstraction in Python, as in other object-oriented programming languages, refers to the process of hiding the complex implementation details of a class and exposing only the essential features or functionalities to the outside world. It allows programmers to focus on the high-level structure of a program without worrying about the intricate details of how each component works internally.\n",
    "\n",
    "Abstraction is closely related to the core principles of OOP:\n",
    "\n",
    "i.Modularity: Abstraction promotes modularity by breaking down complex systems into smaller, manageable units (classes). Each class encapsulates a specific set of functionalities, making the overall system easier to understand, maintain, and extend.\n",
    "\n",
    "ii.Encapsulation: Abstraction relies on encapsulation to hide the internal details of a class and expose only the necessary interfaces. This ensures that users of the class interact with it through well-defined methods, reducing the complexity and potential for errors.\n",
    "\n",
    "iii.Inheritance: Inheritance allows for the creation of hierarchical relationships between classes, enabling the reuse of code and promoting abstraction through specialization. Subclasses inherit common functionalities from their superclasses, allowing them to focus on implementing specific features.\n",
    "\n",
    "iv.Polymorphism: Polymorphism enables objects to exhibit different behaviors based on their types, promoting abstraction by allowing for generic algorithms that can operate on objects of various types without knowledge of their specific implementations."
   ]
  },
  {
   "cell_type": "markdown",
   "id": "0ab19745",
   "metadata": {},
   "source": [
    "2. Describe the benefits of abstraction in terms of code organization and complexity reduction."
   ]
  },
  {
   "cell_type": "markdown",
   "id": "0105ade6",
   "metadata": {},
   "source": [
    "Abstraction offers several benefits in terms of code organization and complexity reduction:\n",
    "\n",
    "i.Modularity: Abstraction promotes modularity by breaking down complex systems into smaller, more manageable units. Each unit, typically represented by a class or module, encapsulates a specific set of functionalities. This modular approach allows developers to focus on implementing and understanding individual components without being overwhelmed by the complexity of the entire system.\n",
    "\n",
    "ii.Encapsulation: Abstraction encourages encapsulation, which involves bundling data and methods within a class and controlling access to them. By hiding the internal implementation details of a class and exposing only the necessary interfaces, abstraction reduces complexity by providing a clear separation between the external interface and the internal workings of a component. This helps prevent unintended interactions and minimizes the risk of errors caused by improper use of class members.\n",
    "\n",
    "iii.Code Reusability: Abstraction facilitates code reusability by promoting the creation of reusable components. Once a class or module is designed to encapsulate a specific functionality, it can be easily reused in different parts of the system or in other projects. This reduces duplication of code, promotes consistency, and speeds up development by leveraging existing solutions rather than reinventing the wheel.\n",
    "\n",
    "iv.Simplified Maintenance: Abstraction simplifies maintenance by providing a clear structure and organization to the codebase. Since each component is self-contained and focused on a specific task, making changes or fixing bugs becomes easier and less error-prone. Developers can modify or extend individual components without affecting other parts of the system, leading to more robust and maintainable software.\n",
    "\n",
    "v.Reduced Cognitive Load: Abstraction reduces cognitive load by hiding unnecessary details and exposing only the essential features to users of the code. Developers can interact with high-level abstractions without needing to understand the intricate inner workings of each component. This improves code comprehension, making it easier to understand and reason about the system as a whole.\n",
    "\n",
    "vi.Scalability: Abstraction promotes scalability by allowing developers to add new features or extend existing functionality without significantly increasing complexity. By encapsulating functionalities within well-defined components, abstraction enables the system to grow in a modular and organized manner, making it easier to manage and evolve over time."
   ]
  },
  {
   "cell_type": "markdown",
   "id": "5664791f",
   "metadata": {},
   "source": [
    "3. Create a Python class called `Shape` with an abstract method `calculate_area()`. Then, create child classes (e.g., `Circle`, `Rectangle`) that implement the `calculate_area()` method. Provide an example of using these classes."
   ]
  },
  {
   "cell_type": "code",
   "execution_count": 35,
   "id": "127a2ffd",
   "metadata": {},
   "outputs": [
    {
     "name": "stdout",
     "output_type": "stream",
     "text": [
      "The area of Circle is 78.54\n",
      "The area of Rectangle is 12\n"
     ]
    }
   ],
   "source": [
    "from abc import ABC,abstractmethod\n",
    "import math\n",
    "class Shape(ABC):\n",
    "    \n",
    "    @abstractmethod\n",
    "    def calculate_area():\n",
    "        pass\n",
    "    \n",
    "class Circle(Shape):\n",
    "    def __init__(self,radius):\n",
    "        self.radius=radius\n",
    "    \n",
    "    def calculate_area(self):\n",
    "        return math.pi*self.radius**2\n",
    "\n",
    "class Rectangle(Shape):\n",
    "    def __init__(self,length,width):\n",
    "        self.length=length\n",
    "        self.width=width\n",
    "        \n",
    "    def calculate_area(self):\n",
    "        return self.length*self.width\n",
    "    \n",
    "    \n",
    "circle=Circle(5)\n",
    "rect=Rectangle(3,4)\n",
    "\n",
    "print(f'The area of Circle is {circle.calculate_area():.2f}')\n",
    "print(f'The area of Rectangle is {rect.calculate_area()}')"
   ]
  },
  {
   "cell_type": "markdown",
   "id": "790c2690",
   "metadata": {},
   "source": [
    "4. Explain the concept of abstract classes in Python and how they are defined using the `abc` module. Provide an example."
   ]
  },
  {
   "cell_type": "markdown",
   "id": "7808b9a1",
   "metadata": {},
   "source": [
    "In Python, abstract classes are classes that cannot be instantiated directly and may contain one or more abstract methods. Abstract methods are methods declared in the abstract class but have no implementation; they serve as placeholders for methods that must be implemented by subclasses. Abstract classes provide a way to define a common interface or behavior that subclasses must adhere to, ensuring consistency and promoting code reuse.\n",
    "\n",
    "Python's abc (Abstract Base Classes) module provides tools for defining abstract classes and methods. The abc module allows you to create abstract base classes and mark methods as abstract using the @abstractmethod decorator. Subclasses of abstract base classes must implement all abstract methods defined in the base class, thereby fulfilling the contract specified by the abstract class.\n",
    "\n",
    "Example:-"
   ]
  },
  {
   "cell_type": "code",
   "execution_count": 13,
   "id": "567b0299",
   "metadata": {},
   "outputs": [
    {
     "name": "stdout",
     "output_type": "stream",
     "text": [
      "Area of Circle: 28.259999999999998\n",
      "Area of rectangle: 12\n"
     ]
    }
   ],
   "source": [
    "from abc import ABC,abstractmethod\n",
    "\n",
    "class Shape(ABC):\n",
    "    \n",
    "    @abstractmethod\n",
    "    def area(self):\n",
    "        pass\n",
    "        \n",
    "        \n",
    "class Circle(Shape):\n",
    "    \n",
    "    def __init__(self,radius):\n",
    "        self.radius=radius\n",
    "        \n",
    "    def area(self):\n",
    "        return 3.14*self.radius*self.radius\n",
    "    \n",
    "class Rectangle(Shape):\n",
    "    def __init__(self,height,width):\n",
    "        self.height=height\n",
    "        self.width=width\n",
    "        \n",
    "    def area(self):\n",
    "        return self.height* self.width\n",
    "    \n",
    "cir=Circle(3)\n",
    "rect=Rectangle(3,4)\n",
    "print(\"Area of Circle:\",cir.area())\n",
    "print(\"Area of rectangle:\",rect.area())"
   ]
  },
  {
   "cell_type": "markdown",
   "id": "5a8de63f",
   "metadata": {},
   "source": [
    "5. How do abstract classes differ from regular classes in Python? Discuss their use cases."
   ]
  },
  {
   "cell_type": "markdown",
   "id": "58add3f0",
   "metadata": {},
   "source": [
    "Differences between Abstract class and regular class are:-\n",
    "\n",
    "i.Instantiation:\n",
    "\n",
    ".Regular classes can be instantiated directly, meaning you can create objects (instances) of those classes using the ClassName() syntax.\n",
    "\n",
    ".Abstract classes cannot be instantiated directly. They serve as blueprints for other classes and are meant to be subclassed. Abstract classes may contain abstract methods that have no implementation, and these methods must be implemented by subclasses.\n",
    "\n",
    "ii.Purpose:\n",
    "\n",
    ".Regular classes are used to create objects that represent real-world entities or concepts. They encapsulate data (attributes) and behavior (methods) related to those entities.\n",
    "\n",
    ".Abstract classes are used to define a common interface or behavior that subclasses must adhere to. They provide a template or contract for subclasses to follow, ensuring consistency and promoting code reuse.\n",
    "\n",
    "iii.Usage:\n",
    "\n",
    ".Regular classes are used when you want to create objects with specific properties and behaviors. You can instantiate regular classes directly and use them to create instances of those objects.\n",
    "\n",
    ".Abstract classes are used when you want to define a common interface or behavior that multiple related classes should implement. Abstract classes cannot be instantiated directly, but they provide a way to enforce a specific structure or behavior on subclasses.\n",
    "\n",
    "Usecases:-\n",
    "\n",
    "i.Regular Classes:\n",
    "\n",
    ".Regular classes are suitable for modeling real-world entities, such as animals, cars, employees, etc. These classes encapsulate data and behavior related to those entities.\n",
    "\n",
    ".Regular classes are used when you need to create instances of objects with specific attributes and methods. For example, you might create a Car class with attributes like make, model, and methods like drive and stop.\n",
    "\n",
    "ii.Abstract Classes:\n",
    "\n",
    ".Abstract classes are used when you want to define a common interface or behavior that multiple related classes should implement.\n",
    "\n",
    ".Abstract classes are useful in situations where you want to enforce certain methods to be implemented by subclasses but do not want the abstract class itself to be instantiated.\n",
    "\n",
    ".For example, you might define an abstract class Shape with an abstract method area. Subclasses like Rectangle and Circle would then implement the area method according to their specific shapes."
   ]
  },
  {
   "cell_type": "markdown",
   "id": "916c0852",
   "metadata": {},
   "source": [
    "6. Create a Python class for a bank account and demonstrate abstraction by hiding the account balance and providing methods to deposit and withdraw funds."
   ]
  },
  {
   "cell_type": "code",
   "execution_count": 43,
   "id": "de523af7",
   "metadata": {},
   "outputs": [
    {
     "name": "stdout",
     "output_type": "stream",
     "text": [
      "Savings account_number:SV123\n",
      "Intial Account Balance:1000\n",
      "Amount 500 successfully deposited in your account. Updated account balance is 1500\n",
      "Amount 200 successfully withdrawn. Updated account balance is 1300\n",
      "Insufficient Funds.Account balance:1300\n"
     ]
    }
   ],
   "source": [
    "from abc import ABC,abstractmethod\n",
    "\n",
    "class BankAccount(ABC):\n",
    "    def __init__(self,Account_number,intial_balance=0):\n",
    "        self.Account_number=Account_number\n",
    "        self._balance=intial_balance\n",
    "        \n",
    "    @property\n",
    "    def balance(self):\n",
    "        return self._balance\n",
    "    \n",
    "    @abstractmethod\n",
    "    def deposit(self,amount):\n",
    "        pass\n",
    "    \n",
    "    @abstractmethod\n",
    "    def withdraw(self,amount):\n",
    "        pass\n",
    "    \n",
    "class SavingsAccount(BankAccount):\n",
    "    \n",
    "    def deposit(self,amount):\n",
    "        if amount>0:\n",
    "            self._balance+=amount\n",
    "            return f'Amount {amount} successfully deposited in your account. Updated account balance is {self._balance}'\n",
    "        else:\n",
    "            return 'Invalid deposit amount . please enter the number in positive.'\n",
    "        \n",
    "    def withdraw(self,amount):\n",
    "        if amount<0:\n",
    "            return 'Invalid withdrawl amount . please enter the number in positive.'\n",
    "        elif amount>self._balance:\n",
    "            return f'Insufficient Funds.Account balance:{self._balance}'\n",
    "        else:\n",
    "            self._balance-=amount\n",
    "            return f'Amount {amount} successfully withdrawn. Updated account balance is {self._balance}'\n",
    "        \n",
    "acc1=SavingsAccount('SV123',1000)\n",
    "print(f'Savings account_number:{acc1.Account_number}')\n",
    "print(f'Intial Account Balance:{acc1.balance}')\n",
    "print(acc1.deposit(500))\n",
    "\n",
    "print(acc1.withdraw(200))\n",
    "print(acc1.withdraw(2000))\n"
   ]
  },
  {
   "cell_type": "markdown",
   "id": "0844e339",
   "metadata": {},
   "source": [
    "7. Discuss the concept of interface classes in Python and their role in achieving abstraction."
   ]
  },
  {
   "cell_type": "markdown",
   "id": "d9d28d45",
   "metadata": {},
   "source": [
    "In Python, interface classes are classes that define a set of method signatures without providing any implementations. They serve as blueprints for defining a common interface that multiple classes can adhere to, ensuring consistency and promoting code reuse. Interface classes specify what methods a class should have, but they do not dictate how those methods should be implemented.\n",
    "\n",
    "Interface classes play a crucial role in achieving abstraction by:\n",
    "\n",
    "i.Defining Contracts: Interface classes define contracts that classes must adhere to. They specify the methods that implementing classes must provide, establishing a common interface for interacting with objects of different types.\n",
    "\n",
    "ii.Enforcing Structure: Interface classes enforce a specific structure on implementing classes by requiring them to implement certain methods. This ensures that implementing classes have consistent behavior, making it easier to work with them interchangeably.\n",
    "\n",
    "iii.Promoting Polymorphism: Interface classes enable polymorphism by allowing objects of different classes to be treated interchangeably based on their adherence to a common interface. Code that depends on an interface can work with any class that implements that interface, promoting flexibility and code reuse.\n",
    "\n",
    "iv.Providing Abstraction: Interface classes provide a level of abstraction by hiding the internal details of implementing classes and exposing only the essential features or functionalities. This simplifies the interaction with objects and reduces the cognitive load on developers."
   ]
  },
  {
   "cell_type": "markdown",
   "id": "1aca440a",
   "metadata": {},
   "source": [
    "8. Create a Python class hierarchy for animals and implement abstraction by defining common methods (e.g., `eat()`, `sleep()`) in an abstract base class."
   ]
  },
  {
   "cell_type": "code",
   "execution_count": 53,
   "id": "d5417235",
   "metadata": {},
   "outputs": [
    {
     "name": "stdout",
     "output_type": "stream",
     "text": [
      "Lion:Panthera Leo\n",
      "Eat:Mammal eats meat\n",
      "Sleep:Mammal sleeps\n",
      "Give Barth:give birth to live young\n",
      "\n",
      "Eagle:Aquila chrysaetos\n",
      "Eat:Bird eats bugs\n",
      "Sleep:Bird sleeps\n",
      "Fly: fly in the sky\n",
      "\n",
      "snake:Pythonidae\n",
      "Eat:Reptile eats insects\n",
      "Sleep:Reptile sleeps\n",
      "Bask in Sun: Basking in the sun for warmth\n",
      "\n"
     ]
    }
   ],
   "source": [
    "from abc import ABC,abstractmethod\n",
    "\n",
    "class Animal(ABC):\n",
    "    def __init__(self,name,species):\n",
    "        self.name=name\n",
    "        self.species=species\n",
    "        \n",
    "        @abstractmethod\n",
    "        def eat(self):\n",
    "            pass\n",
    "        \n",
    "        @abstractmethod\n",
    "        def sleep(self):\n",
    "            pass\n",
    "        \n",
    "class Mammal(Animal):\n",
    "    def eat(self):\n",
    "        return 'Mammal eats meat'\n",
    "    \n",
    "    def sleep(self):\n",
    "        return 'Mammal sleeps'\n",
    "    \n",
    "    def give_barth(self):\n",
    "        return 'give birth to live young'\n",
    "    \n",
    "class Bird(Animal):\n",
    "    def eat(self):\n",
    "        return 'Bird eats bugs'\n",
    "    \n",
    "    def sleep(self):\n",
    "        return 'Bird sleeps'\n",
    "    def fly(self):\n",
    "        return ' fly in the sky'\n",
    "    \n",
    "    \n",
    "class Reptile(Animal):\n",
    "    def eat(self):\n",
    "        return 'Reptile eats insects'\n",
    "    \n",
    "    def sleep(self):\n",
    "        return 'Reptile sleeps'\n",
    "    \n",
    "    def bask_in_sun(self):\n",
    "        return 'Basking in the sun for warmth'\n",
    "\n",
    "    \n",
    "mammal=Mammal('Lion','Panthera Leo')\n",
    "bird=Bird('Eagle','Aquila chrysaetos')\n",
    "reptile=Reptile('snake','Pythonidae')\n",
    "animals=[mammal,bird,reptile]\n",
    "\n",
    "for animal in animals:\n",
    "    print(f'{animal.name}:{animal.species}')\n",
    "    print(f'Eat:{animal.eat()}')\n",
    "    print(f'Sleep:{animal.sleep()}')\n",
    "    \n",
    "    if isinstance(animal,Mammal):\n",
    "        print(f'Give Barth:{animal.give_barth()}')\n",
    "        \n",
    "    elif isinstance(animal,Bird):\n",
    "        print(f'Fly:{animal.fly()}')\n",
    "        \n",
    "    elif isinstance(animal,Reptile):\n",
    "        print(f'Bask in Sun: {animal.bask_in_sun()}')\n",
    "        \n",
    "    print()"
   ]
  },
  {
   "cell_type": "markdown",
   "id": "15e4f3d8",
   "metadata": {},
   "source": [
    "9. Explain the significance of encapsulation in achieving abstraction. Provide examples."
   ]
  },
  {
   "cell_type": "markdown",
   "id": "bfdddfb2",
   "metadata": {},
   "source": [
    "Encapsulation is a fundamental concept in object-oriented programming that involves bundling data (attributes) and methods (functions) that operate on that data within a single unit, typically a class. It allows for the hiding of the internal implementation details of a class and exposing only the necessary interfaces to interact with objects of that class. Encapsulation plays a significant role in achieving abstraction by simplifying the interaction with objects and reducing the complexity of the system.\n",
    "\n",
    "Here are some key ways in which encapsulation contributes to achieving abstraction:\n",
    "\n",
    "Hiding Implementation Details: Encapsulation allows you to hide the internal implementation details of a class from the outside world. By encapsulating data within a class and providing access to that data only through methods, you can prevent direct access to the internal state of objects. This helps in achieving abstraction by hiding unnecessary complexity and exposing only the essential features of a class.\n",
    "\n",
    "Exposing Interfaces: Encapsulation allows you to define clear interfaces for interacting with objects. By providing well-defined methods to manipulate the internal state of objects, encapsulation promotes abstraction by abstracting away the implementation details and exposing only the essential behaviors of a class. Users of the class interact with objects through these interfaces, without needing to know how those behaviors are implemented internally.\n",
    "\n",
    "Data Protection: Encapsulation provides a mechanism for protecting data from unauthorized access and modification. By making data private or accessible only through controlled methods, encapsulation ensures that the internal state of objects remains consistent and valid. This helps in achieving abstraction by enforcing data integrity and preventing unintended changes to the state of objects.\n",
    "\n",
    "Promoting Modularity: Encapsulation promotes modularity by encapsulating related data and behaviors within a single unit (class). This makes it easier to understand, maintain, and extend the codebase, as each class encapsulates a specific set of functionalities. This modular approach to design helps in achieving abstraction by breaking down complex systems into smaller, more manageable components.\n",
    "\n",
    "Reducing Complexity: Encapsulation helps in reducing the complexity of the system by hiding unnecessary details and exposing only the essential features. By encapsulating data and behaviors within classes and providing well-defined interfaces, encapsulation simplifies the interaction with objects and promotes code reuse, leading to more maintainable and scalable software systems.\n",
    "\n",
    "Example:-"
   ]
  },
  {
   "cell_type": "code",
   "execution_count": 14,
   "id": "cb8b1d53",
   "metadata": {},
   "outputs": [
    {
     "name": "stdout",
     "output_type": "stream",
     "text": [
      "Toyota\n",
      "Camry\n",
      "Car: Toyota Camry\n"
     ]
    }
   ],
   "source": [
    "class Car:\n",
    "    def __init__(self, make, model):\n",
    "        self.__make = make  \n",
    "        self.__model = model\n",
    "    \n",
    "    def get_make(self):\n",
    "        return self.__make\n",
    "    \n",
    "    def get_model(self):\n",
    "        return self.__model\n",
    "    \n",
    "    def display_info(self):\n",
    "        print(f\"Car: {self.__make} {self.__model}\")\n",
    "\n",
    "car = Car(\"Toyota\", \"Camry\")\n",
    "\n",
    "print(car.get_make())   \n",
    "print(car.get_model())  \n",
    "\n",
    "# Attempting to access private attributes directly (will raise an error)\n",
    "# print(car.__make)\n",
    "# print(car.__model)\n",
    "\n",
    "\n",
    "car.display_info() \n"
   ]
  },
  {
   "cell_type": "markdown",
   "id": "1845a3b9",
   "metadata": {},
   "source": [
    "10. What is the purpose of abstract methods, and how do they enforce abstraction in Python classes?"
   ]
  },
  {
   "cell_type": "markdown",
   "id": "a0bb2944",
   "metadata": {},
   "source": [
    "Abstract methods in Python are methods defined in an abstract class that have no implementation. They serve as placeholders for methods that must be implemented by subclasses. Abstract methods define a common interface that subclasses must adhere to, ensuring consistency and promoting code reuse and polymorphism.\n",
    "\n",
    "The purpose of abstract methods is to provide a blueprint or contract for subclasses to follow. By defining abstract methods in an abstract class, you specify a set of methods that subclasses must implement to be considered valid implementations of that class. This helps in achieving abstraction by:\n",
    "\n",
    "i.Defining a Common Interface: Abstract methods define a common interface that subclasses must adhere to. They specify the methods that subclasses must provide implementations for, establishing a contract that ensures consistency in behavior across different subclasses.\n",
    "\n",
    "ii.Promoting Code Reuse: Abstract methods promote code reuse by defining a set of behaviors that can be shared by multiple subclasses. Instead of implementing the same method in each subclass, you can define it once as an abstract method in the abstract class and have subclasses provide their own implementations. This reduces duplication of code and promotes modularity and maintainability.\n",
    "\n",
    "iii.Enforcing Polymorphism: Abstract methods enforce polymorphism by allowing objects of different subclasses to be treated interchangeably based on their common interface. Code that depends on the abstract class can work with any subclass that implements the abstract methods, promoting flexibility and extensibility in object-oriented designs.\n",
    "\n",
    "In Python, abstract methods are defined using the abstractmethod decorator from the abc (Abstract Base Classes) module. By decorating a method with @abstractmethod, you indicate that it is an abstract method that must be implemented by subclasses. If a subclass fails to provide an implementation for an abstract method defined in its superclass, it will raise an error at runtime."
   ]
  },
  {
   "cell_type": "markdown",
   "id": "f3751c36",
   "metadata": {},
   "source": [
    "11. Create a Python class for a vehicle system and demonstrate abstraction by defining common methods (e.g., `start()`, `stop()`) in an abstract base class."
   ]
  },
  {
   "cell_type": "code",
   "execution_count": 2,
   "id": "be14d21d",
   "metadata": {},
   "outputs": [
    {
     "name": "stdout",
     "output_type": "stream",
     "text": [
      "Kia Seltos\n",
      "Start:Kia Seltos started.\n",
      "Stop:Kia Seltos stopped.\n",
      "\n",
      "Honda Activa\n",
      "Start:Honda Activa started.\n",
      "Stop:Honda Activa stopped.\n",
      "\n"
     ]
    }
   ],
   "source": [
    "from abc import ABC,abstractmethod\n",
    "\n",
    "class Vehicle(ABC):\n",
    "    def __init__(self,brand,model):\n",
    "        self.brand=brand\n",
    "        self.model=model\n",
    "    \n",
    "    @abstractmethod\n",
    "    def start(self):\n",
    "        pass\n",
    "    \n",
    "    @abstractmethod\n",
    "    def stop(self):\n",
    "        pass\n",
    "    \n",
    "class Car(Vehicle):\n",
    "    \n",
    "    def start(self):\n",
    "        return f'{self.brand} {self.model} started.'\n",
    "    \n",
    "    def stop(self):\n",
    "        return f'{self.brand} {self.model} stopped.'\n",
    "    \n",
    "class Bike(Vehicle):\n",
    "    def start(self):\n",
    "        return f'{self.brand} {self.model} started.'\n",
    "    \n",
    "    def stop(self):\n",
    "        return f'{self.brand} {self.model} stopped.'\n",
    "    \n",
    "vehicles=[Car('Kia','Seltos'),Bike('Honda','Activa')]\n",
    "\n",
    "for vehicle in vehicles:\n",
    "    print(f'{vehicle.brand} {vehicle.model}')\n",
    "    print(f'Start:{vehicle.start()}')\n",
    "    print(f'Stop:{vehicle.stop()}')\n",
    "    print()"
   ]
  },
  {
   "cell_type": "markdown",
   "id": "f70d281d",
   "metadata": {},
   "source": [
    "12. Describe the use of abstract properties in Python and how they can be employed in abstract classes."
   ]
  },
  {
   "cell_type": "markdown",
   "id": "32ec24d2",
   "metadata": {},
   "source": [
    "Abstract properties in Python are properties defined in an abstract class that have no implementation for getter and setter methods. They serve as placeholders for properties that must be implemented by subclasses. Abstract properties define a common interface that subclasses must adhere to for accessing and modifying certain attributes, ensuring consistency and promoting code reuse and polymorphism.\n",
    "\n",
    "The use of abstract properties in abstract classes is similar to that of abstract methods. They provide a blueprint or contract for subclasses to follow regarding the attributes of objects. By defining abstract properties in an abstract class, you specify a set of attributes that subclasses must provide implementations for, ensuring that objects of those subclasses have consistent interfaces for accessing and modifying their attributes.\n",
    "\n",
    "Here's how abstract properties can be employed in abstract classes in Python:\n",
    "\n",
    "i.Defining Abstract Properties: Abstract properties are defined using the @property decorator in conjunction with the abstractmethod decorator from the abc module. The @property decorator is used to define a property, and the abstractmethod decorator marks the getter and setter methods as abstract, indicating that they must be implemented by subclasses.\n",
    "\n",
    "ii.Enforcing Property Implementation: Subclasses of the abstract class must provide concrete implementations for the getter and setter methods of abstract properties. If a subclass fails to do so, it will raise an error at runtime, indicating that the abstract property has not been fully implemented.\n",
    "\n",
    "iii.Promoting Code Reuse and Polymorphism: Abstract properties promote code reuse by defining a set of attributes that can be shared by multiple subclasses. They also enforce polymorphism by allowing objects of different subclasses to be treated interchangeably based on their common interface for accessing and modifying attributes."
   ]
  },
  {
   "cell_type": "markdown",
   "id": "3dc50f8c",
   "metadata": {},
   "source": [
    "13. Create a Python class hierarchy for employees in a company (e.g., manager, developer, designer) and implement abstraction by defining a common `get_salary()` method."
   ]
  },
  {
   "cell_type": "code",
   "execution_count": 1,
   "id": "e30faeff",
   "metadata": {},
   "outputs": [
    {
     "name": "stdout",
     "output_type": "stream",
     "text": [
      "The name of the manager is Subh and his salary is 62000\n",
      "The name of the developer is Nits and his salary is 80000\n",
      "The name of the designer is Biki and his salary is 61000\n"
     ]
    }
   ],
   "source": [
    "from abc import ABC,abstractmethod\n",
    "class Employees(ABC):\n",
    "    def __init__(self,name,role):\n",
    "        self.name=name\n",
    "        self.role=role\n",
    "        \n",
    "    @abstractmethod\n",
    "    def get_salary(self):\n",
    "        pass\n",
    "    \n",
    "class Manager(Employees):\n",
    "    def __init__(self,name,team_size):\n",
    "        super().__init__(name,'manager')\n",
    "        self.team_size=team_size\n",
    "        \n",
    "    def get_salary(self):\n",
    "        base_salary=50000\n",
    "        bonus_per_person=1000\n",
    "        total_salary=base_salary+(self.team_size*bonus_per_person)\n",
    "        return total_salary\n",
    "    \n",
    "class Developer(Employees):\n",
    "    def __init__(self,name,programming_language):\n",
    "        super().__init__(name,'developer')\n",
    "        self.programming_language=programming_language\n",
    "        \n",
    "    def get_salary(self):\n",
    "        if self.programming_language=='python':\n",
    "            bonus=10000\n",
    "        else:\n",
    "            bonus=5000\n",
    "        base_salary=70000\n",
    "        total_salary=base_salary+bonus\n",
    "        return total_salary\n",
    "\n",
    "class Designer(Employees):\n",
    "    def __init__(self,name,design_tool):\n",
    "        super().__init__(name,'designer')\n",
    "        self.design_tool=design_tool\n",
    "    \n",
    "    def get_salary(self):\n",
    "        base_salary=60000\n",
    "        if self.design_tool=='Figma':\n",
    "            bonus=3000\n",
    "        else:\n",
    "            bonus=1000\n",
    "            \n",
    "        total_salary=base_salary+bonus\n",
    "        return total_salary\n",
    "    \n",
    "manager=Manager('Subh',12)\n",
    "developer=Developer('Nits','python')\n",
    "designer=Designer('Biki','AdobeXD')\n",
    "\n",
    "print(f'The name of the manager is {manager.name} and his salary is {manager.get_salary()}')\n",
    "print(f'The name of the developer is {developer.name} and his salary is {developer.get_salary()}')\n",
    "print(f'The name of the designer is {designer.name} and his salary is {designer.get_salary()}')"
   ]
  },
  {
   "cell_type": "markdown",
   "id": "45b2f21d",
   "metadata": {},
   "source": [
    "14. Discuss the differences between abstract classes and concrete classes in Python, including their instantiation."
   ]
  },
  {
   "cell_type": "markdown",
   "id": "58aa7708",
   "metadata": {},
   "source": [
    "The Difference between abstract classes and concrete classes are:\n",
    "\n",
    "Abstract Classes:\n",
    "\n",
    "i.Instantiation: Abstract classes cannot be instantiated directly. They serve as blueprints or templates for other classes and are meant to be subclassed. Abstract classes typically contain one or more abstract methods that must be implemented by subclasses.\n",
    "\n",
    "ii.Purpose: The purpose of abstract classes is to define a common interface or behavior that subclasses must adhere to. Abstract classes provide a way to enforce a specific structure or behavior on subclasses, ensuring consistency and promoting code reuse and polymorphism.\n",
    "\n",
    "iii.Usage: Abstract classes are used when you want to define a common interface or behavior that multiple related classes should implement. They define a set of methods that subclasses must provide implementations for, establishing a contract that ensures consistency in behavior across different subclasses.\n",
    "\n",
    "Concrete Classes:\n",
    "\n",
    "i.Instantiation: Concrete classes can be instantiated directly. They represent real-world entities or concepts and encapsulate data and behavior related to those entities. Concrete classes may or may not inherit from abstract classes.\n",
    "\n",
    "ii.Purpose: The purpose of concrete classes is to create objects with specific properties and behaviors. Concrete classes encapsulate data (attributes) and behavior (methods) related to real-world entities, providing a way to model and interact with those entities in code.\n",
    "\n",
    "iii.Usage: Concrete classes are used when you want to create instances of objects with specific attributes and methods. They provide concrete implementations for all methods defined in their class hierarchy and may optionally override methods inherited from parent classes.\n",
    "\n"
   ]
  },
  {
   "cell_type": "markdown",
   "id": "fc8d2afd",
   "metadata": {},
   "source": [
    "15. Explain the concept of abstract data types (ADTs) and their role in achieving abstraction in Python."
   ]
  },
  {
   "cell_type": "markdown",
   "id": "2b1c7337",
   "metadata": {},
   "source": [
    "Abstract Data Types (ADTs) are a concept in computer science that refers to a mathematical model for representing data types and their associated operations. ADTs define a set of operations that can be performed on the data type, without specifying how those operations are implemented. Instead, ADTs focus on the behavior and properties of the data type, abstracting away the implementation details.\n",
    "\n",
    "ADTs provide a high-level view of data structures and operations, allowing programmers to work with data in a more abstract and conceptual manner. They enable the separation of concerns between the interface (the operations that can be performed) and the implementation (how those operations are carried out), promoting modularity, code reuse, and maintainability.\n",
    "\n",
    "In Python, ADTs are often implemented using classes and methods. The class serves as the abstraction of the data type, while the methods represent the operations that can be performed on the data type. By defining classes with well-defined interfaces and methods, Python allows programmers to work with abstract data types effectively, without needing to know the internal details of how those data types are implemented.\n",
    "\n",
    "The role of ADTs in achieving abstraction in Python can be summarized as follows:\n",
    "\n",
    "i.Encapsulation of Data and Operations: ADTs encapsulate both the data and the operations that can be performed on that data within a single unit (the class). This promotes abstraction by hiding the internal details of the data type and exposing only the necessary interfaces for interacting with it.\n",
    "\n",
    "ii.Separation of Interface and Implementation: ADTs separate the interface (the operations that can be performed) from the implementation (how those operations are carried out). This separation of concerns allows programmers to focus on the high-level behavior of the data type without worrying about the specific implementation details.\n",
    "\n",
    "iii.Promotion of Modularity and Code Reuse: By defining ADTs with well-defined interfaces and operations, Python promotes modularity and code reuse. ADTs provide reusable building blocks that can be used in various contexts, reducing duplication of code and promoting consistency across different parts of the codebase.\n",
    "\n",
    "iv.Simplification of Program Logic: ADTs simplify program logic by providing a high-level abstraction of data structures and operations. Programmers can work with abstract data types using familiar operations (e.g., methods) without needing to understand the underlying implementation details. This reduces complexity and makes the code easier to understand and maintain."
   ]
  },
  {
   "cell_type": "markdown",
   "id": "652eb50a",
   "metadata": {},
   "source": [
    "16. Create a Python class for a computer system, demonstrating abstraction by defining common methods (e.g., `power_on()`, `shutdown()`) in an abstract base class."
   ]
  },
  {
   "cell_type": "code",
   "execution_count": 4,
   "id": "a7989034",
   "metadata": {},
   "outputs": [
    {
     "name": "stdout",
     "output_type": "stream",
     "text": [
      "Apple imac Desktop is booting up.\n",
      "Apple imac is on\n",
      "Apple imac Desktop is shutting down.\n",
      "Apple imac is off\n",
      "Dell insprion Laptop is booting up.\n",
      "Dell insprion is on\n",
      "Dell insprion Laptop is shutting down.\n",
      "Dell insprion is off\n"
     ]
    }
   ],
   "source": [
    "from abc import ABC,abstractmethod\n",
    "\n",
    "class ComputerSystem(ABC):\n",
    "    def __init__(self,brand,model):\n",
    "        self.brand=brand\n",
    "        self.model=model\n",
    "        self.is_power_on=False\n",
    "        \n",
    "    @abstractmethod\n",
    "    def power_on(self):\n",
    "        pass\n",
    "    \n",
    "    @abstractmethod\n",
    "    def shut_down(self):\n",
    "        pass\n",
    "    \n",
    "    def status(self):\n",
    "        return f'{self.brand} {self.model} is {\"on\" if self.is_power_on else \"off\"}'\n",
    "    \n",
    "class Desktop(ComputerSystem):\n",
    "    def __init__(self,brand,model):\n",
    "        super().__init__(brand,model)\n",
    "        \n",
    "    def power_on(self):\n",
    "        self.is_power_on=True\n",
    "        print(f'{self.brand} {self.model} Desktop is booting up.') \n",
    "    \n",
    "    def shut_down(self):\n",
    "        self.is_power_on=False\n",
    "        print(f'{self.brand} {self.model} Desktop is shutting down.') \n",
    "    \n",
    "\n",
    "class Laptop(ComputerSystem):\n",
    "    def __init__(self,brand,model):\n",
    "        super().__init__(brand,model)\n",
    "        \n",
    "    def power_on(self):\n",
    "        self.is_power_on=True\n",
    "        print(f'{self.brand} {self.model} Laptop is booting up.') \n",
    "    \n",
    "    def shut_down(self):\n",
    "        self.is_power_on=False\n",
    "        print(f'{self.brand} {self.model} Laptop is shutting down.') \n",
    "    \n",
    "desktop=Desktop('Apple','imac')\n",
    "laptop=Laptop('Dell','insprion')\n",
    "\n",
    "desktop.power_on()\n",
    "print(desktop.status())\n",
    "\n",
    "desktop.shut_down()\n",
    "print(desktop.status())\n",
    "\n",
    "laptop.power_on()\n",
    "print(laptop.status())\n",
    "\n",
    "laptop.shut_down()\n",
    "print(laptop.status())\n"
   ]
  },
  {
   "cell_type": "markdown",
   "id": "52612ca5",
   "metadata": {},
   "source": [
    "17. Discuss the benefits of using abstraction in large-scale software development projects."
   ]
  },
  {
   "cell_type": "markdown",
   "id": "6319a0f5",
   "metadata": {},
   "source": [
    "Abstraction offers several benefits in large-scale software development projects:\n",
    "\n",
    "i.Simplified Design and Understanding: Abstraction allows developers to focus on high-level concepts and structures without getting bogged down in implementation details. By hiding complexity behind well-defined interfaces, abstraction simplifies the design of software systems and makes them easier to understand, both for the original developers and for anyone who needs to work with or maintain the code in the future.\n",
    "\n",
    "ii.Modularity and Encapsulation: Abstraction promotes modularity by breaking down complex systems into smaller, self-contained modules. Each module encapsulates a specific set of functionalities and hides its internal implementation details, allowing for easier testing, debugging, and maintenance. Modularity also facilitates code reuse, as well-designed modules can be used in multiple parts of the system or even in other projects.\n",
    "\n",
    "iii.Code Reusability: Abstraction encourages code reuse by providing reusable building blocks in the form of abstract classes, interfaces, and generic algorithms. By defining common interfaces and behaviors, abstraction allows developers to create components that can be used across different parts of the system, reducing duplication of code and promoting consistency.\n",
    "\n",
    "iv.Flexibility and Adaptability: Abstraction promotes flexibility by decoupling different parts of the system and reducing dependencies between them. This makes it easier to modify or extend the system without affecting other parts, allowing for easier evolution and adaptation to changing requirements.\n",
    "\n",
    "v.Team Collaboration and Communication: Abstraction provides a common language and framework for communication among team members. By defining clear interfaces and contracts, abstraction allows developers to work on different parts of the system independently while still ensuring compatibility and interoperability between their components. This promotes collaboration and reduces the risk of conflicts or misunderstandings.\n",
    "\n",
    "vi.Scalability and Maintenance: Abstraction supports scalability by providing a scalable architecture that can grow with the size and complexity of the project. By breaking down the system into smaller, manageable components, abstraction makes it easier to maintain and extend the codebase over time, even as the project evolves and grows in size.\n",
    "\n",
    "vii.Reduced Risk and Error Handling: Abstraction helps reduce the risk of errors and bugs by providing a clear separation of concerns and enforcing consistency across different parts of the system. By encapsulating data and behavior within well-defined interfaces, abstraction minimizes the impact of changes and makes it easier to identify and fix issues when they occur."
   ]
  },
  {
   "cell_type": "markdown",
   "id": "a03ca840",
   "metadata": {},
   "source": [
    "18. Explain how abstraction enhances code reusability and modularity in Python programs."
   ]
  },
  {
   "cell_type": "markdown",
   "id": "153c36e8",
   "metadata": {},
   "source": [
    "Abstraction enhances code reusability and modularity in Python programs through several mechanisms:\n",
    "\n",
    "i.Encapsulation: Abstraction in Python promotes encapsulation by hiding the internal details of a component and exposing only the essential interfaces. This encapsulation allows components to be treated as black boxes, enabling code reuse without needing to know how they are implemented internally. Encapsulation also prevents unintended interactions and reduces the risk of errors caused by improper use of components.\n",
    "\n",
    "ii.Abstract Classes and Interfaces: Python supports abstraction through abstract classes and interfaces, which define a common interface or behavior that multiple related classes should implement. By defining abstract classes and interfaces, Python enables the creation of reusable components that adhere to a common contract. This promotes code reuse by allowing different parts of the system to interact with objects in a consistent and predictable manner.\n",
    "\n",
    "iii.Modularity: Abstraction in Python promotes modularity by breaking down complex systems into smaller, self-contained modules. Each module encapsulates a specific set of functionalities and hides its internal implementation details. This modular approach to design allows developers to work on different parts of the system independently, making it easier to understand, test, and maintain the codebase. Additionally, modular components can be reused across different parts of the system or even in other projects, further enhancing code reusability.\n",
    "\n",
    "iv.Generic Programming: Python supports generic programming techniques such as function and class templates, which allow for the creation of reusable code that can operate on different data types without modification. By writing generic functions and classes, developers can create components that are more flexible and adaptable, making them easier to reuse in various contexts.\n",
    "\n",
    "v.Polymorphism: Polymorphism, a key aspect of abstraction, allows objects of different classes to be treated interchangeably based on their common interface. Python's dynamic typing and duck typing features facilitate polymorphic behavior, enabling code to work with objects of different types without explicit type declarations. This promotes code reuse by allowing developers to write generic algorithms and functions that can operate on objects of various types."
   ]
  },
  {
   "cell_type": "markdown",
   "id": "99568146",
   "metadata": {},
   "source": [
    "19. Create a Python class for a library system, implementing abstraction by defining common methods (e.g., `add_book()`, `borrow_book()`) in an abstract base class."
   ]
  },
  {
   "cell_type": "code",
   "execution_count": 5,
   "id": "1b9821ab",
   "metadata": {},
   "outputs": [
    {
     "name": "stdout",
     "output_type": "stream",
     "text": [
      "The Queen of Indian Pop by Usha Uthop has been added to the City_Library\n",
      "Tomb of sand by Gitanjali Shree has been added to the City_Library\n",
      "The Queen of Indian Pop by Usha Uthop has been added to the university_Library collection\n",
      "Tomb of sand by Gitanjali Shree has been added to the university_Library collection\n",
      "Books Available in City_Library books Library\n",
      "The Queen of Indian Pop Available\n",
      "Tomb of sand Available\n",
      "Books Available in university_Library books Library\n",
      "The Queen of Indian Pop Available\n",
      "Tomb of sand Available\n",
      "Sorry, Tomb of sand is not available for borrowing in City_Library\n",
      "Salman has borrowed The Queen of Indian Pop from university_Library for academic use.\n",
      "Books Available in City_Library books Library\n",
      "The Queen of Indian Pop Borrowed\n",
      "Tomb of sand Available\n",
      "Books Available in university_Library books Library\n",
      "The Queen of Indian Pop Borrowed\n",
      "Tomb of sand Available\n",
      "The Queen of Indian Pop is return to the university_Library\n",
      "Books Available in City_Library books Library\n",
      "The Queen of Indian Pop Available\n",
      "Tomb of sand Available\n",
      "Books Available in university_Library books Library\n",
      "The Queen of Indian Pop Available\n",
      "Tomb of sand Available\n"
     ]
    }
   ],
   "source": [
    "from abc import ABC, abstractmethod\n",
    "\n",
    "class Book:\n",
    "    def __init__(self,title,author):\n",
    "        self.title = title\n",
    "        self.author = author\n",
    "        self.is_borrowed=False\n",
    "\n",
    "class LibrarySystem(ABC):\n",
    "    def __init__(self,name):\n",
    "        self.name=name\n",
    "        self.books=[]\n",
    "\n",
    "    @abstractmethod\n",
    "    def add_book(self,book):\n",
    "        pass\n",
    "\n",
    "    @abstractmethod\n",
    "    def borrow_book(self,book_title,borrower):\n",
    "        pass\n",
    "\n",
    "    def return_books(self,book_title):\n",
    "        for book in self.books:\n",
    "            if book.title==book_title and book.is_borrowed:\n",
    "                book.is_borrowed=False\n",
    "                print(f'{book.title} is return to the {self.name}')\n",
    "\n",
    "    def display_books(self):\n",
    "        print(f'Books Available in {self.name} books Library')\n",
    "        for book in self.books:\n",
    "            status='Available' if not book.is_borrowed else 'Borrowed'\n",
    "            print(f'{book.title} {status}')\n",
    "\n",
    "class Public_Library(LibrarySystem):\n",
    "    def add_book(self,book):\n",
    "        self.books.append(book)\n",
    "        print(f'{book.title} by {book.author} has been added to the {self.name}')\n",
    "\n",
    "    def borrow_book(self,book_title,borrower):\n",
    "        for book in self.books:\n",
    "            if book.title==book_title and not book.is_borrowed:\n",
    "                book.is_borrowed=True\n",
    "                print(f'{borrower} has borrowed {book.title} from {self.name}')\n",
    "                return\n",
    "        print(f'Sorry, {book.title} is not available for borrowing in {self.name}')\n",
    "\n",
    "\n",
    "class Universty_Library(LibrarySystem):\n",
    "    def add_book(self,book):\n",
    "        self.books.append(book)\n",
    "        print(f'{book.title} by {book.author} has been added to the {self.name} collection')\n",
    "\n",
    "    def borrow_book(self,book_title,borrower):\n",
    "        for book in self.books:\n",
    "            if book.title==book_title and not book.is_borrowed:\n",
    "                book.is_borrowed=True\n",
    "                print(f'{borrower} has borrowed {book.title} from {self.name} for academic use.')\n",
    "                return\n",
    "        print(f'Sorry, {book.title} is not available for borrowing in {self.name} collection')\n",
    "\n",
    "\n",
    "if __name__ == '__main__':\n",
    "    public=Public_Library('City_Library')\n",
    "    university=Universty_Library('university_Library')\n",
    "\n",
    "    book1=Book('The Queen of Indian Pop','Usha Uthop')\n",
    "    book2=Book('Tomb of sand','Gitanjali Shree')\n",
    "\n",
    "    public.add_book(book1)\n",
    "    public.add_book(book2)\n",
    "\n",
    "    university.add_book(book1)\n",
    "    university.add_book(book2)\n",
    "\n",
    "    public.display_books()\n",
    "\n",
    "    university.display_books()\n",
    "\n",
    "    public.borrow_book('Tomb of Sand','Kru')\n",
    "    university.borrow_book('The Queen of Indian Pop','Salman')\n",
    "    \n",
    "\n",
    "    public.display_books()\n",
    "    university.display_books()\n",
    "\n",
    "    public.return_books('Tomb of Sand')\n",
    "\n",
    "    university.return_books('The Queen of Indian Pop')\n",
    "\n",
    "    public.display_books()\n",
    "    university.display_books()"
   ]
  },
  {
   "cell_type": "markdown",
   "id": "8e77175c",
   "metadata": {},
   "source": [
    "20. Describe the concept of method abstraction in Python and how it relates to polymorphism."
   ]
  },
  {
   "cell_type": "markdown",
   "id": "acdb9372",
   "metadata": {},
   "source": [
    "Method abstraction in Python refers to the process of defining methods in a way that hides their implementation details from the users of the class, while still providing a well-defined interface for interacting with objects of that class. Method abstraction allows developers to focus on the behavior and functionality of methods without needing to know how those methods are implemented internally.\n",
    "\n",
    "In Python, method abstraction is typically achieved through the use of abstract methods in abstract classes or through method overriding in concrete classes. Abstract methods are declared in abstract classes using the @abstractmethod decorator from the abc module, indicating that subclasses must provide concrete implementations for those methods. Method overriding, on the other hand, allows subclasses to provide their own implementations for methods defined in their parent classes, effectively customizing the behavior of those methods.\n",
    "\n",
    "Here's how method abstraction relates to polymorphism in Python:\n",
    "\n",
    "i.Common Interface: Method abstraction defines a common interface for methods that can be implemented differently by subclasses. This common interface allows objects of different subclasses to be treated interchangeably when invoking those methods.\n",
    "\n",
    "ii.Dynamic Binding: Polymorphism in Python is achieved through dynamic binding, where the method to be invoked is determined at runtime based on the type of the object. When a method is called on an object, Python looks up the method in the object's class hierarchy and invokes the appropriate implementation based on the actual type of the object.\n",
    "\n",
    "iii.Code Reusability: Method abstraction promotes code reusability by defining methods with well-defined interfaces that can be reused across different subclasses. By providing a common interface for methods, method abstraction allows developers to write generic code that can operate on objects of different types, promoting modularity and code reuse.\n",
    "\n",
    "iv.Flexible and Extensible Design: Method abstraction and polymorphism enable flexible and extensible designs by allowing developers to define abstract methods and provide concrete implementations in subclasses as needed. This makes it easier to extend the functionality of existing classes and adapt them to changing requirements without modifying the original class."
   ]
  },
  {
   "cell_type": "markdown",
   "id": "00832ffe",
   "metadata": {},
   "source": [
    "# Composition:"
   ]
  },
  {
   "cell_type": "markdown",
   "id": "92424c1c",
   "metadata": {},
   "source": [
    "1. Explain the concept of composition in Python and how it is used to build complex objects from simpler ones."
   ]
  },
  {
   "cell_type": "markdown",
   "id": "e9755dd5",
   "metadata": {},
   "source": [
    "Composition in Python is a design principle that allows objects to be constructed from other objects. It involves creating complex objects by combining simpler objects as components or parts. Composition enables the creation of more flexible and modular designs by promoting code reuse and encapsulation.\n",
    "\n",
    "In composition, a class is composed of one or more instances of other classes, known as components or parts. These components are typically created as attributes of the class and are responsible for providing specific functionality or behavior. The class that contains the components is known as the \"composite\" or \"container\" class, while the classes that represent the components are known as \"component\" classes.\n",
    "\n",
    "Here's how composition is used to build complex objects from simpler ones in Python:\n",
    "\n",
    "i.Defining Component Classes: First, you define one or more component classes that represent the simpler objects or behaviors you want to encapsulate. These classes should provide specific functionality or behavior that can be reused in different contexts.\n",
    "\n",
    "ii.Defining the Composite Class: Next, you define a composite class that represents the complex object you want to build. This class contains instances of the component classes as attributes.\n",
    "\n",
    "iii.Instantiating Component Objects: Within the composite class, you instantiate objects of the component classes and assign them to attributes. These component objects represent the parts that make up the complex object.\n",
    "\n",
    "iv.Delegating Functionality: The composite class can delegate functionality to its component objects by calling their methods or accessing their attributes. This allows the complex object to provide the desired behavior by leveraging the functionality of its component parts.\n",
    "\n",
    "v.Encapsulation and Modularity: Composition promotes encapsulation and modularity by encapsulating the functionality of the component classes within the composite class. This allows the composite class to hide the implementation details of its component objects and provide a clean, well-defined interface for interacting with the complex object."
   ]
  },
  {
   "cell_type": "markdown",
   "id": "b14b0723",
   "metadata": {},
   "source": [
    "2. Describe the difference between composition and inheritance in object-oriented programming."
   ]
  },
  {
   "cell_type": "markdown",
   "id": "efedbd47",
   "metadata": {},
   "source": [
    "The difference between composition and inheritance are:-\n",
    "\n",
    "i.Purpose:\n",
    "\n",
    ".Composition: Composition is used to create complex objects by combining simpler objects or components as parts. It promotes code reuse and modularity by allowing objects to be constructed from other objects. Composition typically represents a \"has-a\" relationship between objects, where one object contains or is composed of other objects.\n",
    "\n",
    ".Inheritance: Inheritance is used to create a new class (subclass) based on an existing class (superclass). It allows the subclass to inherit attributes and methods from the superclass, promoting code reuse and specialization. Inheritance typically represents an \"is-a\" relationship between classes, where a subclass is a more specialized version of its superclass.\n",
    "\n",
    "ii.Relationship:\n",
    "\n",
    ".Composition: Composition represents a loosely coupled relationship between objects, where the lifecycle of the containing object (composite) is independent of the lifecycle of the contained objects (components). The containing object holds references to its components and delegates tasks to them as needed.\n",
    "\n",
    ".Inheritance: Inheritance represents a tightly coupled relationship between classes, where the subclass inherits the attributes and methods of the superclass. The subclass extends or specializes the functionality of the superclass and may override or extend its methods.\n",
    "\n",
    "iii.Flexibility and Extensibility:\n",
    "\n",
    ".Composition: Composition offers more flexibility and extensibility than inheritance because it allows objects to be composed dynamically at runtime. Components can be swapped or replaced without affecting the containing object, and new components can be added or removed as needed.\n",
    "\n",
    ".Inheritance: Inheritance is more static and rigid than composition because the relationship between classes is defined at compile time. Changes to the superclass may affect all of its subclasses, and subclasses are tightly coupled to their superclass's implementation.\n",
    "\n",
    "iv.Code Reuse:\n",
    "\n",
    ".Composition: Composition promotes code reuse by allowing objects to be constructed from reusable components. Components can be shared across different objects and can be used in various contexts, leading to more modular and maintainable code.\n",
    "\n",
    ".Inheritance: Inheritance promotes code reuse by allowing subclasses to inherit attributes and methods from their superclass. Subclasses can reuse and specialize the functionality of the superclass, reducing duplication of code and promoting consistency.\n",
    "\n",
    "v.Complexity:\n",
    "\n",
    ".Composition: Composition tends to result in less complex class hierarchies because it avoids the issues associated with deep inheritance hierarchies, such as the diamond problem and tight coupling between classes.\n",
    "\n",
    ".Inheritance: Inheritance can lead to complex class hierarchies, especially in deep inheritance trees, which may become difficult to understand and maintain over time. Multiple inheritance can also introduce challenges such as the diamond problem, where conflicting implementations arise from multiple inheritance paths."
   ]
  },
  {
   "cell_type": "markdown",
   "id": "97fe4463",
   "metadata": {},
   "source": [
    "3. Create a Python class called `Author` with attributes for name and birthdate. Then, create a `Book` class that contains an instance of `Author` as a composition. Provide an example of creating a `Book` object."
   ]
  },
  {
   "cell_type": "code",
   "execution_count": 1,
   "id": "2f2687d3",
   "metadata": {},
   "outputs": [
    {
     "name": "stdout",
     "output_type": "stream",
     "text": [
      "Book Title:Wings of Fire\n",
      "Publication Year:2000\n",
      "Author Name:Dr. A.P.J Abdul Kalam\n",
      "Author birthyear:1931\n"
     ]
    }
   ],
   "source": [
    "class Author:\n",
    "    def __init__(self,name,birthdate):\n",
    "        self.name=name\n",
    "        self.birthdate=birthdate\n",
    "        \n",
    "class Book:\n",
    "    def __init__(self,title,author,publication_year):\n",
    "        self.title=title\n",
    "        self.author=author\n",
    "        self.publication_year=publication_year\n",
    "        \n",
    "\n",
    "author1=Author('Dr. A.P.J Abdul Kalam',1931)\n",
    "book1=Book('Wings of Fire',author1,2000)\n",
    "\n",
    "print(f'Book Title:{book1.title}')\n",
    "print(f'Publication Year:{book1.publication_year}')\n",
    "print(f'Author Name:{book1.author.name}')\n",
    "print(f'Author birthyear:{book1.author.birthdate}')"
   ]
  },
  {
   "cell_type": "markdown",
   "id": "aac3ece8",
   "metadata": {},
   "source": [
    "4. Discuss the benefits of using composition over inheritance in Python, especially in terms of code flexibility and reusability."
   ]
  },
  {
   "cell_type": "markdown",
   "id": "09436fb1",
   "metadata": {},
   "source": [
    "The benifits of using composition over inheritance in Python are:-\n",
    "\n",
    "i.Flexibility:\n",
    "\n",
    ".Dynamic Composition: Composition allows objects to be composed dynamically at runtime. Components can be added, replaced, or removed as needed, providing greater flexibility in designing and evolving software systems. This dynamic composition allows for more adaptable and extensible designs, where objects can be customized based on specific requirements or configurations.\n",
    "\n",
    ".Avoiding Rigidity: Composition avoids the rigidity associated with deep inheritance hierarchies. Inheritance can lead to tight coupling between classes and can make the codebase more resistant to change. By favoring composition, developers can create class relationships that are more loosely coupled and easier to modify without affecting other parts of the system.\n",
    "\n",
    "ii.Code Reusability:\n",
    "\n",
    ".Promoting Code Reuse: Composition promotes code reuse by allowing objects to be constructed from reusable components. Components can be shared across different objects and can be used in various contexts, leading to more modular and maintainable code. By composing objects from smaller, reusable components, developers can avoid code duplication and build more scalable and maintainable software systems.\n",
    "\n",
    ".Granular Reusability: With composition, components are designed to provide specific functionality or behavior, making them more granular and reusable. This allows developers to build libraries of reusable components that can be used in different projects or shared across different parts of the same project. Granular reusability enhances modularity and promotes the development of libraries and frameworks that encourage code sharing and collaboration."
   ]
  },
  {
   "cell_type": "markdown",
   "id": "35468809",
   "metadata": {},
   "source": [
    "5. How can you implement composition in Python classes? Provide examples of using composition to create complex objects."
   ]
  },
  {
   "cell_type": "markdown",
   "id": "218d0a28",
   "metadata": {},
   "source": [
    "In Python, composition can be implemented by creating classes that contain instances of other classes as attributes. These instances represent the components or parts that make up the complex object. The containing class, also known as the composite class, delegates tasks to its component objects as needed, allowing the complex object to provide the desired behavior by leveraging the functionality of its component parts.\n",
    "\n",
    "Example:"
   ]
  },
  {
   "cell_type": "code",
   "execution_count": 15,
   "id": "4a2d2e2b",
   "metadata": {},
   "outputs": [
    {
     "name": "stdout",
     "output_type": "stream",
     "text": [
      "Starting the car\n",
      "Engine Started.\n",
      "Wheel is Rotating\n"
     ]
    }
   ],
   "source": [
    "class Engine:\n",
    "    def start(self):\n",
    "        print(\"Engine Started.\")\n",
    "        \n",
    "class Wheels:\n",
    "    def rotate(self):\n",
    "        print('Wheel is Rotating')\n",
    "        \n",
    "class Car:\n",
    "    def __init__(self):\n",
    "        self.engine=Engine()\n",
    "        self.wheels=Wheels()\n",
    "    \n",
    "    def start(self):\n",
    "        print('Starting the car.')\n",
    "        self.engine.start()\n",
    "        self.wheels.rotate()\n",
    "        \n",
    "car=Car()\n",
    "car.start()"
   ]
  },
  {
   "cell_type": "markdown",
   "id": "43825a1f",
   "metadata": {},
   "source": [
    "6. Create a Python class hierarchy for a music player system, using composition to represent playlists and songs."
   ]
  },
  {
   "cell_type": "code",
   "execution_count": 6,
   "id": "94ec7be4",
   "metadata": {},
   "outputs": [
    {
     "name": "stdout",
     "output_type": "stream",
     "text": [
      "Playing all songs in the playlist My playlist.\n"
     ]
    }
   ],
   "source": [
    "class Song:\n",
    "    def __init__(self,title,artist,duration):\n",
    "        self.title=title\n",
    "        self.artist=artist\n",
    "        self.duration=duration\n",
    "        \n",
    "    def play(self):\n",
    "        print(f'Playing {self.title} by {self.artist}')\n",
    "        \n",
    "class Playlist:\n",
    "    def __init__(self,name):\n",
    "        self.name=name\n",
    "        self.songs=[]\n",
    "        \n",
    "    def add_song(self,song):\n",
    "        self.songs.append(song)\n",
    "        \n",
    "    def play_all(self):\n",
    "        print(f'Playing all songs in the playlist {self.name}.')\n",
    "        for song in self.songs:\n",
    "            song.play()\n",
    "            \n",
    "class MusicPlayer:\n",
    "    def __init__(self):\n",
    "        self.playlists=[]\n",
    "        \n",
    "    def create_playlist(self,name):\n",
    "        playlist=Playlist(name)\n",
    "        self.playlists.append(playlist)\n",
    "        return playlist\n",
    "    \n",
    "song1=Song('song1','artist1','3:03')\n",
    "song2=Song('song2','artist2','4:00')\n",
    "song3=Song('song3','artist3','5:00')\n",
    "\n",
    "playlist1=Playlist('My playlist')\n",
    "\n",
    "playlist1.add_song(song1)\n",
    "playlist1.add_song(song2)\n",
    "playlist1.add_song(song3)\n",
    "\n",
    "music_player=MusicPlayer()\n",
    "music_player.create_playlist('My playlist')\n",
    "\n",
    "music_player.playlists[0].play_all()"
   ]
  },
  {
   "cell_type": "markdown",
   "id": "ef61a9a5",
   "metadata": {},
   "source": [
    "7. Explain the concept of \"has-a\" relationships in composition and how it helps design software systems."
   ]
  },
  {
   "cell_type": "markdown",
   "id": "12de5be6",
   "metadata": {},
   "source": [
    "In object-oriented programming, the \"has-a\" relationship is a fundamental concept in composition, where one object contains or is composed of other objects as parts or components. This relationship is based on the notion that an object \"has\" or \"contains\" other objects as its attributes or members.\n",
    "\n",
    "The \"has-a\" relationship is typically used to model complex objects that are composed of simpler objects or components. It promotes code reuse, modularity, and encapsulation by allowing objects to be constructed from reusable components, each responsible for providing specific functionality or behavior.\n",
    "\n",
    "Here's how the \"has-a\" relationship works in composition and how it helps design software systems:\n",
    "\n",
    "i.Modular Design:\n",
    "\n",
    "The \"has-a\" relationship enables modular design by breaking down complex systems into smaller, self-contained modules or components. Each module represents a distinct piece of functionality or behavior, encapsulated within its own object.\n",
    "\n",
    "ii.Code Reuse:\n",
    "\n",
    "By composing objects from reusable components, the \"has-a\" relationship promotes code reuse. Components can be shared across different objects and can be used in various contexts, leading to more modular and maintainable code.\n",
    "\n",
    "iii.Encapsulation:\n",
    "\n",
    "The \"has-a\" relationship promotes encapsulation by hiding the internal implementation details of components within the containing objects. This encapsulation allows objects to provide a clean, well-defined interface for interacting with their components, reducing dependencies and minimizing the impact of changes.\n",
    "\n",
    "iv.Flexibility:\n",
    "\n",
    "The \"has-a\" relationship offers greater flexibility in designing and evolving software systems. Objects can be composed dynamically at runtime, and components can be added, replaced, or removed as needed, providing greater adaptability to changing requirements.\n",
    "\n",
    "v.Separation of Concerns:\n",
    "\n",
    "By decomposing complex systems into smaller, self-contained components, the \"has-a\" relationship promotes separation of concerns. Each component is responsible for a specific aspect of functionality, making the overall system easier to understand, test, and maintain.\n",
    "\n",
    "vi.Scalability:\n",
    "\n",
    "The \"has-a\" relationship supports scalability by allowing systems to grow in complexity without becoming unwieldy. New functionality can be added by composing objects from existing components, rather than modifying or extending existing classes, reducing the risk of introducing bugs or unintended side effects.\n"
   ]
  },
  {
   "cell_type": "markdown",
   "id": "27b57d46",
   "metadata": {},
   "source": [
    "8. Create a Python class for a computer system, using composition to represent components like CPU, RAM, and storage devices."
   ]
  },
  {
   "cell_type": "code",
   "execution_count": 10,
   "id": "74496456",
   "metadata": {},
   "outputs": [
    {
     "name": "stdout",
     "output_type": "stream",
     "text": [
      "i5 CPU Processing data at 2.6 GHZ.\n",
      "Reading the data from 8 GB RAM\n",
      "Storing data on 512 GB SSD\n"
     ]
    }
   ],
   "source": [
    "class CPU:\n",
    "    def __init__(self,model,clock_speed):\n",
    "        self.model=model\n",
    "        self.clock_speed=clock_speed\n",
    "        \n",
    "    def process(self):\n",
    "        print(f'{self.model} CPU Processing data at {self.clock_speed} GHZ.')\n",
    "        \n",
    "class RAM:\n",
    "    def __init__(self,capacity):\n",
    "        self.capacity=capacity\n",
    "        \n",
    "    def read_data(self):\n",
    "        print(f'Reading the data from {self.capacity} GB RAM')\n",
    "        \n",
    "class Storage_devices:\n",
    "    def __init__(self,capacity,storage_type):\n",
    "        self.capacity=capacity\n",
    "        self.storage_type=storage_type\n",
    "        \n",
    "    def store_data(self):\n",
    "        print(f'Storing data on {self.capacity} GB {self.storage_type}')\n",
    "        \n",
    "class Computer_system:\n",
    "    def __init__(self,cpu,ram,storage):\n",
    "        self.ram=ram\n",
    "        self.cpu=cpu\n",
    "        self.storage=storage\n",
    "        \n",
    "    def execute_process(self):\n",
    "        self.cpu.process()\n",
    "        self.ram.read_data()\n",
    "        self.storage.store_data()\n",
    "        \n",
    "        \n",
    "cpu1=CPU('i5','2.6')\n",
    "ram1=RAM(8)\n",
    "storage1=Storage_devices(512,'SSD')\n",
    "system=Computer_system(cpu1,ram1,storage1)\n",
    "system.execute_process()"
   ]
  },
  {
   "cell_type": "markdown",
   "id": "2a4888b1",
   "metadata": {},
   "source": [
    "9. Describe the concept of \"delegation\" in composition and how it simplifies the design of complex systems."
   ]
  },
  {
   "cell_type": "markdown",
   "id": "21c73aa2",
   "metadata": {},
   "source": [
    "In the context of composition, delegation refers to the mechanism by which a containing object (composite) delegates tasks or responsibilities to its component objects. Instead of implementing the functionality directly, the containing object relies on its components to perform specific tasks on its behalf. Delegation allows the containing object to leverage the functionality provided by its components, enabling the construction of complex systems from simpler building blocks.\n",
    "\n",
    "Delegation simplifies the design of complex systems in several ways:\n",
    "\n",
    "i.Modularity: Delegation promotes modularity by breaking down complex systems into smaller, self-contained components. Each component encapsulates a specific set of functionality or behavior, making it easier to understand, test, and maintain.\n",
    "\n",
    "ii.Encapsulation: Delegation enhances encapsulation by hiding the internal implementation details of components within the containing object. Components provide a clean, well-defined interface for interacting with the containing object, reducing dependencies and minimizing the impact of changes.\n",
    "\n",
    "iii.Code Reuse: Delegation promotes code reuse by allowing components to be shared across different containing objects. Components encapsulate reusable functionality that can be leveraged by multiple containing objects, leading to more modular and maintainable code.\n",
    "\n",
    "iv.Flexibility: Delegation offers greater flexibility in designing and evolving systems. Components can be added, replaced, or removed as needed, providing greater adaptability to changing requirements. The containing object can dynamically delegate tasks to different components at runtime, enabling the system to adjust its behavior based on specific conditions or configurations."
   ]
  },
  {
   "cell_type": "markdown",
   "id": "6b3001e9",
   "metadata": {},
   "source": [
    "10. Create a Python class for a car, using composition to represent components like the engine, wheels, and transmission."
   ]
  },
  {
   "cell_type": "code",
   "execution_count": 23,
   "id": "056f4845",
   "metadata": {},
   "outputs": [
    {
     "name": "stdout",
     "output_type": "stream",
     "text": [
      "Shub has bought MG Hector.\n",
      "This is a 4 cylinder Petrol Engine.\n",
      "The measurement of the tyre is 18 inch\n",
      "The transmission of this vehicle is Manual\n"
     ]
    }
   ],
   "source": [
    "class Engine:\n",
    "    def __init__(self,engine_cylinder,fuel_type):\n",
    "        self.engine_cylinder=engine_cylinder\n",
    "        self.fuel_type=fuel_type\n",
    "        \n",
    "    def engine_function(self):\n",
    "        print(f'This is a {self.engine_cylinder} cylinder {self.fuel_type} Engine.')\n",
    "        \n",
    "class Wheels:\n",
    "    def __init__(self,tyre_Size):\n",
    "        self.tyre_Size=tyre_Size\n",
    "        \n",
    "    def tyre_measure(self):\n",
    "        print(f'The measurement of the tyre is {self.tyre_Size}')\n",
    "        \n",
    "class Transmission:\n",
    "    def __init__(self,transmission):\n",
    "        self.transmission=transmission\n",
    "        \n",
    "    def check_transmission(self):\n",
    "        print(f'The transmission of this vehicle is {self.transmission}')\n",
    "        \n",
    "class Car:\n",
    "    def __init__(self,brand,model,engine,wheels,trans):\n",
    "        self.brand=brand\n",
    "        self.model=model\n",
    "        self.engine=engine\n",
    "        self.wheels=wheels\n",
    "        self.trans=trans\n",
    "        \n",
    "    def vehicle_operation(self):\n",
    "        self.engine.engine_function()\n",
    "        self.wheels.tyre_measure()\n",
    "        self.trans.check_transmission()\n",
    "        \n",
    "engine1=Engine(4,'Petrol')\n",
    "wheels1=Wheels('18 inch')\n",
    "trans1=Transmission('Manual')\n",
    "car1=Car('MG','Hector',engine1,wheels1,trans1)\n",
    "print(f'Shub has bought {car1.brand} {car1.model}.')\n",
    "car1.vehicle_operation()"
   ]
  },
  {
   "cell_type": "markdown",
   "id": "00db18ad",
   "metadata": {},
   "source": [
    "11. How can you encapsulate and hide the details of composed objects in Python classes to maintain abstraction?"
   ]
  },
  {
   "cell_type": "markdown",
   "id": "4e4a826a",
   "metadata": {},
   "source": [
    "To encapsulate and hide the details of composed objects in Python classes to maintain abstraction, you can follow these best practices:\n",
    "\n",
    "i.Private Attributes:\n",
    "\n",
    "Use private attributes (attributes prefixed with a single underscore _) to hide the details of composed objects from external access. Private attributes indicate that they are intended for internal use within the class and should not be accessed directly from outside the class.\n",
    "\n",
    "ii.Accessor Methods:\n",
    "\n",
    "Provide accessor methods (getter and setter methods) to access and modify the state of composed objects indirectly. These methods allow controlled access to the internal attributes of the composed objects, enabling encapsulation and abstraction while hiding the implementation details.\n",
    "\n",
    "iii.Information Hiding:\n",
    "\n",
    "Hide implementation details of composed objects by providing high-level interfaces that expose only the necessary functionality to the external world. Encapsulate complex operations and interactions with composed objects within the class, exposing only simplified interfaces to the users of the class.\n",
    "\n",
    "iv.Use Abstraction Layers:\n",
    "\n",
    "Implement abstraction layers to hide the complexity of composed objects and provide a simplified and unified interface to interact with them. Abstract away the implementation details of composed objects by defining clear boundaries and interfaces between different layers of abstraction.\n",
    "\n",
    "v.Composition Over Inheritance:\n",
    "\n",
    "Prefer composition over inheritance when designing class relationships, as composition allows for greater encapsulation and flexibility. Compose objects from smaller, reusable components, and delegate tasks to them as needed, hiding the details of the composed objects within the containing class.\n",
    "\n",
    "vi.Docstrings and Documentation:\n",
    "\n",
    "Document the public interfaces and behaviors of your classes using docstrings and documentation comments. Clearly describe the purpose, usage, and expected behavior of each method and attribute to guide users of the class in interacting with composed objects.\n",
    "\n",
    "vii.Encapsulation and Information Hiding:\n",
    "\n",
    "Follow the principles of encapsulation and information hiding to restrict access to the internal state and behavior of composed objects. Encapsulate data and functionality within the class, exposing only the necessary interfaces and hiding the implementation details to maintain abstraction and modularity.\n"
   ]
  },
  {
   "cell_type": "markdown",
   "id": "a9d1f0f8",
   "metadata": {},
   "source": [
    "12. Create a Python class for a university course, using composition to represent students, instructors, and course materials."
   ]
  },
  {
   "cell_type": "code",
   "execution_count": 2,
   "id": "90748106",
   "metadata": {},
   "outputs": [
    {
     "name": "stdout",
     "output_type": "stream",
     "text": [
      "Course Code:1121\n",
      "Course Name:Learn Music\n",
      "Instructor:Instructor ID:101,Instructor Name:Honey Sir\n",
      "Students\n",
      "Student ID:Subh, Name:1\n",
      "Student ID:AP, Name:2\n",
      "Course Material\n",
      "Course Material:TextBook\n",
      "Course Material:Reading book\n"
     ]
    }
   ],
   "source": [
    "class Students:\n",
    "    def __init__(self,name,student_id):\n",
    "        self.student_id=student_id\n",
    "        self.name=name\n",
    "        \n",
    "    def __str__(self):\n",
    "        return f'Student ID:{self.student_id}, Name:{self.name}'\n",
    "    \n",
    "class Instructors:\n",
    "    def __init__(self,instructor_id,name):\n",
    "        self.instructor_id=instructor_id\n",
    "        self.name=name\n",
    "        \n",
    "    def __str__(self):\n",
    "        return f'Instructor ID:{self.instructor_id},Instructor Name:{self.name}'\n",
    "    \n",
    "class Course_Materials:\n",
    "    def __init__(self,material_name):\n",
    "        self.material_name=material_name\n",
    "        \n",
    "    def __str__(self):\n",
    "        return f'Course Material:{self.material_name}'\n",
    "    \n",
    "class University_Course:\n",
    "    def __init__(self,course_code,course_name):\n",
    "        self.course_code=course_code\n",
    "        self.course_name=course_name\n",
    "        self.students=[]\n",
    "        self.instructor=None\n",
    "        self.course_materials=[]\n",
    "        \n",
    "    def add_student(self, student):\n",
    "        self.students.append(student)\n",
    "        \n",
    "    def set_instructor(self,instructor):\n",
    "        self.instructor=instructor\n",
    "        \n",
    "    def add_course_material(self,material):\n",
    "        self.course_materials.append(material)\n",
    "        \n",
    "    def display_info(self):\n",
    "        print(f'Course Code:{self.course_code}')\n",
    "        print(f'Course Name:{self.course_name}')\n",
    "        \n",
    "        print(f'Instructor:{self.instructor}')\n",
    "        \n",
    "        print('Students')\n",
    "        for student in self.students:\n",
    "            print(student)\n",
    "        \n",
    "        print('Course Material')\n",
    "        for material in self.course_materials:\n",
    "            print(material)\n",
    "            \n",
    "            \n",
    "student1=Students(1,\"Subh\")\n",
    "student2=Students(2,'AP')\n",
    "\n",
    "instructor=Instructors(101,'Honey Sir')\n",
    "\n",
    "material1=Course_Materials('TextBook')\n",
    "material2=Course_Materials('Reading book')\n",
    "\n",
    "course=University_Course(1121,\"Learn Music\")\n",
    "course.add_student(student1)\n",
    "course.add_student(student2)\n",
    "course.set_instructor(instructor)\n",
    "course.add_course_material(material1)\n",
    "course.add_course_material(material2)\n",
    "\n",
    "course.display_info()"
   ]
  },
  {
   "cell_type": "markdown",
   "id": "24301771",
   "metadata": {},
   "source": [
    "13. Discuss the challenges and drawbacks of composition, such as increased complexity and potential for tight coupling between objects."
   ]
  },
  {
   "cell_type": "markdown",
   "id": "c05c0bd6",
   "metadata": {},
   "source": [
    "While composition offers many advantages, such as flexibility, code reuse, and encapsulation, it also comes with its own set of challenges and drawbacks. Some of the challenges and drawbacks of composition include:\n",
    "\n",
    "i.Increased Complexity:\n",
    "\n",
    "Composition can lead to increased complexity, especially when dealing with multiple levels of nesting or interconnected components. Managing the relationships between various components and coordinating their interactions can become challenging, making the codebase harder to understand, debug, and maintain.\n",
    "\n",
    "ii.Potential for Tight Coupling:\n",
    "\n",
    "Composition can result in tight coupling between objects, especially if the containing object relies heavily on its components' internal details. Tight coupling makes the codebase less modular and more resistant to changes, as modifications to one component may require corresponding changes to other components.\n",
    "\n",
    "iii.Dependency Management:\n",
    "\n",
    "Managing dependencies between components can be challenging in a composition-based design. Changes to one component may have cascading effects on other components, leading to ripple effects throughout the system. This can make it difficult to isolate and test individual components in isolation.\n",
    "\n",
    "iv.Inheritance vs. Composition Dilemma:\n",
    "\n",
    "Choosing between inheritance and composition can be a dilemma, as both approaches have their own strengths and weaknesses. Composition is often favored over inheritance for its flexibility and modularity, but it requires careful design and coordination to avoid pitfalls such as tight coupling and increased complexity."
   ]
  },
  {
   "cell_type": "markdown",
   "id": "d43344fc",
   "metadata": {},
   "source": [
    "14. Create a Python class hierarchy for a restaurant system, using composition to represent menus, dishes, and ingredients."
   ]
  },
  {
   "cell_type": "code",
   "execution_count": 7,
   "id": "da1512bf",
   "metadata": {},
   "outputs": [
    {
     "name": "stdout",
     "output_type": "stream",
     "text": [
      "Restaurant: Fine Dining Restaurant\n",
      " Menus:Lunch Menu\n",
      "DishesGrilled CHicken:Juicy Grilled Chicken\n",
      "Ingridients:200 grams of Chicken, 300 grams of Potato, Pulao:Rice Potato Pulao\n",
      "Ingridients:300 grams of Potato, 500 grams of Rice, Dinner Menu\n",
      "DishesGrilled CHicken:Juicy Grilled Chicken\n",
      "Ingridients:200 grams of Chicken, 300 grams of Potato, Diet Dish:Chicken & Brocolli\n",
      "Ingridients:200 grams of Chicken, 2 Units of Brocolli\n"
     ]
    }
   ],
   "source": [
    "class Ingrdient:\n",
    "    def __init__(self,name,quantity,unit):\n",
    "        self.name=name\n",
    "        self.quantity=quantity\n",
    "        self.unit=unit\n",
    "        \n",
    "    def __str__(self):\n",
    "        return f'{self.quantity} {self.unit} of {self.name}'\n",
    "    \n",
    "class Dish:\n",
    "    def __init__(self,name,description,ingridients):\n",
    "        self.name=name\n",
    "        self.description=description\n",
    "        self.ingridients=ingridients\n",
    "        \n",
    "    def __str__(self):\n",
    "        return f'{self.name}:{self.description}\\nIngridients:{\", \".join(map(str,self.ingridients))}'\n",
    "        \n",
    "class Menu:\n",
    "    def __init__(self,name,dishes):\n",
    "        self.name=name\n",
    "        self.dishes=dishes\n",
    "        \n",
    "    def __str__(self):\n",
    "        return f'{self.name}\\nDishes{\", \".join(map(str,self.dishes))}'\n",
    "        \n",
    "class Restaurant:\n",
    "    def __init__(self,name,menus):\n",
    "        self.name=name\n",
    "        self.menus=menus\n",
    "        \n",
    "    def __str__(self):\n",
    "        return f'Restaurant: {self.name}\\n Menus:{\", \".join(map(str,self.menus))}'\n",
    "    \n",
    "ingridient1=Ingrdient('Chicken',200,'grams')\n",
    "ingridient2=Ingrdient('Potato',300,'grams')\n",
    "ingridient3=Ingrdient('Rice',500,'grams')\n",
    "ingridient4=Ingrdient('Brocolli',2,'Units')\n",
    "\n",
    "dish1=Dish('Grilled CHicken','Juicy Grilled Chicken',[ingridient1,ingridient2])\n",
    "dish2=Dish('Pulao','Rice Potato Pulao',[ingridient2,ingridient3])\n",
    "dish3=Dish('Diet Dish','Chicken & Brocolli',[ingridient1,ingridient4])\n",
    "\n",
    "menu1=Menu('Lunch Menu',[dish1,dish2])\n",
    "menu2=Menu('Dinner Menu',[dish1,dish3])\n",
    "\n",
    "restaurant=Restaurant('Fine Dining Restaurant',[menu1,menu2])\n",
    "\n",
    "print(restaurant)\n"
   ]
  },
  {
   "cell_type": "markdown",
   "id": "09c16bab",
   "metadata": {},
   "source": [
    "15. Explain how composition enhances code maintainability and modularity in Python programs."
   ]
  },
  {
   "cell_type": "markdown",
   "id": "0b38dc1b",
   "metadata": {},
   "source": [
    "Composition enhances code maintainability and modularity in Python programs in several ways:\n",
    "\n",
    "i.Encapsulation:\n",
    "\n",
    "Composition promotes encapsulation by allowing objects to hide their internal implementation details and expose only well-defined interfaces. Each component encapsulates a specific set of functionality or behavior, making it easier to understand, test, and maintain.\n",
    "\n",
    "ii.Modularity:\n",
    "\n",
    "Composition breaks down complex systems into smaller, self-contained modules or components. Each component represents a distinct piece of functionality, encapsulated within its own object. This modular design makes the codebase more modular and easier to manage, as changes to one component are less likely to have ripple effects on other components.\n",
    "\n",
    "iii.Code Reusability:\n",
    "\n",
    "Composition promotes code reuse by allowing components to be shared across different objects and reused in various contexts. Components encapsulate reusable functionality that can be leveraged by multiple objects, leading to more modular and maintainable code.\n",
    "\n",
    "iv.Flexibility:\n",
    "\n",
    "Composition offers greater flexibility in designing and evolving systems. Components can be added, replaced, or removed as needed, providing greater adaptability to changing requirements. Objects can be composed dynamically at runtime, and components can be customized or extended to meet specific needs.\n",
    "\n",
    "v.Separation of Concerns:\n",
    "\n",
    "Composition encourages separation of concerns by assigning specific responsibilities to different components. Each component is responsible for a distinct aspect of functionality, making the overall system easier to understand and reason about. Separation of concerns improves maintainability and reduces the risk of unintended side effects."
   ]
  },
  {
   "cell_type": "markdown",
   "id": "7c292604",
   "metadata": {},
   "source": [
    "16. Create a Python class for a computer game character, using composition to represent attributes like weapons, armor, and inventory."
   ]
  },
  {
   "cell_type": "code",
   "execution_count": 14,
   "id": "b4acdae5",
   "metadata": {},
   "outputs": [
    {
     "name": "stdout",
     "output_type": "stream",
     "text": [
      "Hero attacks with total damage:15\n",
      "Hero defends with total defense: 10\n",
      "Inventory of Hero\n",
      "Health Potion:3\n"
     ]
    }
   ],
   "source": [
    "class Weapon:\n",
    "    def __init__(self,name,damage):\n",
    "        self.name=name\n",
    "        self.damage=damage\n",
    "        \n",
    "    def __str__(self):\n",
    "        return f'Weapon: {self.name},Damage:{self.damage}'\n",
    "    \n",
    "class Armor:\n",
    "    def __init__(self,name,defense):\n",
    "        self.name=name\n",
    "        self.defense=defense\n",
    "        \n",
    "    def __str__(self):\n",
    "        return f\"Armor: {self.name} Defense:{self.defense}\"\n",
    "    \n",
    "class InventoryItem:\n",
    "    def __init__(self,name,quantity):\n",
    "        self.name=name\n",
    "        self.quantity=quantity\n",
    "        \n",
    "    def __str__(self):\n",
    "        return f\"{self.name}:{self.quantity}\"\n",
    "        \n",
    "class GameCharacter:\n",
    "    def __init__(self,name,health,weapons=None,armors=None,inventory=None):\n",
    "        self.name=name\n",
    "        self.health=health\n",
    "        self.weapons=weapons or []\n",
    "        self.armors=armors or []\n",
    "        self.inventory=inventory or []\n",
    "        \n",
    "    def equip_weapon(self,weapon):\n",
    "        self.weapons.append(weapon)\n",
    "        \n",
    "    def equip_armor(self,armor):\n",
    "        self.armors.append(armor)\n",
    "        \n",
    "    def add_to_inventory(self,item):\n",
    "        existing_item=next((inv_item for inv_item in self.inventory if inv_item.name==item.name),None)\n",
    "        if existing_item:\n",
    "            existing_item.quantity+=item.quantity\n",
    "            \n",
    "        else:\n",
    "            self.inventory.append(item)\n",
    "            \n",
    "    def attack(self):\n",
    "        total_damage=sum(weapon.damage for weapon in self.weapons)\n",
    "        print(f'{self.name} attacks with total damage:{total_damage}')\n",
    "        \n",
    "    def defend(self):\n",
    "        total_defense=sum(armor.defense for armor in self.armors)\n",
    "        print(f'{self.name} defends with total defense: {total_defense}')\n",
    "        \n",
    "    def display_inventory(self):\n",
    "        print(f'Inventory of {self.name}')\n",
    "        for item in self.inventory:\n",
    "            print(item)\n",
    "            \n",
    "    def __str__(self):\n",
    "        return f\"Game Character: {self.name}\\nHealth: {self.health}\\n Weapons:{', '.join(map(str,self.weapons))}\\nArmor: {', '.join(str,self.armors)}\"\n",
    "   \n",
    "sword=Weapon('Sword',15)\n",
    "shield=Armor('Shield',10)\n",
    "health_potion=InventoryItem('Health Potion',3)\n",
    "\n",
    "player=GameCharacter('Hero',100,[sword],[shield],[health_potion])\n",
    "\n",
    "player.attack()\n",
    "player.defend()\n",
    "player.display_inventory()"
   ]
  },
  {
   "cell_type": "markdown",
   "id": "885c8a3c",
   "metadata": {},
   "source": [
    "17. Describe the concept of \"aggregation\" in composition and how it differs from simple composition."
   ]
  },
  {
   "cell_type": "markdown",
   "id": "1bfad3d7",
   "metadata": {},
   "source": [
    "In object-oriented programming, aggregation is a form of composition where one object contains another object as a part or component. Aggregation represents a \"has-a\" relationship between objects, similar to simple composition. However, the key difference between aggregation and simple composition lies in the lifecycle and ownership relationship between the containing object (composite) and the contained object (component).\n",
    "\n",
    "Here's how aggregation differs from simple composition:\n",
    "\n",
    "i.Ownership Relationship:\n",
    "\n",
    ".In simple composition, the containing object owns the contained object, and the lifecycle of the contained object is tied to the lifecycle of the containing object. This means that when the containing object is destroyed, the contained object is also destroyed.\n",
    "\n",
    ".In aggregation, the containing object does not necessarily own the contained object. Instead, the contained object may exist independently of the containing object and may be shared among multiple containing objects. The containing object holds a reference to the contained object, but it does not control its creation or destruction.\n",
    "\n",
    "ii.Ownership Transfer:\n",
    "\n",
    ".In simple composition, the containing object is responsible for creating and destroying the contained object. The contained object is created when the containing object is instantiated, and it is destroyed when the containing object is destroyed.\n",
    "\n",
    ".In aggregation, the containing object may hold a reference to an existing instance of the contained object, which may have been created elsewhere. The containing object does not control the creation or destruction of the contained object, and it may hold a reference to the same contained object as other containing objects.\n",
    "\n",
    "iii.Multiplicity:\n",
    "\n",
    ".Aggregation allows for multiplicity, meaning that a containing object may hold references to multiple instances of the contained object. These instances may be created independently and may exist simultaneously, allowing the containing object to manage multiple instances of the contained object.\n",
    "\n",
    "iv.Strong vs. Weak Relationship:\n",
    "\n",
    "In simple composition, the relationship between the containing object and the contained object is typically strong and tightly coupled. The containing object owns and controls the lifecycle of the contained object.\n",
    "In aggregation, the relationship between the containing object and the contained object is weaker and more loosely coupled. The containing object may hold a reference to the contained object, but it does not own or control its lifecycle."
   ]
  },
  {
   "cell_type": "markdown",
   "id": "facc4b41",
   "metadata": {},
   "source": [
    "18. Create a Python class for a house, using composition to represent rooms, furniture, and appliances."
   ]
  },
  {
   "cell_type": "code",
   "execution_count": 18,
   "id": "8c2ef4ef",
   "metadata": {},
   "outputs": [
    {
     "name": "stdout",
     "output_type": "stream",
     "text": [
      "House: Sweet Home\n",
      "Rooms:\n",
      "Room: Living Room\n",
      " Furniture:Furniture: Sofa, Furniture: Chair\n",
      " Appliances:Appliance: TV, Appliance: Speaker\n",
      ", Room: Kitchen\n",
      " Furniture:Furniture: Dining Table\n",
      " Appliances:Appliance: Microwave, Appliance: Mixer\n",
      ", Room: BedRoom\n",
      " Furniture:Furniture: bed, Furniture: Wardrobe\n",
      " Appliances:Appliance: lamp\n",
      "\n"
     ]
    }
   ],
   "source": [
    "class Furniture:\n",
    "    def __init__(self,name):\n",
    "        self.name=name\n",
    "        \n",
    "    def __str__(self):\n",
    "        return f'Furniture: {self.name}'\n",
    "    \n",
    "class Appliance:\n",
    "    def __init__(self,name):\n",
    "        self.name=name\n",
    "        \n",
    "    def __str__(self):\n",
    "        return f'Appliance: {self.name}'\n",
    "    \n",
    "class Room:\n",
    "    def __init__(self,name,furniture=None,appliances=None):\n",
    "        self.name=name\n",
    "        self.furniture=furniture or []\n",
    "        self.appliances=appliances or []\n",
    "        \n",
    "    def add_furniture(self,furniture):\n",
    "        self.furniture.append(furniture)\n",
    "        \n",
    "    def add_appliances(self,appliances):\n",
    "        self.appliances.append(appliances)\n",
    "        \n",
    "    def __str__(self):\n",
    "        return f'Room: {self.name}\\n Furniture:{\", \".join(map(str,self.furniture))}\\n Appliances:{\", \".join(map(str,self.appliances))}\\n'\n",
    "class House:\n",
    "    def __init__(self,name,rooms=None):\n",
    "        self.name=name\n",
    "        self.rooms=rooms or []\n",
    "        \n",
    "    def add_room(self,room):\n",
    "        self.rooms.append(room)\n",
    "        \n",
    "    def __str__(self):\n",
    "        return f\"House: {self.name}\\nRooms:\\n{', '.join(map(str,self.rooms))}\"\n",
    "living_room=Room('Living Room',[Furniture('Sofa'), Furniture('Chair')],[Appliance('TV'),Appliance('Speaker')])\n",
    "\n",
    "kitchen=Room('Kitchen',[Furniture('Dining Table')],[Appliance('Microwave'),Appliance('Mixer')])\n",
    "\n",
    "bedroom=Room('BedRoom',[Furniture('bed'),Furniture('Wardrobe')],[Appliance('lamp')])\n",
    "\n",
    "my_house=House('Sweet Home',[living_room,kitchen,bedroom])\n",
    "\n",
    "print(my_house)\n",
    "        \n",
    "        "
   ]
  },
  {
   "cell_type": "markdown",
   "id": "564f4624",
   "metadata": {},
   "source": [
    "19. How can you achieve flexibility in composed objects by allowing them to be replaced or modified dynamically at runtime?"
   ]
  },
  {
   "cell_type": "markdown",
   "id": "a141dd8d",
   "metadata": {},
   "source": [
    "Achieving flexibility in composed objects by allowing them to be replaced or modified dynamically at runtime involves designing the composition structure in a way that supports dynamic changes without requiring modifications to the containing objects or the surrounding code. Several techniques can be employed to achieve this flexibility:\n",
    "\n",
    "i.Interface-Based Design:\n",
    "\n",
    "Define interfaces or abstract classes for the components involved in the composition. The containing objects interact with the components through their interfaces, allowing different implementations of the components to be used interchangeably.\n",
    "\n",
    "ii.Dependency Injection:\n",
    "\n",
    "Use dependency injection to inject the components into the containing objects at runtime. This allows the components to be replaced or modified dynamically without changing the containing objects. Dependency injection frameworks or patterns, such as constructor injection or setter injection, can be used to facilitate this.\n",
    "\n",
    "iii.Factory Pattern:\n",
    "\n",
    "Implement a factory pattern to dynamically create instances of the components based on runtime conditions or configurations. The factory can produce different implementations of the components as needed, allowing for flexibility in composing objects.\n",
    "\n",
    "iv.Strategy Pattern:\n",
    "\n",
    "Apply the strategy pattern to encapsulate algorithms or behaviors as interchangeable strategies. The containing objects can use different strategies at runtime, allowing them to adapt their behavior dynamically without modifying their structure.\n",
    "\n",
    "v.Decorator Pattern:\n",
    "\n",
    "Use the decorator pattern to dynamically add or remove functionality to the components or containing objects at runtime. Decorators wrap the components with additional behavior, allowing for flexible composition and modification of object behavior.\n",
    "\n",
    "vi.Event Handling:\n",
    "\n",
    "Implement event handling mechanisms to decouple the containing objects from the components. Components can raise events to notify containing objects of state changes or actions, allowing the containing objects to respond dynamically to these events.\n",
    "\n",
    "vii.Configuration-Based Composition:\n",
    "\n",
    "Define configuration files or scripts that specify the composition structure and the components to be used. The containing objects can read these configurations at runtime and dynamically instantiate or replace components based on the configuration settings.\n",
    "\n",
    "viii.Dynamic Binding and Polymorphism:\n",
    "\n",
    "Leverage dynamic binding and polymorphism to allow containing objects to interact with components through their common interface. This enables different implementations of the components to be swapped or replaced at runtime without affecting the behavior of the containing objects.\n"
   ]
  },
  {
   "cell_type": "markdown",
   "id": "a99a7e2e",
   "metadata": {},
   "source": [
    "20. Create a Python class for a social media application, using composition to represent users, posts, and comments."
   ]
  },
  {
   "cell_type": "code",
   "execution_count": 27,
   "id": "63206d55",
   "metadata": {},
   "outputs": [
    {
     "name": "stdout",
     "output_type": "stream",
     "text": [
      "Social Media App: Insta\n",
      "Users:\n",
      "User: Priya\n",
      "Bio:Love to code.\n",
      "Posts:1\n",
      ", User: Kiran\n",
      "Bio:Traveller.\n",
      "Posts:1\n",
      "\n"
     ]
    }
   ],
   "source": [
    "class Comment:\n",
    "    def __init__(self,user,text):\n",
    "        self.user=user\n",
    "        self.text=text\n",
    "        \n",
    "    def __str__(self):\n",
    "        return f'{self.user}:{self.text}'\n",
    "class Post:\n",
    "    def __init__(self,user,text,comments=None):\n",
    "        self.user=user\n",
    "        self.text=text\n",
    "        self.comments=comments or []\n",
    "        \n",
    "    def add_comment(self,comment):\n",
    "        self.comments.append(comment)\n",
    "        \n",
    "    def __str__(self):\n",
    "        post_info=f'{self.user} posted {self.text}'\n",
    "        \n",
    "        if self.comments:\n",
    "            comments_info='\\nComments:'\n",
    "            for cmnt in self.comments:\n",
    "                comments_info+=f'\\n {cmnt}'\n",
    "                \n",
    "            return post_info+comments_info\n",
    "        else:\n",
    "            return post_info\n",
    "        \n",
    "        \n",
    "class User:\n",
    "    def __init__(self,username,bio):\n",
    "        self.username=username\n",
    "        self.bio=bio\n",
    "        self.posts=[]\n",
    "        \n",
    "    def create_post(self,text):\n",
    "        post=Post(self.username,text)\n",
    "        self.posts.append(post)\n",
    "        return post\n",
    "    \n",
    "    def add_comment_to_post(self,post,text):\n",
    "        comment=Comment(self.username,text)\n",
    "        post.add_comment(comment)\n",
    "        return comment\n",
    "    \n",
    "    def __str__(self):\n",
    "        return f\"User: {self.username}\\nBio:{self.bio}\\nPosts:{len(self.posts)}\\n\"\n",
    "\n",
    "class SocialMediaApp:\n",
    "    def __init__(self,name,users=None):\n",
    "        self.name=name\n",
    "        self.users=users or []\n",
    "        \n",
    "    def add_user(self,user):\n",
    "        self.users.append(user)\n",
    "        \n",
    "    def __str__(self):\n",
    "        return f\"Social Media App: {self.name}\\nUsers:\\n{', '.join(map(str, self.users))}\"\n",
    "    \n",
    "user1=User('Priya','Love to code.')\n",
    "user2=User('Kiran','Traveller.')\n",
    "\n",
    "post1=user1.create_post('Excited about new thing')\n",
    "comment1=user2.add_comment_to_post(post1,'Great Job')\n",
    "\n",
    "post2=user2.create_post('Just arrived')\n",
    "comment2=user1.add_comment_to_post(post2,'Wow')\n",
    "\n",
    "social_media_app=SocialMediaApp('Insta',[user1,user2])\n",
    "print(social_media_app)"
   ]
  }
 ],
 "metadata": {
  "kernelspec": {
   "display_name": "Python 3 (ipykernel)",
   "language": "python",
   "name": "python3"
  },
  "language_info": {
   "codemirror_mode": {
    "name": "ipython",
    "version": 3
   },
   "file_extension": ".py",
   "mimetype": "text/x-python",
   "name": "python",
   "nbconvert_exporter": "python",
   "pygments_lexer": "ipython3",
   "version": "3.11.5"
  }
 },
 "nbformat": 4,
 "nbformat_minor": 5
}
